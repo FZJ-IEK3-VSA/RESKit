{
 "cells": [
  {
   "cell_type": "code",
   "execution_count": 1,
   "metadata": {
    "execution": {
     "iopub.execute_input": "2020-08-20T10:30:15.235307Z",
     "iopub.status.busy": "2020-08-20T10:30:15.234309Z",
     "iopub.status.idle": "2020-08-20T10:30:17.615087Z",
     "shell.execute_reply": "2020-08-20T10:30:17.613081Z"
    },
    "papermill": {
     "duration": 2.404747,
     "end_time": "2020-08-20T10:30:17.616079",
     "exception": false,
     "start_time": "2020-08-20T10:30:15.211332",
     "status": "completed"
    },
    "tags": []
   },
   "outputs": [],
   "source": [
    "import reskit as rk\n",
    "import pandas as pd"
   ]
  },
  {
   "cell_type": "code",
   "execution_count": 2,
   "metadata": {
    "execution": {
     "iopub.execute_input": "2020-08-20T10:30:17.639078Z",
     "iopub.status.busy": "2020-08-20T10:30:17.635081Z",
     "iopub.status.idle": "2020-08-20T10:30:21.600536Z",
     "shell.execute_reply": "2020-08-20T10:30:21.599535Z"
    },
    "papermill": {
     "duration": 3.975454,
     "end_time": "2020-08-20T10:30:21.600536",
     "exception": false,
     "start_time": "2020-08-20T10:30:17.625082",
     "status": "completed"
    },
    "tags": []
   },
   "outputs": [
    {
     "data": {
      "text/plain": [
       "(0.40453174731507285, 0.33833227998192256)"
      ]
     },
     "execution_count": 2,
     "metadata": {},
     "output_type": "execute_result"
    }
   ],
   "source": [
    "xds = rk.wind.onshore_wind_merra_ryberg2019_europe(\n",
    "    placements = pd.read_csv(rk.TEST_DATA[\"turbine_placements.csv\"]),\n",
    "    merra_path=rk.TEST_DATA['merra-like'],\n",
    "    gwa_50m_path=rk.TEST_DATA['gwa50-like.tif'],\n",
    "    clc2012_path=rk.TEST_DATA['clc-aachen_clipped.tif'],\n",
    ")\n",
    "\n",
    "xds['capacity_factor'].values.mean(), xds['capacity_factor'].values.std()"
   ]
  },
  {
   "cell_type": "code",
   "execution_count": 3,
   "metadata": {
    "execution": {
     "iopub.execute_input": "2020-08-20T10:30:21.618535Z",
     "iopub.status.busy": "2020-08-20T10:30:21.617593Z",
     "iopub.status.idle": "2020-08-20T10:30:24.989526Z",
     "shell.execute_reply": "2020-08-20T10:30:24.988525Z"
    },
    "papermill": {
     "duration": 3.383972,
     "end_time": "2020-08-20T10:30:24.989526",
     "exception": false,
     "start_time": "2020-08-20T10:30:21.605554",
     "status": "completed"
    },
    "tags": []
   },
   "outputs": [
    {
     "data": {
      "text/plain": [
       "(0.34981461531337804, 0.32420360254562874)"
      ]
     },
     "execution_count": 3,
     "metadata": {},
     "output_type": "execute_result"
    }
   ],
   "source": [
    "xds = rk.wind.onshore_wind_era5_unvalidated(\n",
    "    placements = pd.read_csv(rk.TEST_DATA[\"turbine_placements.csv\"]),\n",
    "    era5_path=rk.TEST_DATA['era5-like'],\n",
    "    gwa_100m_path=rk.TEST_DATA['gwa100-like.tif'],\n",
    "    esa_cci_path=rk.TEST_DATA['ESA_CCI_2018_clip.tif'],\n",
    ")\n",
    "\n",
    "xds['capacity_factor'].values.mean(), xds['capacity_factor'].values.std()"
   ]
  },
  {
   "cell_type": "code",
   "execution_count": 4,
   "metadata": {
    "execution": {
     "iopub.execute_input": "2020-08-20T10:30:25.011751Z",
     "iopub.status.busy": "2020-08-20T10:30:25.010494Z",
     "iopub.status.idle": "2020-08-20T10:30:27.931636Z",
     "shell.execute_reply": "2020-08-20T10:30:27.931636Z"
    },
    "papermill": {
     "duration": 2.937141,
     "end_time": "2020-08-20T10:30:27.932635",
     "exception": false,
     "start_time": "2020-08-20T10:30:24.995494",
     "status": "completed"
    },
    "tags": []
   },
   "outputs": [
    {
     "data": {
      "text/plain": [
       "(0.5903494109421509, 0.331578738906698)"
      ]
     },
     "execution_count": 4,
     "metadata": {},
     "output_type": "execute_result"
    }
   ],
   "source": [
    "xds = rk.wind.offshore_wind_merra_caglayan2019(\n",
    "    placements = pd.read_csv(rk.TEST_DATA[\"turbine_placements.csv\"]),\n",
    "    merra_path=rk.TEST_DATA['merra-like'],\n",
    ")\n",
    "\n",
    "xds['capacity_factor'].values.mean(), xds['capacity_factor'].values.std()"
   ]
  },
  {
   "cell_type": "code",
   "execution_count": 5,
   "metadata": {
    "execution": {
     "iopub.execute_input": "2020-08-20T10:30:27.951606Z",
     "iopub.status.busy": "2020-08-20T10:30:27.951606Z",
     "iopub.status.idle": "2020-08-20T10:30:30.954165Z",
     "shell.execute_reply": "2020-08-20T10:30:30.954165Z"
    },
    "papermill": {
     "duration": 3.014529,
     "end_time": "2020-08-20T10:30:30.954165",
     "exception": false,
     "start_time": "2020-08-20T10:30:27.939636",
     "status": "completed"
    },
    "tags": []
   },
   "outputs": [
    {
     "data": {
      "text/plain": [
       "(0.4131239749613535, 0.32629905458042363)"
      ]
     },
     "execution_count": 5,
     "metadata": {},
     "output_type": "execute_result"
    }
   ],
   "source": [
    "xds = rk.wind.offshore_wind_era5_unvalidated(\n",
    "    placements = pd.read_csv(rk.TEST_DATA[\"turbine_placements.csv\"]),\n",
    "    era5_path=rk.TEST_DATA['era5-like'],\n",
    ")\n",
    "\n",
    "xds['capacity_factor'].values.mean(), xds['capacity_factor'].values.std()"
   ]
  },
  {
   "cell_type": "code",
   "execution_count": null,
   "metadata": {
    "papermill": {
     "duration": 0.007033,
     "end_time": "2020-08-20T10:30:30.969167",
     "exception": false,
     "start_time": "2020-08-20T10:30:30.962134",
     "status": "completed"
    },
    "tags": []
   },
   "outputs": [],
   "source": []
  }
 ],
 "metadata": {
  "kernelspec": {
   "display_name": "Python 3.8.1 64-bit ('sevpy': conda)",
   "language": "python",
   "name": "python38164bitsevpycondadf692df3b17b4950b5f3d38ac966c15d"
  },
  "language_info": {
   "codemirror_mode": {
    "name": "ipython",
    "version": 3
   },
   "file_extension": ".py",
   "mimetype": "text/x-python",
   "name": "python",
   "nbconvert_exporter": "python",
   "pygments_lexer": "ipython3",
   "version": "3.8.1"
  },
  "papermill": {
   "duration": 17.541846,
   "end_time": "2020-08-20T10:30:31.384771",
   "environment_variables": {},
   "exception": null,
   "input_path": "C:\\Users\\s.ryberg\\FZJ\\repos\\res\\test\\..\\examples\\Wind_Workflows.ipynb",
   "output_path": "Wind_Workflows.ipynb",
   "parameters": {},
   "start_time": "2020-08-20T10:30:13.842925",
   "version": "2.1.2"
  }
 },
 "nbformat": 4,
 "nbformat_minor": 4
}