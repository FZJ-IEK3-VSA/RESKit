{
 "cells": [
  {
   "cell_type": "markdown",
   "metadata": {},
   "source": [
    "# Estimate Turbine Capital Cost\n",
    "\n",
    "* RESKit can suggest a turbine capital cost based on turbie and site characteristics\n",
    "    * Cost values are intended for a far future context (~2050)\n",
    "* For onshore turbines: Capacity, hub height, and rotor diameter are considered \n",
    "* For offshore turbines: Capacity, hub height, rotor diameter, distance from shore, sea depth, and foundation are considered "
   ]
  },
  {
   "cell_type": "code",
   "execution_count": 1,
   "metadata": {},
   "outputs": [],
   "source": [
    "import reskit as rk"
   ]
  },
  {
   "cell_type": "code",
   "execution_count": 2,
   "metadata": {},
   "outputs": [
    {
     "name": "stdout",
     "output_type": "stream",
     "text": [
      "Estimated capital cost is 4,620,000 € (1100€ /kW)\n"
     ]
    }
   ],
   "source": [
    "# Get onshore capex for one location\n",
    "capex = rk.wind.onshore_turbine_capex(\n",
    "    capacity=4200,  # Assume 4.2 MW nameplete capacity\n",
    "    rotor_diam=136,  # Assume 136 meter rotor diameter\n",
    "    hub_height=120,  # Assume 125 meter hub height\n",
    ")\n",
    "\n",
    "\n",
    "print(\"Estimated capital cost is {:,.0f} € ({:.0f}€ /kW)\".format(capex, capex / 4200))"
   ]
  },
  {
   "cell_type": "code",
   "execution_count": 3,
   "metadata": {},
   "outputs": [
    {
     "data": {
      "text/plain": [
       "array([4620000.        , 4310088.0555251 , 4434952.68445882,\n",
       "       4327065.82780477, 4360843.31337947, 4325658.37372616,\n",
       "       4324108.1517855 , 4366916.4312893 , 4534069.263737  ,\n",
       "       4386226.91002757])"
      ]
     },
     "execution_count": 3,
     "metadata": {},
     "output_type": "execute_result"
    }
   ],
   "source": [
    "# Get onshore capex for one location\n",
    "capexs = rk.wind.onshore_turbine_capex(\n",
    "    capacity=[\n",
    "        4200,\n",
    "        3325,\n",
    "        3836,\n",
    "        3451,\n",
    "        3604,\n",
    "        3439,\n",
    "        3447,\n",
    "        3631,\n",
    "        4039,\n",
    "        3684,\n",
    "    ],\n",
    "    rotor_diam=[\n",
    "        136,\n",
    "        136,\n",
    "        136,\n",
    "        136,\n",
    "        136,\n",
    "        136,\n",
    "        136,\n",
    "        136,\n",
    "        136,\n",
    "        136,\n",
    "    ],\n",
    "    hub_height=[\n",
    "        120,\n",
    "        174,\n",
    "        138,\n",
    "        164,\n",
    "        153,\n",
    "        165,\n",
    "        164,\n",
    "        151,\n",
    "        128,\n",
    "        148,\n",
    "    ],\n",
    ")\n",
    "\n",
    "capexs"
   ]
  },
  {
   "cell_type": "code",
   "execution_count": 4,
   "metadata": {},
   "outputs": [
    {
     "name": "stdout",
     "output_type": "stream",
     "text": [
      "Estimated capital cost is 16,745,973 € (2093€ /kW)\n"
     ]
    }
   ],
   "source": [
    "# Get offshore capex for one location\n",
    "capex = rk.wind.offshore_turbine_capex(\n",
    "    capacity=8000,  # Assume 4.2 MW nameplete capacity\n",
    "    rotor_diam=150,  # Assume 136 meter rotor diameter\n",
    "    hub_height=110,  # Assume 125 meter hub height\n",
    "    depth=75,  # Assume depth of 75 m\n",
    "    distance_to_shore=30,  # Assume a shore sitance of 30 km\n",
    "    foundation=\"monopile\",\n",
    ")\n",
    "\n",
    "\n",
    "print(\"Estimated capital cost is {:,.0f} € ({:.0f}€ /kW)\".format(capex, capex / 8000))"
   ]
  },
  {
   "cell_type": "code",
   "execution_count": null,
   "metadata": {},
   "outputs": [],
   "source": []
  }
 ],
 "metadata": {
  "kernelspec": {
   "display_name": "Python 3",
   "language": "python",
   "name": "python3"
  },
  "language_info": {
   "codemirror_mode": {
    "name": "ipython",
    "version": 3
   },
   "file_extension": ".py",
   "mimetype": "text/x-python",
   "name": "python",
   "nbconvert_exporter": "python",
   "pygments_lexer": "ipython3",
   "version": "3.8.2"
  }
 },
 "nbformat": 4,
 "nbformat_minor": 4
}
