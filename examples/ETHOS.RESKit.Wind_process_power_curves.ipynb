{
 "cells": [
  {
   "cell_type": "markdown",
   "metadata": {},
   "source": [
    "# Process power curve from external source (thewindpower.net)\n",
    "This script illustrates how to process power curves from an external source (thewindpower.net) to use them within RESKit.\n",
    "\n"
   ]
  },
  {
   "cell_type": "code",
   "execution_count": 3,
   "metadata": {},
   "outputs": [],
   "source": [
    "import reskit as rk\n",
    "import pandas as pd\n",
    "import numpy as np\n",
    "import shutil\n",
    "import os\n",
    "# get base path of current file\n",
    "base_path = os.path.dirname(__file__)"
   ]
  },
  {
   "cell_type": "code",
   "execution_count": 9,
   "metadata": {},
   "outputs": [],
   "source": [
    "# Define path to the power curves and turbine library from thewindpower.net\n",
    "path_power_curves = r\"Power_curves_20230708.xls\"\n",
    "path_turbine_library = r\"Turbines_20230708.xls\"\n",
    "\n",
    "# Note: specify the path to the RESKit repo\n",
    "PATH_TO_RESKIT_REPO = os.path.join(base_path, \"..\")\n",
    "output_folder = os.path.join(\"PATH_TO_RESKIT_REPO\", \"reskit\", \"wind\", \"core\", \"data\", \"turbines\")\n",
    "# specify the source of the data for information purposes\n",
    "source = \"World Wind Farms 2023\""
   ]
  },
  {
   "cell_type": "code",
   "execution_count": 13,
   "metadata": {},
   "outputs": [],
   "source": [
    "df_power_curves = pd.read_excel(path_power_curves, sheet_name=\"Power_curves\",header=[0,1])\n",
    "\n",
    "df_turbine_library = pd.read_excel(path_turbine_library, sheet_name=\"Turbines\", skiprows=[1])\n",
    "df_turbine_library[\"Name\"] = df_turbine_library[\"Name\"].astype(str)\n",
    "df_turbine_library[\"Manufacturer\"] = df_turbine_library[\"Manufucturer\"].astype(str)  # also rename typo\n",
    "\n",
    "template_dict = {\n",
    "    \"Manufacturer\": None,\n",
    "    \"Model\": None,\n",
    "    \"Capacity\": None,\n",
    "    \"Usage\": None,\n",
    "    \"HubHeight\": None,\n",
    "    \"Source\": source,\n",
    "    \"RotorDiameter\": None,\n",
    "    \"Power curve\": None,\n",
    "    \"windspeed(m/s)\": \"power(kW)\"\n",
    "}\n",
    "\n",
    "\n",
    "ws_list = df_power_curves.columns.levels[1].tolist()[0:71]\n"
   ]
  },
  {
   "cell_type": "code",
   "execution_count": 14,
   "metadata": {},
   "outputs": [
    {
     "data": {
      "text/plain": [
       "Manufacturer          AAER\n",
       "Model           A1000_AAER\n",
       "Capacity              1000\n",
       "Usage              Onshore\n",
       "HubHeight           70, 82\n",
       "                   ...    \n",
       "33.0                     0\n",
       "33.5                     0\n",
       "34.0                     0\n",
       "34.5                     0\n",
       "35.0                     0\n",
       "Length: 80, dtype: object"
      ]
     },
     "execution_count": 14,
     "metadata": {},
     "output_type": "execute_result"
    }
   ],
   "source": [
    "if not os.path.exists(output_folder):\n",
    "    os.makedirs(output_folder)\n",
    "\n",
    "for i, row in df_power_curves.iterrows():\n",
    "    \n",
    "    single_turbine_df = pd.DataFrame.from_dict(template_dict, orient=\"index\").squeeze()\n",
    "    \n",
    "    # turbine_lib\n",
    "    turbine_id = row[\"Turb. ID\"].values[0]\n",
    "    turbine_lib_info = df_turbine_library.loc[df_turbine_library[\"ID\"] == turbine_id].squeeze()\n",
    "    \n",
    "    single_turbine_df.loc[\"Manufacturer\"] = row[\"Manufucturer Name\"].values[0]\n",
    "    manufacturer = row[\"Manufucturer Name\"].values[0].replace(\" \", \"_\")\n",
    "    model_TWP = row[\"Turbine Name\"].astype(str).values[0]\n",
    "    model_RESKit = model_TWP.replace(\"/\", \"-\").replace(\" \", \"_\")\n",
    "    \n",
    "    # manufacturer is added to avoid duplicates\n",
    "    model_RESKit = f\"{model_RESKit}_{manufacturer}\"\n",
    "    \n",
    "    single_turbine_df.loc[\"Model\"] = model_RESKit\n",
    "    single_turbine_df.loc[\"Capacity\"] = turbine_lib_info[\"Rated power\"]\n",
    "    if turbine_lib_info[\"Offshore\"] == \"No\":\n",
    "        onshore_offshore = \"Onshore\"\n",
    "    elif turbine_lib_info[\"Offshore\"] == \"Yes\":\n",
    "        onshore_offshore = \"Offshore\"\n",
    "    else:\n",
    "        onshore_offshore = None\n",
    "    \n",
    "    single_turbine_df.loc[\"Usage\"] = onshore_offshore\n",
    "    min_hub_height = turbine_lib_info[\"Minimum hub height\"]\n",
    "    max_hub_height = turbine_lib_info[\"Maximum hub height\"]\n",
    "    \n",
    "    if min_hub_height == \"#ND\":\n",
    "        min_hub_height = np.nan\n",
    "        max_hub_height = np.nan\n",
    "    \n",
    "    \n",
    "    single_turbine_df.loc[\"HubHeight\"] = f\"{min_hub_height}, {max_hub_height}\"\n",
    "    single_turbine_df.loc[\"RotorDiameter\"] = float(turbine_lib_info[\"Rotor diameter\"])\n",
    "    \n",
    "    # read power curve\n",
    "    pc_values = row[4:75].values\n",
    "    pc_df_turbine = pd.Series(pc_values, index=ws_list)   \n",
    "    \n",
    "    single_turbine_df = pd.concat([single_turbine_df, pc_df_turbine], axis=0)\n",
    "\n",
    "    single_turbine_df.to_csv(f\"{output_folder}/{model_RESKit}.csv\", index=True, header=False)"
   ]
  },
  {
   "cell_type": "code",
   "execution_count": null,
   "metadata": {},
   "outputs": [],
   "source": []
  }
 ],
 "metadata": {
  "kernelspec": {
   "display_name": "reskit_paper",
   "language": "python",
   "name": "python3"
  },
  "language_info": {
   "codemirror_mode": {
    "name": "ipython",
    "version": 3
   },
   "file_extension": ".py",
   "mimetype": "text/x-python",
   "name": "python",
   "nbconvert_exporter": "python",
   "pygments_lexer": "ipython3",
   "version": "3.10.8"
  }
 },
 "nbformat": 4,
 "nbformat_minor": 2
}
