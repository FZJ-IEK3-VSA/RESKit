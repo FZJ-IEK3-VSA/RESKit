{
 "cells": [
  {
   "cell_type": "code",
   "execution_count": 5,
   "id": "08849764",
   "metadata": {},
   "outputs": [],
   "source": [
    "### import usefull packages\n",
    "\n",
    "import sys\n",
    "import os \n",
    "import cdsapi\n",
    "from collections import OrderedDict\n",
    "from os.path import join as jn\n",
    "import numpy as np"
   ]
  },
  {
   "cell_type": "code",
   "execution_count": 6,
   "id": "352e997e",
   "metadata": {},
   "outputs": [],
   "source": [
    "### \"raw_dir\" this is the directory where the data will be downloaded, please set it as appropiate. \n",
    "### \"raw\" must be contained in the name of the directory since we are downloading raw data\n",
    "### Version control is also necesary.\n",
    "\n",
    "version='v01062024'\n",
    "raw_dir=f'/ExampleLocation/WeatherData/ERA5/raw/{version}/'"
   ]
  },
  {
   "cell_type": "code",
   "execution_count": 18,
   "id": "66dfe497",
   "metadata": {},
   "outputs": [],
   "source": [
    "### this are custumable input parameters:\n",
    "\n",
    "\n",
    "### \"variables\": are a list of tuples (source, variable) according to the data you are interested in downloading\n",
    "### \"years_to_download\": a list of years to be dowloaded\n",
    "### \"months_to_download\": a list of two-digit strings representing the month of the year\n",
    "### \"days_to_download\": a list of two-digit strings representing the days of the month\n",
    "### \"hours_to_download\": a list of strings representing the hours of the day\n",
    "### \"area_to_download\": the geographical extent of the data that we want to download (Xmax,Ymin,Xmin,Ymax)\n",
    "\n",
    "\n",
    "\n",
    "\n",
    "variables = [ ('reanalysis-era5-single-levels', '100m_u_component_of_wind'),\n",
    "              ('reanalysis-era5-single-levels', '100m_v_component_of_wind'),\n",
    "              ('reanalysis-era5-single-levels', 'surface_pressure'),\n",
    "              ('reanalysis-era5-single-levels', '2m_temperature')]\n",
    "\n",
    "years_to_download=np.arange(2018,2021,1)\n",
    "\n",
    "months_to_download=[\n",
    "    '01', '02', '03',\n",
    "    '04', '05', '06',\n",
    "    '07', '08', '09',\n",
    "    '10', '11', '12',]\n",
    "\n",
    "\n",
    "days_to_download=[\n",
    "    '01', '02', '03',\n",
    "    '04', '05', '06',\n",
    "    '07', '08', '09',\n",
    "    '10', '11', '12',\n",
    "    '13', '14', '15',\n",
    "    '16', '17', '18',\n",
    "    '19', '20', '21',\n",
    "    '22', '23', '24',\n",
    "    '25', '26', '27',\n",
    "    '28', '29','30',\n",
    "    '31'\n",
    "    ]\n",
    "hours_to_download=[\n",
    "    '00:00', '01:00', '02:00',\n",
    "    '03:00', '04:00', '05:00',\n",
    "    '06:00', '07:00', '08:00',\n",
    "    '09:00', '10:00', '11:00',\n",
    "    '12:00', '13:00', '14:00',\n",
    "    '15:00', '16:00', '17:00',\n",
    "    '18:00', '19:00', '20:00',\n",
    "    '21:00', '22:00', \n",
    "    '23:00',\n",
    "    ]\n",
    "\n",
    "area_to_download: [55, 5, 45,15,]\n"
   ]
  },
  {
   "cell_type": "code",
   "execution_count": null,
   "id": "46ab6584",
   "metadata": {
    "scrolled": true
   },
   "outputs": [
    {
     "name": "stderr",
     "output_type": "stream",
     "text": [
      "2023-05-08 16:04:42,797 INFO Welcome to the CDS\n",
      "2023-05-08 16:04:42,797 INFO Sending request to https://cds.climate.copernicus.eu/api/v2/resources/reanalysis-era5-single-levels\n",
      "2023-05-08 16:04:42,855 INFO Request is queued\n"
     ]
    },
    {
     "name": "stdout",
     "output_type": "stream",
     "text": [
      "DOWNLOADING: 2018\n",
      "reanalysis-era5-single-levels.2018.sub_surface_runoff.nc\n"
     ]
    },
    {
     "name": "stderr",
     "output_type": "stream",
     "text": [
      "2023-05-08 16:04:51,120 INFO Request is running\n",
      "2023-05-08 16:25:03,024 INFO Request is completed\n",
      "2023-05-08 16:25:03,024 INFO Downloading https://download-0016.copernicus-climate.eu/cache-compute-0016/cache/data0/adaptor.mars.internal-1683555212.335926-29164-15-e9526df3-6c82-47ca-936e-6dc7c96fffd9.nc to /storage_cluster/users/gears/weather/ERA5/raw/hydropower_data/2018/reanalysis-era5-single-levels.2018.sub_surface_runoff.nc (16.9G)\n",
      "2023-05-08 16:38:14,621 INFO Download rate 21.9M/s                                               \n",
      "2023-05-08 16:38:14,796 INFO Welcome to the CDS\n",
      "2023-05-08 16:38:14,797 INFO Sending request to https://cds.climate.copernicus.eu/api/v2/resources/reanalysis-era5-single-levels\n",
      "2023-05-08 16:38:14,889 INFO Request is queued\n"
     ]
    },
    {
     "name": "stdout",
     "output_type": "stream",
     "text": [
      " DONE \n",
      "reanalysis-era5-single-levels.2018.surface_runoff.nc\n"
     ]
    },
    {
     "name": "stderr",
     "output_type": "stream",
     "text": [
      "2023-05-08 16:38:15,922 INFO Request is running\n",
      "2023-05-08 16:58:34,779 INFO Request is completed\n",
      "2023-05-08 16:58:34,780 INFO Downloading https://download-0008-clone.copernicus-climate.eu/cache-compute-0008/cache/data6/adaptor.mars.internal-1683557209.826173-10817-20-ecc345fa-1bdd-4aa9-81b6-403a919677c3.nc to /storage_cluster/users/gears/weather/ERA5/raw/hydropower_data/2018/reanalysis-era5-single-levels.2018.surface_runoff.nc (16.9G)\n",
      "2023-05-08 17:04:04,475 INFO Download rate 52.6M/s                                               \n",
      "2023-05-08 17:04:04,637 INFO Welcome to the CDS\n",
      "2023-05-08 17:04:04,637 INFO Sending request to https://cds.climate.copernicus.eu/api/v2/resources/reanalysis-era5-single-levels\n",
      "2023-05-08 17:04:04,743 INFO Request is queued\n"
     ]
    },
    {
     "name": "stdout",
     "output_type": "stream",
     "text": [
      " DONE \n",
      "reanalysis-era5-single-levels.2018.runoff.nc\n",
      "already downloaded: skipped\n",
      "####################\n",
      "DOWNLOADING: 2019\n",
      "reanalysis-era5-single-levels.2019.sub_surface_runoff.nc\n"
     ]
    },
    {
     "name": "stderr",
     "output_type": "stream",
     "text": [
      "2023-05-08 17:04:05,774 INFO Request is running\n"
     ]
    }
   ],
   "source": [
    "#### this code does the following in a loop for the input parameters in the last cell:\n",
    "### 1) creates a \"YEAR_path\" directory inside of the \"raw_dir\" directory if it is not already created\n",
    "### 2) forms an 'OUTPUT' file path inside of the \"YEAR_path\" directory and checks if it already exists\n",
    "###     A) if it exists, it is assumed to be already downloaded and skipped \n",
    "###     B) it not, it downloads it and calls it accoriding to the \"OUTPUT\" file name\n",
    "\n",
    "for YEAR in years_to_download:\n",
    "\n",
    "    YEAR_path=jn(raw_dir,str(YEAR))\n",
    "    if not os.path.isdir( YEAR_path ): \n",
    "        os.mkdir(YEAR_path)\n",
    "        print(YEAR_path)\n",
    "    print(\"DOWNLOADING:\", YEAR)\n",
    "    \n",
    "    for SOURCE, VARIABLE in variables:\n",
    "            file_name='{}.{}.{}.nc'.format(SOURCE, YEAR, VARIABLE)\n",
    "            OUTPUT = os.path.join(YEAR_path,file_name )\n",
    "            print(file_name)\n",
    "            if os.path.isfile(OUTPUT):\n",
    "                print(\"already downloaded: skipped\")\n",
    "            else:\n",
    "            \n",
    "                c = cdsapi.Client()            \n",
    "            \n",
    "                c.retrieve(SOURCE,\n",
    "                           {'product_type': 'reanalysis',\n",
    "                           'area':area_to_download,\n",
    "                           'variable': [VARIABLE,],\n",
    "                           'year': str(YEAR),\n",
    "                           'month': months_to_download,\n",
    "                           'day': days_to_download,\n",
    "                           'time': hours_to_download,\n",
    "                           'format': 'netcdf',}, \n",
    "                           OUTPUT)    \n",
    "\n",
    "                print(\" DONE \")\n",
    "\n",
    "    print( \"####################\")"
   ]
  }
 ],
 "metadata": {
  "kernelspec": {
   "display_name": "Python 3 (ipykernel)",
   "language": "python",
   "name": "python3"
  },
  "language_info": {
   "codemirror_mode": {
    "name": "ipython",
    "version": 3
   },
   "file_extension": ".py",
   "mimetype": "text/x-python",
   "name": "python",
   "nbconvert_exporter": "python",
   "pygments_lexer": "ipython3",
   "version": "3.9.7"
  }
 },
 "nbformat": 4,
 "nbformat_minor": 5
}
