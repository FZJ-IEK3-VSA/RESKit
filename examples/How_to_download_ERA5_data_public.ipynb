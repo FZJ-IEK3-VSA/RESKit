{
 "cells": [
  {
   "cell_type": "code",
   "execution_count": 1,
   "id": "08849764",
   "metadata": {},
   "outputs": [],
   "source": [
    "### imports\n",
    "\n",
    "import cdsapi\n",
    "import numpy as np\n",
    "import os\n",
    "import sys\n",
    "from collections import OrderedDict\n",
    "from os.path import join as jn\n",
    "from pathlib import Path"
   ]
  },
  {
   "cell_type": "code",
   "execution_count": 2,
   "id": "352e997e",
   "metadata": {},
   "outputs": [
    {
     "name": "stdout",
     "output_type": "stream",
     "text": [
      "Directory for specified version: /fast/home/j-hu/data/weather_data/corpenicus/ERA5/raw/v2024-06-27\n"
     ]
    }
   ],
   "source": [
    "### \"raw_dir\" this is the directory where the data will be downloaded, please set it as appropiate.\n",
    "### \"raw\" must be contained in the name of the directory since we are downloading raw data\n",
    "### Version control is also necesary.\n",
    "\n",
    "version = \"v2024-06-27\"\n",
    "\n",
    "# The following directory must exist (manually created by the user).\n",
    "# This is not automated to avoid accidentally creating files in the user OS.\n",
    "raw_dir = os.path.expanduser(f\"~/data/weather_data/corpenicus/ERA5/raw\")\n",
    "\n",
    "version_dir = f\"{raw_dir}/{version}\"  # append with version label\n",
    "print(\"Directory for specified version:\", version_dir)"
   ]
  },
  {
   "cell_type": "code",
   "execution_count": 5,
   "id": "66dfe497",
   "metadata": {},
   "outputs": [],
   "source": [
    "### this are customisable input parameters:\n",
    "\n",
    "\n",
    "### \"variables\": are a list of tuples (source, variable) according to the data you are interested in downloading\n",
    "### \"years_to_download\": a list of years to be dowloaded\n",
    "### \"months_to_download\": a list of two-digit strings representing the month of the year\n",
    "### \"days_to_download\": a list of two-digit strings representing the days of the month\n",
    "### \"hours_to_download\": a list of strings representing the hours of the day\n",
    "### \"area_to_download\": the geographical extent of the data that we want to download (Xmax,Ymin,Xmin,Ymax)\n",
    "\n",
    "\n",
    "variables = [\n",
    "    (\"reanalysis-era5-single-levels\", \"100m_u_component_of_wind\"),\n",
    "    (\"reanalysis-era5-single-levels\", \"100m_v_component_of_wind\"),\n",
    "    (\"reanalysis-era5-single-levels\", \"surface_pressure\"),\n",
    "    (\"reanalysis-era5-single-levels\", \"boundary_layer_height\"),\n",
    "    (\"reanalysis-era5-single-levels\", \"2m_temperature\"),\n",
    "]\n",
    "\n",
    "years_to_download = np.arange(2019, 2020, 1)\n",
    "\n",
    "months_to_download = [\n",
    "    \"01\",\n",
    "    \"02\",\n",
    "    \"03\",\n",
    "    \"04\",\n",
    "    \"05\",\n",
    "    \"06\",\n",
    "    \"07\",\n",
    "    \"08\",\n",
    "    \"09\",\n",
    "    \"10\",\n",
    "    \"11\",\n",
    "    \"12\",\n",
    "]\n",
    "\n",
    "days_to_download = [\n",
    "    \"01\",\n",
    "    \"02\",\n",
    "    \"03\",\n",
    "    \"04\",\n",
    "    \"05\",\n",
    "    \"06\",\n",
    "    \"07\",\n",
    "    \"08\",\n",
    "    \"09\",\n",
    "    \"10\",\n",
    "    \"11\",\n",
    "    \"12\",\n",
    "    \"13\",\n",
    "    \"14\",\n",
    "    \"15\",\n",
    "    \"16\",\n",
    "    \"17\",\n",
    "    \"18\",\n",
    "    \"19\",\n",
    "    \"20\",\n",
    "    \"21\",\n",
    "    \"22\",\n",
    "    \"23\",\n",
    "    \"24\",\n",
    "    \"25\",\n",
    "    \"26\",\n",
    "    \"27\",\n",
    "    \"28\",\n",
    "    \"29\",\n",
    "    \"30\",\n",
    "    \"31\",\n",
    "]\n",
    "\n",
    "hours_to_download = [\n",
    "    \"00:00\",\n",
    "    \"01:00\",\n",
    "    \"02:00\",\n",
    "    \"03:00\",\n",
    "    \"04:00\",\n",
    "    \"05:00\",\n",
    "    \"06:00\",\n",
    "    \"07:00\",\n",
    "    \"08:00\",\n",
    "    \"09:00\",\n",
    "    \"10:00\",\n",
    "    \"11:00\",\n",
    "    \"12:00\",\n",
    "    \"13:00\",\n",
    "    \"14:00\",\n",
    "    \"15:00\",\n",
    "    \"16:00\",\n",
    "    \"17:00\",\n",
    "    \"18:00\",\n",
    "    \"19:00\",\n",
    "    \"20:00\",\n",
    "    \"21:00\",\n",
    "    \"22:00\",\n",
    "    \"23:00\",\n",
    "]\n",
    "\n",
    "area_to_download = [\n",
    "    55,\n",
    "    5,\n",
    "    45,\n",
    "    15,\n",
    "]  # area for Germany, change if necessary"
   ]
  },
  {
   "cell_type": "code",
   "execution_count": 6,
   "id": "46ab6584",
   "metadata": {
    "scrolled": true
   },
   "outputs": [
    {
     "name": "stderr",
     "output_type": "stream",
     "text": [
      "2024-06-27 11:42:47,515 INFO Welcome to the CDS\n",
      "2024-06-27 11:42:47,516 INFO Sending request to https://cds.climate.copernicus.eu/api/v2/resources/reanalysis-era5-single-levels\n"
     ]
    },
    {
     "name": "stdout",
     "output_type": "stream",
     "text": [
      "/fast/home/j-hu/data/weather_data/corpenicus/ERA5/raw/v2024-06-27/2019 was created.\n",
      "DOWNLOADING YEAR: 2019\n",
      "reanalysis-era5-single-levels.2019.100m_u_component_of_wind.nc\n"
     ]
    },
    {
     "name": "stderr",
     "output_type": "stream",
     "text": [
      "2024-06-27 11:42:47,594 INFO Request is completed\n",
      "2024-06-27 11:42:47,595 INFO Downloading https://download-0014-clone.copernicus-climate.eu/cache-compute-0014/cache/data4/adaptor.mars.internal-1719478940.155022-1801-6-520e24d7-661b-4b65-902a-0f2699a9dab0.nc to /fast/home/j-hu/data/weather_data/corpenicus/ERA5/raw/v2024-06-27/2019/reanalysis-era5-single-levels.2019.100m_u_component_of_wind.nc (28.1M)\n",
      "2024-06-27 11:42:48,267 INFO Download rate 41.8M/s  \n",
      "2024-06-27 11:42:48,337 INFO Welcome to the CDS\n",
      "2024-06-27 11:42:48,337 INFO Sending request to https://cds.climate.copernicus.eu/api/v2/resources/reanalysis-era5-single-levels\n",
      "2024-06-27 11:42:48,439 INFO Request is completed\n",
      "2024-06-27 11:42:48,440 INFO Downloading https://download-0013-clone.copernicus-climate.eu/cache-compute-0013/cache/data0/adaptor.mars.internal-1719479708.864158-31793-5-8deead54-f09f-4785-b75d-1def4397ca92.nc to /fast/home/j-hu/data/weather_data/corpenicus/ERA5/raw/v2024-06-27/2019/reanalysis-era5-single-levels.2019.100m_v_component_of_wind.nc (28.1M)\n"
     ]
    },
    {
     "name": "stdout",
     "output_type": "stream",
     "text": [
      " OPERATION DONE \n",
      "reanalysis-era5-single-levels.2019.100m_v_component_of_wind.nc\n"
     ]
    },
    {
     "name": "stderr",
     "output_type": "stream",
     "text": [
      "2024-06-27 11:42:51,653 INFO Download rate 8.8M/s   \n",
      "2024-06-27 11:42:51,725 INFO Welcome to the CDS\n",
      "2024-06-27 11:42:51,726 INFO Sending request to https://cds.climate.copernicus.eu/api/v2/resources/reanalysis-era5-single-levels\n",
      "2024-06-27 11:42:51,838 INFO Request is completed\n",
      "2024-06-27 11:42:51,838 INFO Downloading https://download-0006-clone.copernicus-climate.eu/cache-compute-0006/cache/data9/adaptor.mars.internal-1719480530.7508433-12178-17-715b802a-580e-4541-bbd3-91c63d75894d.nc to /fast/home/j-hu/data/weather_data/corpenicus/ERA5/raw/v2024-06-27/2019/reanalysis-era5-single-levels.2019.surface_pressure.nc (28.1M)\n"
     ]
    },
    {
     "name": "stdout",
     "output_type": "stream",
     "text": [
      " OPERATION DONE \n",
      "reanalysis-era5-single-levels.2019.surface_pressure.nc\n"
     ]
    },
    {
     "name": "stderr",
     "output_type": "stream",
     "text": [
      "2024-06-27 11:42:53,677 INFO Download rate 15.3M/s  \n",
      "2024-06-27 11:42:53,753 INFO Welcome to the CDS\n",
      "2024-06-27 11:42:53,754 INFO Sending request to https://cds.climate.copernicus.eu/api/v2/resources/reanalysis-era5-single-levels\n",
      "2024-06-27 11:42:53,824 INFO Request is queued\n"
     ]
    },
    {
     "name": "stdout",
     "output_type": "stream",
     "text": [
      " OPERATION DONE \n",
      "reanalysis-era5-single-levels.2019.2m_temperature.nc\n"
     ]
    },
    {
     "name": "stderr",
     "output_type": "stream",
     "text": [
      "2024-06-27 11:45:45,198 INFO Request is completed\n",
      "2024-06-27 11:45:45,199 INFO Downloading https://download-0005-clone.copernicus-climate.eu/cache-compute-0005/cache/data6/adaptor.mars.internal-1719481474.672658-25673-9-ab13f096-5dd3-4334-948f-d8c7b19d1bfb.nc to /fast/home/j-hu/data/weather_data/corpenicus/ERA5/raw/v2024-06-27/2019/reanalysis-era5-single-levels.2019.2m_temperature.nc (28.1M)\n",
      "2024-06-27 11:45:45,843 INFO Download rate 43.7M/s  \n"
     ]
    },
    {
     "name": "stdout",
     "output_type": "stream",
     "text": [
      " OPERATION DONE \n",
      "####################\n"
     ]
    }
   ],
   "source": [
    "#### this code does the following in a loop for the input parameters in the last cell:\n",
    "### 1) creates a \"year_path\" directory inside of the \"raw_dir\" directory if it is not already created\n",
    "### 2) forms an 'OUTPUT' file path inside of the \"year_path\" directory and checks if it already exists\n",
    "###     A) if it exists, it is assumed to be already downloaded and skipped\n",
    "###     B) it not, it downloads it and calls it accoriding to the \"OUTPUT\" file name\n",
    "\n",
    "# Throw error if raw_dir does not exist\n",
    "if not os.path.isdir(raw_dir):\n",
    "    raise FileNotFoundError(\n",
    "        f\"The specified raw data directory {raw_dir} does not exist. Please create it manually.\"\n",
    "    )\n",
    "\n",
    "if not os.path.isdir(version_dir):\n",
    "    os.mkdir(version_dir)\n",
    "    print(version_dir, \"was created.\")\n",
    "\n",
    "for year in years_to_download:\n",
    "\n",
    "    year_path = jn(version_dir, str(year))\n",
    "    if not os.path.isdir(year_path):\n",
    "        os.mkdir(year_path)\n",
    "        print(year_path, \"was created.\")\n",
    "\n",
    "    print(\"DOWNLOADING YEAR:\", year)\n",
    "\n",
    "    for source, variable in variables:\n",
    "        file_name = \"{}.{}.{}.nc\".format(source, year, variable)\n",
    "        output_file = os.path.join(year_path, file_name)\n",
    "        print(file_name)\n",
    "\n",
    "        if os.path.isfile(output_file):\n",
    "            print(\"already downloaded: skipped\")\n",
    "\n",
    "        else:\n",
    "            c = cdsapi.Client()\n",
    "\n",
    "            c.retrieve(\n",
    "                source,\n",
    "                {\n",
    "                    \"product_type\": \"reanalysis\",\n",
    "                    \"area\": area_to_download,\n",
    "                    \"variable\": [\n",
    "                        variable,\n",
    "                    ],\n",
    "                    \"year\": str(year),\n",
    "                    \"month\": months_to_download,\n",
    "                    \"day\": days_to_download,\n",
    "                    \"time\": hours_to_download,\n",
    "                    \"format\": \"netcdf\",\n",
    "                },\n",
    "                output_file,\n",
    "            )\n",
    "\n",
    "            print(\" OPERATION DONE \")\n",
    "\n",
    "    print(\"####################\")"
   ]
  },
  {
   "cell_type": "code",
   "execution_count": null,
   "id": "f597df82",
   "metadata": {},
   "outputs": [],
   "source": []
  }
 ],
 "metadata": {
  "kernelspec": {
   "display_name": "Python 3 (ipykernel)",
   "language": "python",
   "name": "python3"
  },
  "language_info": {
   "codemirror_mode": {
    "name": "ipython",
    "version": 3
   },
   "file_extension": ".py",
   "mimetype": "text/x-python",
   "name": "python",
   "nbconvert_exporter": "python",
   "pygments_lexer": "ipython3",
   "version": "3.12.4"
  }
 },
 "nbformat": 4,
 "nbformat_minor": 5
}
