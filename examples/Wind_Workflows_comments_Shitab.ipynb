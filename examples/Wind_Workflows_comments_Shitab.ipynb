{
 "cells": [
  {
   "cell_type": "code",
   "execution_count": 3,
   "metadata": {},
   "outputs": [
    {
     "output_type": "stream",
     "name": "stdout",
     "text": [
      "C:\\Users\\d.franzmann\\Anaconda3\\envs\\reskit\n"
     ]
    }
   ],
   "source": [
    "import sys\n",
    "print(sys.prefix)\n"
   ]
  },
  {
   "cell_type": "code",
   "execution_count": 6,
   "metadata": {},
   "outputs": [],
   "source": [
    "import reskit as rk\n",
    "import pandas as pd"
   ]
  },
  {
   "cell_type": "code",
   "execution_count": 9,
   "metadata": {},
   "outputs": [
    {
     "output_type": "execute_result",
     "data": {
      "text/plain": [
       "'c:\\\\users\\\\d.franzmann\\\\code\\\\reskit\\\\reskit\\\\_test\\\\data\\\\turbine_placements.csv'"
      ]
     },
     "metadata": {},
     "execution_count": 9
    }
   ],
   "source": [
    "rk.TEST_DATA['turbine_placements.csv']"
   ]
  },
  {
   "source": [
    "'''\n",
    "Generate placement designs based on locations from LE.\n",
    "Simulate the placements.\n",
    "Compute CAPEX and LCOE.\n",
    "\n",
    "'''"
   ],
   "cell_type": "markdown",
   "metadata": {}
  },
  {
   "cell_type": "code",
   "execution_count": 13,
   "metadata": {},
   "outputs": [],
   "source": [
    "placements = pd.read_csv(rk.TEST_DATA[\"turbine_placements.csv\"])"
   ]
  },
  {
   "cell_type": "code",
   "execution_count": 14,
   "metadata": {},
   "outputs": [
    {
     "output_type": "execute_result",
     "data": {
      "text/plain": [
       "     capacity  hub_height  rotor_diam       lon        lat\n",
       "0        4000         120         150  5.985195  50.797254\n",
       "1        4000         120         130  5.994685  50.794208\n",
       "2        4000         120         150  5.994107  50.800939\n",
       "3        4000         120         130  6.004750  50.784432\n",
       "4        4000         120         150  6.004174  50.791162\n",
       "..        ...         ...         ...       ...        ...\n",
       "555      4000         120         130  6.323312  50.838893\n",
       "556      4000         120         150  6.322780  50.845625\n",
       "557      4000         120         130  6.333317  50.829087\n",
       "558      4000         120         150  6.332788  50.835820\n",
       "559      4000         120         130  6.332258  50.842552\n",
       "\n",
       "[560 rows x 5 columns]"
      ],
      "text/html": "<div>\n<style scoped>\n    .dataframe tbody tr th:only-of-type {\n        vertical-align: middle;\n    }\n\n    .dataframe tbody tr th {\n        vertical-align: top;\n    }\n\n    .dataframe thead th {\n        text-align: right;\n    }\n</style>\n<table border=\"1\" class=\"dataframe\">\n  <thead>\n    <tr style=\"text-align: right;\">\n      <th></th>\n      <th>capacity</th>\n      <th>hub_height</th>\n      <th>rotor_diam</th>\n      <th>lon</th>\n      <th>lat</th>\n    </tr>\n  </thead>\n  <tbody>\n    <tr>\n      <th>0</th>\n      <td>4000</td>\n      <td>120</td>\n      <td>150</td>\n      <td>5.985195</td>\n      <td>50.797254</td>\n    </tr>\n    <tr>\n      <th>1</th>\n      <td>4000</td>\n      <td>120</td>\n      <td>130</td>\n      <td>5.994685</td>\n      <td>50.794208</td>\n    </tr>\n    <tr>\n      <th>2</th>\n      <td>4000</td>\n      <td>120</td>\n      <td>150</td>\n      <td>5.994107</td>\n      <td>50.800939</td>\n    </tr>\n    <tr>\n      <th>3</th>\n      <td>4000</td>\n      <td>120</td>\n      <td>130</td>\n      <td>6.004750</td>\n      <td>50.784432</td>\n    </tr>\n    <tr>\n      <th>4</th>\n      <td>4000</td>\n      <td>120</td>\n      <td>150</td>\n      <td>6.004174</td>\n      <td>50.791162</td>\n    </tr>\n    <tr>\n      <th>...</th>\n      <td>...</td>\n      <td>...</td>\n      <td>...</td>\n      <td>...</td>\n      <td>...</td>\n    </tr>\n    <tr>\n      <th>555</th>\n      <td>4000</td>\n      <td>120</td>\n      <td>130</td>\n      <td>6.323312</td>\n      <td>50.838893</td>\n    </tr>\n    <tr>\n      <th>556</th>\n      <td>4000</td>\n      <td>120</td>\n      <td>150</td>\n      <td>6.322780</td>\n      <td>50.845625</td>\n    </tr>\n    <tr>\n      <th>557</th>\n      <td>4000</td>\n      <td>120</td>\n      <td>130</td>\n      <td>6.333317</td>\n      <td>50.829087</td>\n    </tr>\n    <tr>\n      <th>558</th>\n      <td>4000</td>\n      <td>120</td>\n      <td>150</td>\n      <td>6.332788</td>\n      <td>50.835820</td>\n    </tr>\n    <tr>\n      <th>559</th>\n      <td>4000</td>\n      <td>120</td>\n      <td>130</td>\n      <td>6.332258</td>\n      <td>50.842552</td>\n    </tr>\n  </tbody>\n</table>\n<p>560 rows × 5 columns</p>\n</div>"
     },
     "metadata": {},
     "execution_count": 14
    }
   ],
   "source": [
    "placements"
   ]
  },
  {
   "cell_type": "code",
   "execution_count": null,
   "metadata": {},
   "outputs": [],
   "source": []
  },
  {
   "cell_type": "code",
   "execution_count": 15,
   "metadata": {},
   "outputs": [],
   "source": [
    "xds = rk.wind.onshore_wind_merra_ryberg2019_europe(\n",
    "                                            placements = placements,\n",
    "                                            merra_path=rk.TEST_DATA['merra-like'],\n",
    "                                            gwa_50m_path=rk.TEST_DATA['gwa50-like.tif'],\n",
    "                                            clc2012_path=rk.TEST_DATA['clc-aachen_clipped.tif'],\n",
    "                                            #output_netcdf_path = \n",
    "                                            #output_variables = ['capacity', 'hub_height', 'capacity_factor']\n",
    "                                            )"
   ]
  },
  {
   "cell_type": "code",
   "execution_count": 16,
   "metadata": {},
   "outputs": [
    {
     "output_type": "execute_result",
     "data": {
      "text/plain": [
       "<xarray.Dataset>\n",
       "Dimensions:                  (location: 560, time: 71)\n",
       "Coordinates:\n",
       "  * location                 (location) int32 0 1 2 3 4 ... 555 556 557 558 559\n",
       "  * time                     (time) datetime64[ns] 2015-01-01T00:30:00 ... 20...\n",
       "Data variables:\n",
       "    capacity                 (location) int64 4000 4000 4000 ... 4000 4000 4000\n",
       "    hub_height               (location) int64 120 120 120 120 ... 120 120 120\n",
       "    rotor_diam               (location) int64 150 130 150 130 ... 130 150 130\n",
       "    lon                      (location) float64 5.985 5.995 ... 6.333 6.332\n",
       "    lat                      (location) float64 50.8 50.79 50.8 ... 50.84 50.84\n",
       "    powerCurve               (location) object 'SPC:226,25' ... 'SPC:301,25'\n",
       "    roughness                (location) float64 0.05 0.05 0.05 ... 0.05 0.05\n",
       "    elevated_wind_speed      (time, location) float64 4.905 5.191 ... 6.12 6.271\n",
       "    surface_pressure         (time, location) float64 1.012e+05 ... 9.999e+04\n",
       "    surface_air_temperature  (time, location) float64 -1.014 -1.044 ... -1.044\n",
       "    capacity_factor          (time, location) float64 0.07082 0.05595 ... 0.1538"
      ],
      "text/html": "<div><svg style=\"position: absolute; width: 0; height: 0; overflow: hidden\">\n<defs>\n<symbol id=\"icon-database\" viewBox=\"0 0 32 32\">\n<path d=\"M16 0c-8.837 0-16 2.239-16 5v4c0 2.761 7.163 5 16 5s16-2.239 16-5v-4c0-2.761-7.163-5-16-5z\"></path>\n<path d=\"M16 17c-8.837 0-16-2.239-16-5v6c0 2.761 7.163 5 16 5s16-2.239 16-5v-6c0 2.761-7.163 5-16 5z\"></path>\n<path d=\"M16 26c-8.837 0-16-2.239-16-5v6c0 2.761 7.163 5 16 5s16-2.239 16-5v-6c0 2.761-7.163 5-16 5z\"></path>\n</symbol>\n<symbol id=\"icon-file-text2\" viewBox=\"0 0 32 32\">\n<path d=\"M28.681 7.159c-0.694-0.947-1.662-2.053-2.724-3.116s-2.169-2.030-3.116-2.724c-1.612-1.182-2.393-1.319-2.841-1.319h-15.5c-1.378 0-2.5 1.121-2.5 2.5v27c0 1.378 1.122 2.5 2.5 2.5h23c1.378 0 2.5-1.122 2.5-2.5v-19.5c0-0.448-0.137-1.23-1.319-2.841zM24.543 5.457c0.959 0.959 1.712 1.825 2.268 2.543h-4.811v-4.811c0.718 0.556 1.584 1.309 2.543 2.268zM28 29.5c0 0.271-0.229 0.5-0.5 0.5h-23c-0.271 0-0.5-0.229-0.5-0.5v-27c0-0.271 0.229-0.5 0.5-0.5 0 0 15.499-0 15.5 0v7c0 0.552 0.448 1 1 1h7v19.5z\"></path>\n<path d=\"M23 26h-14c-0.552 0-1-0.448-1-1s0.448-1 1-1h14c0.552 0 1 0.448 1 1s-0.448 1-1 1z\"></path>\n<path d=\"M23 22h-14c-0.552 0-1-0.448-1-1s0.448-1 1-1h14c0.552 0 1 0.448 1 1s-0.448 1-1 1z\"></path>\n<path d=\"M23 18h-14c-0.552 0-1-0.448-1-1s0.448-1 1-1h14c0.552 0 1 0.448 1 1s-0.448 1-1 1z\"></path>\n</symbol>\n</defs>\n</svg>\n<style>/* CSS stylesheet for displaying xarray objects in jupyterlab.\n *\n */\n\n:root {\n  --xr-font-color0: var(--jp-content-font-color0, rgba(0, 0, 0, 1));\n  --xr-font-color2: var(--jp-content-font-color2, rgba(0, 0, 0, 0.54));\n  --xr-font-color3: var(--jp-content-font-color3, rgba(0, 0, 0, 0.38));\n  --xr-border-color: var(--jp-border-color2, #e0e0e0);\n  --xr-disabled-color: var(--jp-layout-color3, #bdbdbd);\n  --xr-background-color: var(--jp-layout-color0, white);\n  --xr-background-color-row-even: var(--jp-layout-color1, white);\n  --xr-background-color-row-odd: var(--jp-layout-color2, #eeeeee);\n}\n\nhtml[theme=dark],\nbody.vscode-dark {\n  --xr-font-color0: rgba(255, 255, 255, 1);\n  --xr-font-color2: rgba(255, 255, 255, 0.54);\n  --xr-font-color3: rgba(255, 255, 255, 0.38);\n  --xr-border-color: #1F1F1F;\n  --xr-disabled-color: #515151;\n  --xr-background-color: #111111;\n  --xr-background-color-row-even: #111111;\n  --xr-background-color-row-odd: #313131;\n}\n\n.xr-wrap {\n  display: block;\n  min-width: 300px;\n  max-width: 700px;\n}\n\n.xr-text-repr-fallback {\n  /* fallback to plain text repr when CSS is not injected (untrusted notebook) */\n  display: none;\n}\n\n.xr-header {\n  padding-top: 6px;\n  padding-bottom: 6px;\n  margin-bottom: 4px;\n  border-bottom: solid 1px var(--xr-border-color);\n}\n\n.xr-header > div,\n.xr-header > ul {\n  display: inline;\n  margin-top: 0;\n  margin-bottom: 0;\n}\n\n.xr-obj-type,\n.xr-array-name {\n  margin-left: 2px;\n  margin-right: 10px;\n}\n\n.xr-obj-type {\n  color: var(--xr-font-color2);\n}\n\n.xr-sections {\n  padding-left: 0 !important;\n  display: grid;\n  grid-template-columns: 150px auto auto 1fr 20px 20px;\n}\n\n.xr-section-item {\n  display: contents;\n}\n\n.xr-section-item input {\n  display: none;\n}\n\n.xr-section-item input + label {\n  color: var(--xr-disabled-color);\n}\n\n.xr-section-item input:enabled + label {\n  cursor: pointer;\n  color: var(--xr-font-color2);\n}\n\n.xr-section-item input:enabled + label:hover {\n  color: var(--xr-font-color0);\n}\n\n.xr-section-summary {\n  grid-column: 1;\n  color: var(--xr-font-color2);\n  font-weight: 500;\n}\n\n.xr-section-summary > span {\n  display: inline-block;\n  padding-left: 0.5em;\n}\n\n.xr-section-summary-in:disabled + label {\n  color: var(--xr-font-color2);\n}\n\n.xr-section-summary-in + label:before {\n  display: inline-block;\n  content: '►';\n  font-size: 11px;\n  width: 15px;\n  text-align: center;\n}\n\n.xr-section-summary-in:disabled + label:before {\n  color: var(--xr-disabled-color);\n}\n\n.xr-section-summary-in:checked + label:before {\n  content: '▼';\n}\n\n.xr-section-summary-in:checked + label > span {\n  display: none;\n}\n\n.xr-section-summary,\n.xr-section-inline-details {\n  padding-top: 4px;\n  padding-bottom: 4px;\n}\n\n.xr-section-inline-details {\n  grid-column: 2 / -1;\n}\n\n.xr-section-details {\n  display: none;\n  grid-column: 1 / -1;\n  margin-bottom: 5px;\n}\n\n.xr-section-summary-in:checked ~ .xr-section-details {\n  display: contents;\n}\n\n.xr-array-wrap {\n  grid-column: 1 / -1;\n  display: grid;\n  grid-template-columns: 20px auto;\n}\n\n.xr-array-wrap > label {\n  grid-column: 1;\n  vertical-align: top;\n}\n\n.xr-preview {\n  color: var(--xr-font-color3);\n}\n\n.xr-array-preview,\n.xr-array-data {\n  padding: 0 5px !important;\n  grid-column: 2;\n}\n\n.xr-array-data,\n.xr-array-in:checked ~ .xr-array-preview {\n  display: none;\n}\n\n.xr-array-in:checked ~ .xr-array-data,\n.xr-array-preview {\n  display: inline-block;\n}\n\n.xr-dim-list {\n  display: inline-block !important;\n  list-style: none;\n  padding: 0 !important;\n  margin: 0;\n}\n\n.xr-dim-list li {\n  display: inline-block;\n  padding: 0;\n  margin: 0;\n}\n\n.xr-dim-list:before {\n  content: '(';\n}\n\n.xr-dim-list:after {\n  content: ')';\n}\n\n.xr-dim-list li:not(:last-child):after {\n  content: ',';\n  padding-right: 5px;\n}\n\n.xr-has-index {\n  font-weight: bold;\n}\n\n.xr-var-list,\n.xr-var-item {\n  display: contents;\n}\n\n.xr-var-item > div,\n.xr-var-item label,\n.xr-var-item > .xr-var-name span {\n  background-color: var(--xr-background-color-row-even);\n  margin-bottom: 0;\n}\n\n.xr-var-item > .xr-var-name:hover span {\n  padding-right: 5px;\n}\n\n.xr-var-list > li:nth-child(odd) > div,\n.xr-var-list > li:nth-child(odd) > label,\n.xr-var-list > li:nth-child(odd) > .xr-var-name span {\n  background-color: var(--xr-background-color-row-odd);\n}\n\n.xr-var-name {\n  grid-column: 1;\n}\n\n.xr-var-dims {\n  grid-column: 2;\n}\n\n.xr-var-dtype {\n  grid-column: 3;\n  text-align: right;\n  color: var(--xr-font-color2);\n}\n\n.xr-var-preview {\n  grid-column: 4;\n}\n\n.xr-var-name,\n.xr-var-dims,\n.xr-var-dtype,\n.xr-preview,\n.xr-attrs dt {\n  white-space: nowrap;\n  overflow: hidden;\n  text-overflow: ellipsis;\n  padding-right: 10px;\n}\n\n.xr-var-name:hover,\n.xr-var-dims:hover,\n.xr-var-dtype:hover,\n.xr-attrs dt:hover {\n  overflow: visible;\n  width: auto;\n  z-index: 1;\n}\n\n.xr-var-attrs,\n.xr-var-data {\n  display: none;\n  background-color: var(--xr-background-color) !important;\n  padding-bottom: 5px !important;\n}\n\n.xr-var-attrs-in:checked ~ .xr-var-attrs,\n.xr-var-data-in:checked ~ .xr-var-data {\n  display: block;\n}\n\n.xr-var-data > table {\n  float: right;\n}\n\n.xr-var-name span,\n.xr-var-data,\n.xr-attrs {\n  padding-left: 25px !important;\n}\n\n.xr-attrs,\n.xr-var-attrs,\n.xr-var-data {\n  grid-column: 1 / -1;\n}\n\ndl.xr-attrs {\n  padding: 0;\n  margin: 0;\n  display: grid;\n  grid-template-columns: 125px auto;\n}\n\n.xr-attrs dt,\n.xr-attrs dd {\n  padding: 0;\n  margin: 0;\n  float: left;\n  padding-right: 10px;\n  width: auto;\n}\n\n.xr-attrs dt {\n  font-weight: normal;\n  grid-column: 1;\n}\n\n.xr-attrs dt:hover span {\n  display: inline-block;\n  background: var(--xr-background-color);\n  padding-right: 10px;\n}\n\n.xr-attrs dd {\n  grid-column: 2;\n  white-space: pre-wrap;\n  word-break: break-all;\n}\n\n.xr-icon-database,\n.xr-icon-file-text2 {\n  display: inline-block;\n  vertical-align: middle;\n  width: 1em;\n  height: 1.5em !important;\n  stroke-width: 0;\n  stroke: currentColor;\n  fill: currentColor;\n}\n</style><pre class='xr-text-repr-fallback'>&lt;xarray.Dataset&gt;\nDimensions:                  (location: 560, time: 71)\nCoordinates:\n  * location                 (location) int32 0 1 2 3 4 ... 555 556 557 558 559\n  * time                     (time) datetime64[ns] 2015-01-01T00:30:00 ... 20...\nData variables:\n    capacity                 (location) int64 4000 4000 4000 ... 4000 4000 4000\n    hub_height               (location) int64 120 120 120 120 ... 120 120 120\n    rotor_diam               (location) int64 150 130 150 130 ... 130 150 130\n    lon                      (location) float64 5.985 5.995 ... 6.333 6.332\n    lat                      (location) float64 50.8 50.79 50.8 ... 50.84 50.84\n    powerCurve               (location) object &#x27;SPC:226,25&#x27; ... &#x27;SPC:301,25&#x27;\n    roughness                (location) float64 0.05 0.05 0.05 ... 0.05 0.05\n    elevated_wind_speed      (time, location) float64 4.905 5.191 ... 6.12 6.271\n    surface_pressure         (time, location) float64 1.012e+05 ... 9.999e+04\n    surface_air_temperature  (time, location) float64 -1.014 -1.044 ... -1.044\n    capacity_factor          (time, location) float64 0.07082 0.05595 ... 0.1538</pre><div class='xr-wrap' hidden><div class='xr-header'><div class='xr-obj-type'>xarray.Dataset</div></div><ul class='xr-sections'><li class='xr-section-item'><input id='section-edaedf19-c3ef-4e18-b1fb-fa79b75fac1e' class='xr-section-summary-in' type='checkbox' disabled ><label for='section-edaedf19-c3ef-4e18-b1fb-fa79b75fac1e' class='xr-section-summary'  title='Expand/collapse section'>Dimensions:</label><div class='xr-section-inline-details'><ul class='xr-dim-list'><li><span class='xr-has-index'>location</span>: 560</li><li><span class='xr-has-index'>time</span>: 71</li></ul></div><div class='xr-section-details'></div></li><li class='xr-section-item'><input id='section-bcdf181b-810e-4674-880b-51861b77e9fa' class='xr-section-summary-in' type='checkbox'  checked><label for='section-bcdf181b-810e-4674-880b-51861b77e9fa' class='xr-section-summary' >Coordinates: <span>(2)</span></label><div class='xr-section-inline-details'></div><div class='xr-section-details'><ul class='xr-var-list'><li class='xr-var-item'><div class='xr-var-name'><span class='xr-has-index'>location</span></div><div class='xr-var-dims'>(location)</div><div class='xr-var-dtype'>int32</div><div class='xr-var-preview xr-preview'>0 1 2 3 4 5 ... 555 556 557 558 559</div><input id='attrs-60fe63de-09ca-4c30-9e28-e51a8c4b0a23' class='xr-var-attrs-in' type='checkbox' disabled><label for='attrs-60fe63de-09ca-4c30-9e28-e51a8c4b0a23' title='Show/Hide attributes'><svg class='icon xr-icon-file-text2'><use xlink:href='#icon-file-text2'></use></svg></label><input id='data-b4c340e6-0a82-4a40-a43d-06ba0cbf72aa' class='xr-var-data-in' type='checkbox'><label for='data-b4c340e6-0a82-4a40-a43d-06ba0cbf72aa' title='Show/Hide data repr'><svg class='icon xr-icon-database'><use xlink:href='#icon-database'></use></svg></label><div class='xr-var-attrs'><dl class='xr-attrs'></dl></div><div class='xr-var-data'><pre>array([  0,   1,   2, ..., 557, 558, 559])</pre></div></li><li class='xr-var-item'><div class='xr-var-name'><span class='xr-has-index'>time</span></div><div class='xr-var-dims'>(time)</div><div class='xr-var-dtype'>datetime64[ns]</div><div class='xr-var-preview xr-preview'>2015-01-01T00:30:00 ... 2015-01-...</div><input id='attrs-d1a4e324-97bd-4052-98d7-c5a12132c06b' class='xr-var-attrs-in' type='checkbox' disabled><label for='attrs-d1a4e324-97bd-4052-98d7-c5a12132c06b' title='Show/Hide attributes'><svg class='icon xr-icon-file-text2'><use xlink:href='#icon-file-text2'></use></svg></label><input id='data-d11c2dff-6472-421f-9ff0-c3f3b09b5679' class='xr-var-data-in' type='checkbox'><label for='data-d11c2dff-6472-421f-9ff0-c3f3b09b5679' title='Show/Hide data repr'><svg class='icon xr-icon-database'><use xlink:href='#icon-database'></use></svg></label><div class='xr-var-attrs'><dl class='xr-attrs'></dl></div><div class='xr-var-data'><pre>array([&#x27;2015-01-01T00:30:00.000000000&#x27;, &#x27;2015-01-01T01:30:00.000000000&#x27;,\n       &#x27;2015-01-01T02:30:00.000000000&#x27;, &#x27;2015-01-01T03:30:00.000000000&#x27;,\n       &#x27;2015-01-01T04:30:00.000000000&#x27;, &#x27;2015-01-01T05:30:00.000000000&#x27;,\n       &#x27;2015-01-01T06:30:00.000000000&#x27;, &#x27;2015-01-01T07:30:00.000000000&#x27;,\n       &#x27;2015-01-01T08:30:00.000000000&#x27;, &#x27;2015-01-01T09:30:00.000000000&#x27;,\n       &#x27;2015-01-01T10:30:00.000000000&#x27;, &#x27;2015-01-01T11:30:00.000000000&#x27;,\n       &#x27;2015-01-01T12:30:00.000000000&#x27;, &#x27;2015-01-01T13:30:00.000000000&#x27;,\n       &#x27;2015-01-01T14:30:00.000000000&#x27;, &#x27;2015-01-01T15:30:00.000000000&#x27;,\n       &#x27;2015-01-01T16:30:00.000000000&#x27;, &#x27;2015-01-01T17:30:00.000000000&#x27;,\n       &#x27;2015-01-01T18:30:00.000000000&#x27;, &#x27;2015-01-01T19:30:00.000000000&#x27;,\n       &#x27;2015-01-01T20:30:00.000000000&#x27;, &#x27;2015-01-01T21:30:00.000000000&#x27;,\n       &#x27;2015-01-01T22:30:00.000000000&#x27;, &#x27;2015-01-01T23:30:00.000000000&#x27;,\n       &#x27;2015-01-02T00:30:00.000000000&#x27;, &#x27;2015-01-02T01:30:00.000000000&#x27;,\n       &#x27;2015-01-02T02:30:00.000000000&#x27;, &#x27;2015-01-02T03:30:00.000000000&#x27;,\n       &#x27;2015-01-02T04:30:00.000000000&#x27;, &#x27;2015-01-02T05:30:00.000000000&#x27;,\n       &#x27;2015-01-02T06:30:00.000000000&#x27;, &#x27;2015-01-02T07:30:00.000000000&#x27;,\n       &#x27;2015-01-02T08:30:00.000000000&#x27;, &#x27;2015-01-02T09:30:00.000000000&#x27;,\n       &#x27;2015-01-02T10:30:00.000000000&#x27;, &#x27;2015-01-02T11:30:00.000000000&#x27;,\n       &#x27;2015-01-02T12:30:00.000000000&#x27;, &#x27;2015-01-02T13:30:00.000000000&#x27;,\n       &#x27;2015-01-02T14:30:00.000000000&#x27;, &#x27;2015-01-02T15:30:00.000000000&#x27;,\n       &#x27;2015-01-02T16:30:00.000000000&#x27;, &#x27;2015-01-02T17:30:00.000000000&#x27;,\n       &#x27;2015-01-02T18:30:00.000000000&#x27;, &#x27;2015-01-02T19:30:00.000000000&#x27;,\n       &#x27;2015-01-02T20:30:00.000000000&#x27;, &#x27;2015-01-02T21:30:00.000000000&#x27;,\n       &#x27;2015-01-02T22:30:00.000000000&#x27;, &#x27;2015-01-02T23:30:00.000000000&#x27;,\n       &#x27;2015-01-03T00:30:00.000000000&#x27;, &#x27;2015-01-03T01:30:00.000000000&#x27;,\n       &#x27;2015-01-03T02:30:00.000000000&#x27;, &#x27;2015-01-03T03:30:00.000000000&#x27;,\n       &#x27;2015-01-03T04:30:00.000000000&#x27;, &#x27;2015-01-03T05:30:00.000000000&#x27;,\n       &#x27;2015-01-03T06:30:00.000000000&#x27;, &#x27;2015-01-03T07:30:00.000000000&#x27;,\n       &#x27;2015-01-03T08:30:00.000000000&#x27;, &#x27;2015-01-03T09:30:00.000000000&#x27;,\n       &#x27;2015-01-03T10:30:00.000000000&#x27;, &#x27;2015-01-03T11:30:00.000000000&#x27;,\n       &#x27;2015-01-03T12:30:00.000000000&#x27;, &#x27;2015-01-03T13:30:00.000000000&#x27;,\n       &#x27;2015-01-03T14:30:00.000000000&#x27;, &#x27;2015-01-03T15:30:00.000000000&#x27;,\n       &#x27;2015-01-03T16:30:00.000000000&#x27;, &#x27;2015-01-03T17:30:00.000000000&#x27;,\n       &#x27;2015-01-03T18:30:00.000000000&#x27;, &#x27;2015-01-03T19:30:00.000000000&#x27;,\n       &#x27;2015-01-03T20:30:00.000000000&#x27;, &#x27;2015-01-03T21:30:00.000000000&#x27;,\n       &#x27;2015-01-03T22:30:00.000000000&#x27;], dtype=&#x27;datetime64[ns]&#x27;)</pre></div></li></ul></div></li><li class='xr-section-item'><input id='section-ea42f07d-6bde-46d9-8a63-ea3e9819bf10' class='xr-section-summary-in' type='checkbox'  checked><label for='section-ea42f07d-6bde-46d9-8a63-ea3e9819bf10' class='xr-section-summary' >Data variables: <span>(11)</span></label><div class='xr-section-inline-details'></div><div class='xr-section-details'><ul class='xr-var-list'><li class='xr-var-item'><div class='xr-var-name'><span>capacity</span></div><div class='xr-var-dims'>(location)</div><div class='xr-var-dtype'>int64</div><div class='xr-var-preview xr-preview'>4000 4000 4000 ... 4000 4000 4000</div><input id='attrs-77235a80-acb3-4fcb-910e-33e5657a7fed' class='xr-var-attrs-in' type='checkbox' disabled><label for='attrs-77235a80-acb3-4fcb-910e-33e5657a7fed' title='Show/Hide attributes'><svg class='icon xr-icon-file-text2'><use xlink:href='#icon-file-text2'></use></svg></label><input id='data-00535a0f-2735-4247-8c4c-aaf0badd9784' class='xr-var-data-in' type='checkbox'><label for='data-00535a0f-2735-4247-8c4c-aaf0badd9784' title='Show/Hide data repr'><svg class='icon xr-icon-database'><use xlink:href='#icon-database'></use></svg></label><div class='xr-var-attrs'><dl class='xr-attrs'></dl></div><div class='xr-var-data'><pre>array([4000, 4000, 4000, 4000, 4000, 4000, 4000, 4000, 4000, 4000, 4000,\n       4000, 4000, 4000, 4000, 4000, 4000, 4000, 4000, 4000, 4000, 4000,\n       4000, 4000, 4000, 4000, 4000, 4000, 4000, 4000, 4000, 4000, 4000,\n       4000, 4000, 4000, 4000, 4000, 4000, 4000, 4000, 4000, 4000, 4000,\n       4000, 4000, 4000, 4000, 4000, 4000, 4000, 4000, 4000, 4000, 4000,\n       4000, 4000, 4000, 4000, 4000, 4000, 4000, 4000, 4000, 4000, 4000,\n       4000, 4000, 4000, 4000, 4000, 4000, 4000, 4000, 4000, 4000, 4000,\n       4000, 4000, 4000, 4000, 4000, 4000, 4000, 4000, 4000, 4000, 4000,\n       4000, 4000, 4000, 4000, 4000, 4000, 4000, 4000, 4000, 4000, 4000,\n       4000, 4000, 4000, 4000, 4000, 4000, 4000, 4000, 4000, 4000, 4000,\n       4000, 4000, 4000, 4000, 4000, 4000, 4000, 4000, 4000, 4000, 4000,\n       4000, 4000, 4000, 4000, 4000, 4000, 4000, 4000, 4000, 4000, 4000,\n       4000, 4000, 4000, 4000, 4000, 4000, 4000, 4000, 4000, 4000, 4000,\n       4000, 4000, 4000, 4000, 4000, 4000, 4000, 4000, 4000, 4000, 4000,\n       4000, 4000, 4000, 4000, 4000, 4000, 4000, 4000, 4000, 4000, 4000,\n       4000, 4000, 4000, 4000, 4000, 4000, 4000, 4000, 4000, 4000, 4000,\n       4000, 4000, 4000, 4000, 4000, 4000, 4000, 4000, 4000, 4000, 4000,\n       4000, 4000, 4000, 4000, 4000, 4000, 4000, 4000, 4000, 4000, 4000,\n       4000, 4000, 4000, 4000, 4000, 4000, 4000, 4000, 4000, 4000, 4000,\n       4000, 4000, 4000, 4000, 4000, 4000, 4000, 4000, 4000, 4000, 4000,\n...\n       4000, 4000, 4000, 4000, 4000, 4000, 4000, 4000, 4000, 4000, 4000,\n       4000, 4000, 4000, 4000, 4000, 4000, 4000, 4000, 4000, 4000, 4000,\n       4000, 4000, 4000, 4000, 4000, 4000, 4000, 4000, 4000, 4000, 4000,\n       4000, 4000, 4000, 4000, 4000, 4000, 4000, 4000, 4000, 4000, 4000,\n       4000, 4000, 4000, 4000, 4000, 4000, 4000, 4000, 4000, 4000, 4000,\n       4000, 4000, 4000, 4000, 4000, 4000, 4000, 4000, 4000, 4000, 4000,\n       4000, 4000, 4000, 4000, 4000, 4000, 4000, 4000, 4000, 4000, 4000,\n       4000, 4000, 4000, 4000, 4000, 4000, 4000, 4000, 4000, 4000, 4000,\n       4000, 4000, 4000, 4000, 4000, 4000, 4000, 4000, 4000, 4000, 4000,\n       4000, 4000, 4000, 4000, 4000, 4000, 4000, 4000, 4000, 4000, 4000,\n       4000, 4000, 4000, 4000, 4000, 4000, 4000, 4000, 4000, 4000, 4000,\n       4000, 4000, 4000, 4000, 4000, 4000, 4000, 4000, 4000, 4000, 4000,\n       4000, 4000, 4000, 4000, 4000, 4000, 4000, 4000, 4000, 4000, 4000,\n       4000, 4000, 4000, 4000, 4000, 4000, 4000, 4000, 4000, 4000, 4000,\n       4000, 4000, 4000, 4000, 4000, 4000, 4000, 4000, 4000, 4000, 4000,\n       4000, 4000, 4000, 4000, 4000, 4000, 4000, 4000, 4000, 4000, 4000,\n       4000, 4000, 4000, 4000, 4000, 4000, 4000, 4000, 4000, 4000, 4000,\n       4000, 4000, 4000, 4000, 4000, 4000, 4000, 4000, 4000, 4000, 4000,\n       4000, 4000, 4000, 4000, 4000, 4000, 4000, 4000, 4000, 4000],\n      dtype=int64)</pre></div></li><li class='xr-var-item'><div class='xr-var-name'><span>hub_height</span></div><div class='xr-var-dims'>(location)</div><div class='xr-var-dtype'>int64</div><div class='xr-var-preview xr-preview'>120 120 120 120 ... 120 120 120 120</div><input id='attrs-2c49854c-c29e-473d-aa8a-15b87f33994c' class='xr-var-attrs-in' type='checkbox' disabled><label for='attrs-2c49854c-c29e-473d-aa8a-15b87f33994c' title='Show/Hide attributes'><svg class='icon xr-icon-file-text2'><use xlink:href='#icon-file-text2'></use></svg></label><input id='data-8c953881-7323-4b12-a356-86acd7a3d739' class='xr-var-data-in' type='checkbox'><label for='data-8c953881-7323-4b12-a356-86acd7a3d739' title='Show/Hide data repr'><svg class='icon xr-icon-database'><use xlink:href='#icon-database'></use></svg></label><div class='xr-var-attrs'><dl class='xr-attrs'></dl></div><div class='xr-var-data'><pre>array([120, 120, 120, 120, 120, 120, 120, 120, 120, 120, 120, 120, 120,\n       120, 120, 120, 120, 120, 120, 120, 120, 120, 120, 120, 120, 120,\n       120, 120, 120, 120, 120, 120, 120, 120, 120, 120, 120, 120, 120,\n       120, 120, 120, 120, 120, 120, 120, 120, 120, 120, 120, 120, 120,\n       120, 120, 120, 120, 120, 120, 120, 120, 120, 120, 120, 120, 120,\n       120, 120, 120, 120, 120, 120, 120, 120, 120, 120, 120, 120, 120,\n       120, 120, 120, 120, 120, 120, 120, 120, 120, 120, 120, 120, 120,\n       120, 120, 120, 120, 120, 120, 120, 120, 120, 120, 120, 120, 120,\n       120, 120, 120, 120, 120, 120, 120, 120, 120, 120, 120, 120, 120,\n       120, 120, 120, 120, 120, 120, 120, 120, 120, 120, 120, 120, 120,\n       120, 120, 120, 120, 120, 120, 120, 120, 120, 120, 120, 120, 120,\n       120, 120, 120, 120, 120, 120, 120, 120, 120, 120, 120, 120, 120,\n       120, 120, 120, 120, 120, 120, 120, 120, 120, 120, 120, 120, 120,\n       120, 120, 120, 120, 120, 120, 120, 120, 120, 120, 120, 120, 120,\n       120, 120, 120, 120, 120, 120, 120, 120, 120, 120, 120, 120, 120,\n       120, 120, 120, 120, 120, 120, 120, 120, 120, 120, 120, 120, 120,\n       120, 120, 120, 120, 120, 120, 120, 120, 120, 120, 120, 120, 120,\n       120, 120, 120, 120, 120, 120, 120, 120, 120, 120, 120, 120, 120,\n       120, 120, 120, 120, 120, 120, 120, 120, 120, 120, 120, 120, 120,\n       120, 120, 120, 120, 120, 120, 120, 120, 120, 120, 120, 120, 120,\n...\n       120, 120, 120, 120, 120, 120, 120, 120, 120, 120, 120, 120, 120,\n       120, 120, 120, 120, 120, 120, 120, 120, 120, 120, 120, 120, 120,\n       120, 120, 120, 120, 120, 120, 120, 120, 120, 120, 120, 120, 120,\n       120, 120, 120, 120, 120, 120, 120, 120, 120, 120, 120, 120, 120,\n       120, 120, 120, 120, 120, 120, 120, 120, 120, 120, 120, 120, 120,\n       120, 120, 120, 120, 120, 120, 120, 120, 120, 120, 120, 120, 120,\n       120, 120, 120, 120, 120, 120, 120, 120, 120, 120, 120, 120, 120,\n       120, 120, 120, 120, 120, 120, 120, 120, 120, 120, 120, 120, 120,\n       120, 120, 120, 120, 120, 120, 120, 120, 120, 120, 120, 120, 120,\n       120, 120, 120, 120, 120, 120, 120, 120, 120, 120, 120, 120, 120,\n       120, 120, 120, 120, 120, 120, 120, 120, 120, 120, 120, 120, 120,\n       120, 120, 120, 120, 120, 120, 120, 120, 120, 120, 120, 120, 120,\n       120, 120, 120, 120, 120, 120, 120, 120, 120, 120, 120, 120, 120,\n       120, 120, 120, 120, 120, 120, 120, 120, 120, 120, 120, 120, 120,\n       120, 120, 120, 120, 120, 120, 120, 120, 120, 120, 120, 120, 120,\n       120, 120, 120, 120, 120, 120, 120, 120, 120, 120, 120, 120, 120,\n       120, 120, 120, 120, 120, 120, 120, 120, 120, 120, 120, 120, 120,\n       120, 120, 120, 120, 120, 120, 120, 120, 120, 120, 120, 120, 120,\n       120, 120, 120, 120, 120, 120, 120, 120, 120, 120, 120, 120, 120,\n       120], dtype=int64)</pre></div></li><li class='xr-var-item'><div class='xr-var-name'><span>rotor_diam</span></div><div class='xr-var-dims'>(location)</div><div class='xr-var-dtype'>int64</div><div class='xr-var-preview xr-preview'>150 130 150 130 ... 150 130 150 130</div><input id='attrs-865688ce-b847-4c60-8df4-50f4a75929a3' class='xr-var-attrs-in' type='checkbox' disabled><label for='attrs-865688ce-b847-4c60-8df4-50f4a75929a3' title='Show/Hide attributes'><svg class='icon xr-icon-file-text2'><use xlink:href='#icon-file-text2'></use></svg></label><input id='data-ee6a9cc2-b89e-4fe8-a02b-c19673cace5f' class='xr-var-data-in' type='checkbox'><label for='data-ee6a9cc2-b89e-4fe8-a02b-c19673cace5f' title='Show/Hide data repr'><svg class='icon xr-icon-database'><use xlink:href='#icon-database'></use></svg></label><div class='xr-var-attrs'><dl class='xr-attrs'></dl></div><div class='xr-var-data'><pre>array([150, 130, 150, 130, 150, 130, 150, 130, 150, 130, 150, 130, 150,\n       130, 150, 130, 150, 130, 150, 130, 150, 130, 150, 130, 150, 130,\n       150, 130, 150, 130, 150, 130, 150, 130, 150, 130, 150, 130, 150,\n       130, 150, 130, 150, 130, 150, 130, 150, 130, 150, 130, 150, 130,\n       150, 130, 150, 130, 150, 130, 150, 130, 150, 130, 150, 130, 150,\n       130, 150, 130, 150, 130, 150, 130, 150, 130, 150, 130, 150, 130,\n       150, 130, 150, 130, 150, 130, 150, 130, 150, 130, 150, 130, 150,\n       130, 150, 130, 150, 130, 150, 130, 150, 130, 150, 130, 150, 130,\n       150, 130, 150, 130, 150, 130, 150, 130, 150, 130, 150, 130, 150,\n       130, 150, 130, 150, 130, 150, 130, 150, 130, 150, 130, 150, 130,\n       150, 130, 150, 130, 150, 130, 150, 130, 150, 130, 150, 130, 150,\n       130, 150, 130, 150, 130, 150, 130, 150, 130, 150, 130, 150, 130,\n       150, 130, 150, 130, 150, 130, 150, 130, 150, 130, 150, 130, 150,\n       130, 150, 130, 150, 130, 150, 130, 150, 130, 150, 130, 150, 130,\n       150, 130, 150, 130, 150, 130, 150, 130, 150, 130, 150, 130, 150,\n       130, 150, 130, 150, 130, 150, 130, 150, 130, 150, 130, 150, 130,\n       150, 130, 150, 130, 150, 130, 150, 130, 150, 130, 150, 130, 150,\n       130, 150, 130, 150, 130, 150, 130, 150, 130, 150, 130, 150, 130,\n       150, 130, 150, 130, 150, 130, 150, 130, 150, 130, 150, 130, 150,\n       130, 150, 130, 150, 130, 150, 130, 150, 130, 150, 130, 150, 130,\n...\n       150, 130, 150, 130, 150, 130, 150, 130, 150, 130, 150, 130, 150,\n       130, 150, 130, 150, 130, 150, 130, 150, 130, 150, 130, 150, 130,\n       150, 130, 150, 130, 150, 130, 150, 130, 150, 130, 150, 130, 150,\n       130, 150, 130, 150, 130, 150, 130, 150, 130, 150, 130, 150, 130,\n       150, 130, 150, 130, 150, 130, 150, 130, 150, 130, 150, 130, 150,\n       130, 150, 130, 150, 130, 150, 130, 150, 130, 150, 130, 150, 130,\n       150, 130, 150, 130, 150, 130, 150, 130, 150, 130, 150, 130, 150,\n       130, 150, 130, 150, 130, 150, 130, 150, 130, 150, 130, 150, 130,\n       150, 130, 150, 130, 150, 130, 150, 130, 150, 130, 150, 130, 150,\n       130, 150, 130, 150, 130, 150, 130, 150, 130, 150, 130, 150, 130,\n       150, 130, 150, 130, 150, 130, 150, 130, 150, 130, 150, 130, 150,\n       130, 150, 130, 150, 130, 150, 130, 150, 130, 150, 130, 150, 130,\n       150, 130, 150, 130, 150, 130, 150, 130, 150, 130, 150, 130, 150,\n       130, 150, 130, 150, 130, 150, 130, 150, 130, 150, 130, 150, 130,\n       150, 130, 150, 130, 150, 130, 150, 130, 150, 130, 150, 130, 150,\n       130, 150, 130, 150, 130, 150, 130, 150, 130, 150, 130, 150, 130,\n       150, 130, 150, 130, 150, 130, 150, 130, 150, 130, 150, 130, 150,\n       130, 150, 130, 150, 130, 150, 130, 150, 130, 150, 130, 150, 130,\n       150, 130, 150, 130, 150, 130, 150, 130, 150, 130, 150, 130, 150,\n       130], dtype=int64)</pre></div></li><li class='xr-var-item'><div class='xr-var-name'><span>lon</span></div><div class='xr-var-dims'>(location)</div><div class='xr-var-dtype'>float64</div><div class='xr-var-preview xr-preview'>5.985 5.995 5.994 ... 6.333 6.332</div><input id='attrs-1a851b21-f8bb-404d-ad05-a0afc29757c8' class='xr-var-attrs-in' type='checkbox' disabled><label for='attrs-1a851b21-f8bb-404d-ad05-a0afc29757c8' title='Show/Hide attributes'><svg class='icon xr-icon-file-text2'><use xlink:href='#icon-file-text2'></use></svg></label><input id='data-96285710-266f-44d3-a901-9364e7dc2755' class='xr-var-data-in' type='checkbox'><label for='data-96285710-266f-44d3-a901-9364e7dc2755' title='Show/Hide data repr'><svg class='icon xr-icon-database'><use xlink:href='#icon-database'></use></svg></label><div class='xr-var-attrs'><dl class='xr-attrs'></dl></div><div class='xr-var-data'><pre>array([5.98519518, 5.99468503, 5.99410694, 6.00475009, 6.00417363,\n       6.00359696, 6.01308572, 6.01251026, 6.02199919, 6.02142496,\n       6.01912596, 6.01855069, 6.03377605, 6.03320406, 6.03148686,\n       6.03091405, 6.03034103, 6.02976781, 6.02919439, 6.02862075,\n       6.02804691, 6.02747287, 6.04325678, 6.04268621, 6.04211543,\n       6.04154446, 6.04097327, 6.04040189, 6.03983029, 6.0392585 ,\n       6.0386865 , 6.03811429, 6.03754188, 6.03696926, 6.03639644,\n       6.05273624, 6.05216709, 6.05159774, 6.05102819, 6.05045843,\n       6.04988846, 6.0493183 , 6.04874792, 6.04817735, 6.04760657,\n       6.04703558, 6.04646439, 6.04589299, 6.04532139, 6.06221445,\n       6.06164672, 6.06107879, 6.06051066, 6.05994232, 6.05937378,\n       6.05880504, 6.05823609, 6.05766694, 6.05709758, 6.05652802,\n       6.05595826, 6.07169141, 6.0711251 , 6.07055859, 6.06999188,\n       6.06942496, 6.067723  , 6.06715527, 6.06658734, 6.0660192 ,\n       6.06545086, 6.06488232, 6.0811671 , 6.08060222, 6.08003713,\n       6.07947184, 6.07720865, 6.07664234, 6.07607583, 6.07550912,\n       6.07494221, 6.07437509, 6.07380777, 6.07324025, 6.09064154,\n       6.09007808, 6.08951441, 6.08895054, 6.08838647, 6.08669304,\n       6.08612815, 6.08556307, 6.08499778, 6.08443229, 6.0838666 ,\n       6.08330071, 6.0816018 , 6.0810351 , 6.07876623, 6.0781985 ,\n...\n       6.26011915, 6.24719427, 6.24557085, 6.24502932, 6.24123318,\n       6.24069009, 6.24014682, 6.23960334, 6.23905967, 6.23851581,\n       6.23797175, 6.2743542 , 6.27382099, 6.27115209, 6.25449813,\n       6.25179467, 6.25125339, 6.25071192, 6.25017026, 6.24962841,\n       6.24908635, 6.24854411, 6.24800167, 6.24745903, 6.28323786,\n       6.28270585, 6.27684131, 6.27523789, 6.26072946, 6.26018941,\n       6.25964917, 6.25910873, 6.2585681 , 6.25694505, 6.28520779,\n       6.27396924, 6.27343197, 6.2728945 , 6.27020425, 6.26966563,\n       6.26912681, 6.26858779, 6.26804858, 6.28289699, 6.28236094,\n       6.28182469, 6.28128826, 6.28075163, 6.2802148 , 6.27967779,\n       6.27914058, 6.27860318, 6.27806559, 6.2775278 , 6.30460478,\n       6.29129129, 6.29075627, 6.29022106, 6.28968566, 6.28915006,\n       6.28861427, 6.28807829, 6.28754212, 6.28700575, 6.28646919,\n       6.28378352, 6.30022303, 6.29968923, 6.29915524, 6.29862107,\n       6.2980867 , 6.29755214, 6.29701738, 6.29648244, 6.2959473 ,\n       6.29541197, 6.29487645, 6.29434074, 6.29326874, 6.29273245,\n       6.29219596, 6.30915614, 6.30702472, 6.30649138, 6.30595786,\n       6.30542414, 6.30489024, 6.30435614, 6.30382185, 6.30328736,\n       6.31489972, 6.31436723, 6.31383455, 6.31330168, 6.32384296,\n       6.3233117 , 6.32278026, 6.33331743, 6.33278759, 6.33225756])</pre></div></li><li class='xr-var-item'><div class='xr-var-name'><span>lat</span></div><div class='xr-var-dims'>(location)</div><div class='xr-var-dtype'>float64</div><div class='xr-var-preview xr-preview'>50.8 50.79 50.8 ... 50.84 50.84</div><input id='attrs-f46902d8-5d52-4887-a3c9-3cfcbcce4496' class='xr-var-attrs-in' type='checkbox' disabled><label for='attrs-f46902d8-5d52-4887-a3c9-3cfcbcce4496' title='Show/Hide attributes'><svg class='icon xr-icon-file-text2'><use xlink:href='#icon-file-text2'></use></svg></label><input id='data-e4ff97ea-3a6e-4d18-8534-ed03763eb446' class='xr-var-data-in' type='checkbox'><label for='data-e4ff97ea-3a6e-4d18-8534-ed03763eb446' title='Show/Hide data repr'><svg class='icon xr-icon-database'><use xlink:href='#icon-database'></use></svg></label><div class='xr-var-attrs'><dl class='xr-attrs'></dl></div><div class='xr-var-data'><pre>array([50.79725388, 50.79420842, 50.8009389 , 50.7844316 , 50.79116216,\n       50.79789271, 50.79484573, 50.80157632, 50.79852861, 50.80525925,\n       50.83218166, 50.83891222, 50.76855716, 50.77528792, 50.79548011,\n       50.80221081, 50.80894149, 50.81567216, 50.82240282, 50.82913346,\n       50.83586408, 50.84259469, 50.76550763, 50.77223845, 50.77896926,\n       50.78570005, 50.79243082, 50.79916158, 50.80589232, 50.81262305,\n       50.81935377, 50.82608447, 50.83281515, 50.83954582, 50.84627648,\n       50.76245731, 50.76918819, 50.77591906, 50.78264991, 50.78938074,\n       50.79611156, 50.80284236, 50.80957315, 50.81630393, 50.82303469,\n       50.82976543, 50.83649616, 50.84322688, 50.84995758, 50.75940621,\n       50.76613715, 50.77286807, 50.77959898, 50.78632987, 50.79306075,\n       50.79979162, 50.80652246, 50.8132533 , 50.81998412, 50.82671492,\n       50.83344571, 50.75635431, 50.76308531, 50.76981629, 50.77654726,\n       50.78327822, 50.80347099, 50.81020188, 50.81693276, 50.82366362,\n       50.83039447, 50.8371253 , 50.75330163, 50.76003269, 50.76676373,\n       50.77349476, 50.80041872, 50.80714967, 50.81388061, 50.82061153,\n       50.82734244, 50.83407334, 50.84080421, 50.84753508, 50.75024816,\n       50.75697928, 50.76371038, 50.77044147, 50.77717254, 50.79736567,\n       50.80409668, 50.81082767, 50.81755866, 50.82428962, 50.83102058,\n       50.83775151, 50.85794424, 50.86467512, 50.89159848, 50.89832929,\n...\n       50.59050312, 50.75207524, 50.77227115, 50.77900309, 50.82612626,\n       50.83285808, 50.83958989, 50.84632169, 50.85305346, 50.85978523,\n       50.86651698, 50.52684228, 50.53357482, 50.5672373 , 50.77593616,\n       50.80959592, 50.81632783, 50.82305972, 50.8297916 , 50.83652347,\n       50.84325532, 50.84998716, 50.85671898, 50.86345078, 50.53050506,\n       50.53723765, 50.61129504, 50.63149219, 50.81326045, 50.8199924 ,\n       50.82672434, 50.83345626, 50.84018817, 50.8603838 , 50.62169007,\n       50.76306782, 50.76979993, 50.77653202, 50.81019228, 50.81692429,\n       50.82365628, 50.83038826, 50.83712023, 50.76673064, 50.77346279,\n       50.78019493, 50.78692705, 50.79365916, 50.80039125, 50.80712333,\n       50.81385539, 50.82058744, 50.82731948, 50.8340515 , 50.60881567,\n       50.77712496, 50.78385714, 50.79058931, 50.79732146, 50.80405359,\n       50.81078571, 50.81751782, 50.82424991, 50.83098199, 50.83771405,\n       50.87137414, 50.78078645, 50.78751867, 50.79425087, 50.80098306,\n       50.80771524, 50.8144474 , 50.82117955, 50.82791169, 50.8346438 ,\n       50.84137591, 50.848108  , 50.85484007, 50.86830418, 50.87503622,\n       50.88176823, 50.78444724, 50.81137621, 50.81810841, 50.8248406 ,\n       50.83157277, 50.83830493, 50.84503708, 50.85176921, 50.85850133,\n       50.82850096, 50.83523317, 50.84196538, 50.84869756, 50.83216063,\n       50.83889289, 50.84562513, 50.82908729, 50.83581961, 50.84255191])</pre></div></li><li class='xr-var-item'><div class='xr-var-name'><span>powerCurve</span></div><div class='xr-var-dims'>(location)</div><div class='xr-var-dtype'>object</div><div class='xr-var-preview xr-preview'>&#x27;SPC:226,25&#x27; ... &#x27;SPC:301,25&#x27;</div><input id='attrs-5f1b906b-dd98-4887-acd1-83e445eca5b9' class='xr-var-attrs-in' type='checkbox' disabled><label for='attrs-5f1b906b-dd98-4887-acd1-83e445eca5b9' title='Show/Hide attributes'><svg class='icon xr-icon-file-text2'><use xlink:href='#icon-file-text2'></use></svg></label><input id='data-304559c8-cd93-405c-897f-ffc1d0ba8610' class='xr-var-data-in' type='checkbox'><label for='data-304559c8-cd93-405c-897f-ffc1d0ba8610' title='Show/Hide data repr'><svg class='icon xr-icon-database'><use xlink:href='#icon-database'></use></svg></label><div class='xr-var-attrs'><dl class='xr-attrs'></dl></div><div class='xr-var-data'><pre>array([&#x27;SPC:226,25&#x27;, &#x27;SPC:301,25&#x27;, &#x27;SPC:226,25&#x27;, &#x27;SPC:301,25&#x27;,\n       &#x27;SPC:226,25&#x27;, &#x27;SPC:301,25&#x27;, &#x27;SPC:226,25&#x27;, &#x27;SPC:301,25&#x27;,\n       &#x27;SPC:226,25&#x27;, &#x27;SPC:301,25&#x27;, &#x27;SPC:226,25&#x27;, &#x27;SPC:301,25&#x27;,\n       &#x27;SPC:226,25&#x27;, &#x27;SPC:301,25&#x27;, &#x27;SPC:226,25&#x27;, &#x27;SPC:301,25&#x27;,\n       &#x27;SPC:226,25&#x27;, &#x27;SPC:301,25&#x27;, &#x27;SPC:226,25&#x27;, &#x27;SPC:301,25&#x27;,\n       &#x27;SPC:226,25&#x27;, &#x27;SPC:301,25&#x27;, &#x27;SPC:226,25&#x27;, &#x27;SPC:301,25&#x27;,\n       &#x27;SPC:226,25&#x27;, &#x27;SPC:301,25&#x27;, &#x27;SPC:226,25&#x27;, &#x27;SPC:301,25&#x27;,\n       &#x27;SPC:226,25&#x27;, &#x27;SPC:301,25&#x27;, &#x27;SPC:226,25&#x27;, &#x27;SPC:301,25&#x27;,\n       &#x27;SPC:226,25&#x27;, &#x27;SPC:301,25&#x27;, &#x27;SPC:226,25&#x27;, &#x27;SPC:301,25&#x27;,\n       &#x27;SPC:226,25&#x27;, &#x27;SPC:301,25&#x27;, &#x27;SPC:226,25&#x27;, &#x27;SPC:301,25&#x27;,\n       &#x27;SPC:226,25&#x27;, &#x27;SPC:301,25&#x27;, &#x27;SPC:226,25&#x27;, &#x27;SPC:301,25&#x27;,\n       &#x27;SPC:226,25&#x27;, &#x27;SPC:301,25&#x27;, &#x27;SPC:226,25&#x27;, &#x27;SPC:301,25&#x27;,\n       &#x27;SPC:226,25&#x27;, &#x27;SPC:301,25&#x27;, &#x27;SPC:226,25&#x27;, &#x27;SPC:301,25&#x27;,\n       &#x27;SPC:226,25&#x27;, &#x27;SPC:301,25&#x27;, &#x27;SPC:226,25&#x27;, &#x27;SPC:301,25&#x27;,\n       &#x27;SPC:226,25&#x27;, &#x27;SPC:301,25&#x27;, &#x27;SPC:226,25&#x27;, &#x27;SPC:301,25&#x27;,\n       &#x27;SPC:226,25&#x27;, &#x27;SPC:301,25&#x27;, &#x27;SPC:226,25&#x27;, &#x27;SPC:301,25&#x27;,\n       &#x27;SPC:226,25&#x27;, &#x27;SPC:301,25&#x27;, &#x27;SPC:226,25&#x27;, &#x27;SPC:301,25&#x27;,\n       &#x27;SPC:226,25&#x27;, &#x27;SPC:301,25&#x27;, &#x27;SPC:226,25&#x27;, &#x27;SPC:301,25&#x27;,\n       &#x27;SPC:226,25&#x27;, &#x27;SPC:301,25&#x27;, &#x27;SPC:226,25&#x27;, &#x27;SPC:301,25&#x27;,\n       &#x27;SPC:226,25&#x27;, &#x27;SPC:301,25&#x27;, &#x27;SPC:226,25&#x27;, &#x27;SPC:301,25&#x27;,\n...\n       &#x27;SPC:226,25&#x27;, &#x27;SPC:301,25&#x27;, &#x27;SPC:226,25&#x27;, &#x27;SPC:301,25&#x27;,\n       &#x27;SPC:226,25&#x27;, &#x27;SPC:301,25&#x27;, &#x27;SPC:226,25&#x27;, &#x27;SPC:301,25&#x27;,\n       &#x27;SPC:226,25&#x27;, &#x27;SPC:301,25&#x27;, &#x27;SPC:226,25&#x27;, &#x27;SPC:301,25&#x27;,\n       &#x27;SPC:226,25&#x27;, &#x27;SPC:301,25&#x27;, &#x27;SPC:226,25&#x27;, &#x27;SPC:301,25&#x27;,\n       &#x27;SPC:226,25&#x27;, &#x27;SPC:301,25&#x27;, &#x27;SPC:226,25&#x27;, &#x27;SPC:301,25&#x27;,\n       &#x27;SPC:226,25&#x27;, &#x27;SPC:301,25&#x27;, &#x27;SPC:226,25&#x27;, &#x27;SPC:301,25&#x27;,\n       &#x27;SPC:226,25&#x27;, &#x27;SPC:301,25&#x27;, &#x27;SPC:226,25&#x27;, &#x27;SPC:301,25&#x27;,\n       &#x27;SPC:226,25&#x27;, &#x27;SPC:301,25&#x27;, &#x27;SPC:226,25&#x27;, &#x27;SPC:301,25&#x27;,\n       &#x27;SPC:226,25&#x27;, &#x27;SPC:301,25&#x27;, &#x27;SPC:226,25&#x27;, &#x27;SPC:301,25&#x27;,\n       &#x27;SPC:226,25&#x27;, &#x27;SPC:301,25&#x27;, &#x27;SPC:226,25&#x27;, &#x27;SPC:301,25&#x27;,\n       &#x27;SPC:226,25&#x27;, &#x27;SPC:301,25&#x27;, &#x27;SPC:226,25&#x27;, &#x27;SPC:301,25&#x27;,\n       &#x27;SPC:226,25&#x27;, &#x27;SPC:301,25&#x27;, &#x27;SPC:226,25&#x27;, &#x27;SPC:301,25&#x27;,\n       &#x27;SPC:226,25&#x27;, &#x27;SPC:301,25&#x27;, &#x27;SPC:226,25&#x27;, &#x27;SPC:301,25&#x27;,\n       &#x27;SPC:226,25&#x27;, &#x27;SPC:301,25&#x27;, &#x27;SPC:226,25&#x27;, &#x27;SPC:301,25&#x27;,\n       &#x27;SPC:226,25&#x27;, &#x27;SPC:301,25&#x27;, &#x27;SPC:226,25&#x27;, &#x27;SPC:301,25&#x27;,\n       &#x27;SPC:226,25&#x27;, &#x27;SPC:301,25&#x27;, &#x27;SPC:226,25&#x27;, &#x27;SPC:301,25&#x27;,\n       &#x27;SPC:226,25&#x27;, &#x27;SPC:301,25&#x27;, &#x27;SPC:226,25&#x27;, &#x27;SPC:301,25&#x27;,\n       &#x27;SPC:226,25&#x27;, &#x27;SPC:301,25&#x27;, &#x27;SPC:226,25&#x27;, &#x27;SPC:301,25&#x27;,\n       &#x27;SPC:226,25&#x27;, &#x27;SPC:301,25&#x27;, &#x27;SPC:226,25&#x27;, &#x27;SPC:301,25&#x27;],\n      dtype=object)</pre></div></li><li class='xr-var-item'><div class='xr-var-name'><span>roughness</span></div><div class='xr-var-dims'>(location)</div><div class='xr-var-dtype'>float64</div><div class='xr-var-preview xr-preview'>0.05 0.05 0.05 ... 0.05 0.05 0.05</div><input id='attrs-5687b33d-23b9-493d-b4d6-a486a4464cde' class='xr-var-attrs-in' type='checkbox' disabled><label for='attrs-5687b33d-23b9-493d-b4d6-a486a4464cde' title='Show/Hide attributes'><svg class='icon xr-icon-file-text2'><use xlink:href='#icon-file-text2'></use></svg></label><input id='data-ee656869-abc0-491f-89dd-4d73e4f6ee3c' class='xr-var-data-in' type='checkbox'><label for='data-ee656869-abc0-491f-89dd-4d73e4f6ee3c' title='Show/Hide data repr'><svg class='icon xr-icon-database'><use xlink:href='#icon-database'></use></svg></label><div class='xr-var-attrs'><dl class='xr-attrs'></dl></div><div class='xr-var-data'><pre>array([0.05 , 0.05 , 0.05 , 0.05 , 0.03 , 0.03 , 0.05 , 0.05 , 0.03 ,\n       0.03 , 0.05 , 0.05 , 0.5  , 0.05 , 0.05 , 0.03 , 0.05 , 0.05 ,\n       0.05 , 0.05 , 0.05 , 0.05 , 0.5  , 0.5  , 0.03 , 0.03 , 0.03 ,\n       0.05 , 0.05 , 0.05 , 0.05 , 0.05 , 0.05 , 0.05 , 0.05 , 0.5  ,\n       0.5  , 0.5  , 0.5  , 0.5  , 0.03 , 0.03 , 0.05 , 0.05 , 0.05 ,\n       0.05 , 0.5  , 0.05 , 0.05 , 0.5  , 0.5  , 0.5  , 0.5  , 0.075,\n       0.3  , 0.5  , 0.3  , 0.3  , 0.05 , 0.05 , 0.05 , 0.5  , 0.5  ,\n       0.5  , 0.5  , 0.075, 0.5  , 0.5  , 0.05 , 0.05 , 0.05 , 0.05 ,\n       0.5  , 0.6  , 0.5  , 0.5  , 0.05 , 0.03 , 0.05 , 0.05 , 0.5  ,\n       0.5  , 0.5  , 0.5  , 0.5  , 0.5  , 0.5  , 0.5  , 1.2  , 0.03 ,\n       0.05 , 0.03 , 0.05 , 0.05 , 0.5  , 0.5  , 0.5  , 0.3  , 0.005,\n       0.3  , 0.5  , 0.5  , 0.5  , 0.5  , 0.5  , 0.5  , 0.5  , 0.03 ,\n       0.5  , 0.5  , 0.05 , 0.05 , 0.5  , 0.5  , 0.5  , 0.5  , 0.5  ,\n       0.5  , 0.5  , 0.05 , 0.5  , 0.05 , 0.05 , 0.5  , 0.5  , 0.6  ,\n       0.5  , 0.5  , 0.5  , 0.3  , 0.03 , 0.05 , 0.05 , 0.5  , 0.05 ,\n       0.05 , 0.05 , 0.05 , 0.03 , 0.5  , 0.5  , 0.5  , 0.6  , 0.5  ,\n       0.5  , 0.03 , 0.03 , 0.5  , 0.5  , 0.5  , 0.05 , 0.05 , 0.05 ,\n       0.05 , 0.5  , 0.005, 0.03 , 0.5  , 0.03 , 0.03 , 0.03 , 0.03 ,\n       0.5  , 0.5  , 0.5  , 0.5  , 0.05 , 0.5  , 0.5  , 0.05 , 0.5  ,\n       0.5  , 0.5  , 0.5  , 0.05 , 0.05 , 0.05 , 0.5  , 0.5  , 0.03 ,\n...\n       0.05 , 0.05 , 0.05 , 0.05 , 0.03 , 0.5  , 0.03 , 0.03 , 0.5  ,\n       0.5  , 0.5  , 0.5  , 0.05 , 0.05 , 0.05 , 0.05 , 0.05 , 0.05 ,\n       0.5  , 0.5  , 0.03 , 0.05 , 0.05 , 0.05 , 0.05 , 0.5  , 0.05 ,\n       0.05 , 0.05 , 0.3  , 0.03 , 0.03 , 0.03 , 0.5  , 0.5  , 0.5  ,\n       0.5  , 0.05 , 0.05 , 0.5  , 0.05 , 0.05 , 0.5  , 0.05 , 0.05 ,\n       0.5  , 0.05 , 0.05 , 0.5  , 0.05 , 0.05 , 0.5  , 0.03 , 0.03 ,\n       0.5  , 0.6  , 0.5  , 0.6  , 0.5  , 0.05 , 0.05 , 0.03 , 0.5  ,\n       0.5  , 0.005, 0.05 , 0.05 , 0.005, 0.05 , 0.03 , 0.03 , 0.5  ,\n       0.5  , 0.03 , 0.005, 0.03 , 0.03 , 0.05 , 0.05 , 0.5  , 0.05 ,\n       0.05 , 0.05 , 0.05 , 0.03 , 0.03 , 0.5  , 0.03 , 0.5  , 0.5  ,\n       0.5  , 0.05 , 0.05 , 0.05 , 0.05 , 0.05 , 0.05 , 0.03 , 0.03 ,\n       0.03 , 0.5  , 0.5  , 0.5  , 0.05 , 0.05 , 0.05 , 0.05 , 0.03 ,\n       0.03 , 0.3  , 0.03 , 0.5  , 0.5  , 0.5  , 0.05 , 0.5  , 0.03 ,\n       0.03 , 0.03 , 0.005, 0.05 , 0.5  , 0.5  , 0.5  , 0.5  , 0.05 ,\n       0.5  , 0.5  , 0.03 , 0.05 , 0.03 , 0.05 , 0.05 , 0.03 , 0.5  ,\n       0.05 , 0.05 , 0.05 , 0.05 , 0.05 , 0.03 , 0.3  , 0.05 , 0.05 ,\n       0.03 , 0.5  , 0.05 , 0.5  , 0.05 , 0.05 , 0.05 , 0.05 , 0.05 ,\n       0.05 , 0.05 , 0.05 , 0.03 , 0.5  , 0.5  , 0.5  , 0.05 , 0.05 ,\n       0.05 , 0.5  , 0.05 , 0.05 , 0.05 , 0.05 , 0.5  , 0.05 , 0.05 ,\n       0.05 , 0.05 ])</pre></div></li><li class='xr-var-item'><div class='xr-var-name'><span>elevated_wind_speed</span></div><div class='xr-var-dims'>(time, location)</div><div class='xr-var-dtype'>float64</div><div class='xr-var-preview xr-preview'>4.905 5.191 5.217 ... 6.12 6.271</div><input id='attrs-aa663835-26cd-49b3-97f7-10c036accd79' class='xr-var-attrs-in' type='checkbox' disabled><label for='attrs-aa663835-26cd-49b3-97f7-10c036accd79' title='Show/Hide attributes'><svg class='icon xr-icon-file-text2'><use xlink:href='#icon-file-text2'></use></svg></label><input id='data-fb2a495f-14eb-4630-9376-b72955996a13' class='xr-var-data-in' type='checkbox'><label for='data-fb2a495f-14eb-4630-9376-b72955996a13' title='Show/Hide data repr'><svg class='icon xr-icon-database'><use xlink:href='#icon-database'></use></svg></label><div class='xr-var-attrs'><dl class='xr-attrs'></dl></div><div class='xr-var-data'><pre>array([[4.90475713, 5.19131432, 5.21674988, ..., 4.85629974, 5.03737875,\n        5.16481271],\n       [4.93926353, 5.22442092, 5.25213226, ..., 4.82976222, 5.01168692,\n        5.14034956],\n       [4.91519087, 5.19625101, 5.22521683, ..., 4.76174563, 4.94261138,\n        5.07103677],\n       ...,\n       [4.1370214 , 4.39452829, 4.39961837, ..., 4.35836331, 4.49954588,\n        4.5915557 ],\n       [4.46522621, 4.73685985, 4.76027815, ..., 4.91181786, 5.08885995,\n        5.21135532],\n       [5.5450376 , 5.87698034, 5.90828943, ..., 5.90357056, 6.11991708,\n        6.27087215]])</pre></div></li><li class='xr-var-item'><div class='xr-var-name'><span>surface_pressure</span></div><div class='xr-var-dims'>(time, location)</div><div class='xr-var-dtype'>float64</div><div class='xr-var-preview xr-preview'>1.012e+05 1.012e+05 ... 9.999e+04</div><input id='attrs-d0450b0f-ce43-4039-a818-de24a8f0cdfd' class='xr-var-attrs-in' type='checkbox' disabled><label for='attrs-d0450b0f-ce43-4039-a818-de24a8f0cdfd' title='Show/Hide attributes'><svg class='icon xr-icon-file-text2'><use xlink:href='#icon-file-text2'></use></svg></label><input id='data-848dc24c-6f98-4e6e-a8ef-5c9e3a4bc98e' class='xr-var-data-in' type='checkbox'><label for='data-848dc24c-6f98-4e6e-a8ef-5c9e3a4bc98e' title='Show/Hide data repr'><svg class='icon xr-icon-database'><use xlink:href='#icon-database'></use></svg></label><div class='xr-var-attrs'><dl class='xr-attrs'></dl></div><div class='xr-var-data'><pre>array([[101248.24728916, 101213.85316145, 101260.5603818 , ...,\n        101116.35116052, 101170.04132549, 101223.75680374],\n       [101247.20935001, 101212.9366924 , 101259.63651312, ...,\n        101119.06726719, 101172.74084572, 101226.43991942],\n       [101247.34997501, 101213.0773174 , 101259.77713812, ...,\n        101119.57243636, 101173.22942844, 101226.9120976 ],\n       ...,\n       [ 99761.07001272,  99726.42086263,  99772.60569239, ...,\n         99601.08523915,  99653.90533677,  99706.75168575],\n       [ 99907.91380639,  99873.16256381,  99919.20606043, ...,\n         99742.65577993,  99795.36816053,  99848.10679273],\n       [100062.02156174, 100026.95463632, 100072.91264399, ...,\n         99885.01923267,  99937.63067816,  99990.26837791]])</pre></div></li><li class='xr-var-item'><div class='xr-var-name'><span>surface_air_temperature</span></div><div class='xr-var-dims'>(time, location)</div><div class='xr-var-dtype'>float64</div><div class='xr-var-preview xr-preview'>-1.014 -1.044 ... -1.071 -1.044</div><input id='attrs-aefb3814-2b3f-4dcd-8799-8697d31c919e' class='xr-var-attrs-in' type='checkbox' disabled><label for='attrs-aefb3814-2b3f-4dcd-8799-8697d31c919e' title='Show/Hide attributes'><svg class='icon xr-icon-file-text2'><use xlink:href='#icon-file-text2'></use></svg></label><input id='data-076a838f-d5cf-4fd9-b7f2-90efc6ba93aa' class='xr-var-data-in' type='checkbox'><label for='data-076a838f-d5cf-4fd9-b7f2-90efc6ba93aa' title='Show/Hide data repr'><svg class='icon xr-icon-database'><use xlink:href='#icon-database'></use></svg></label><div class='xr-var-attrs'><dl class='xr-attrs'></dl></div><div class='xr-var-data'><pre>array([[-1.01401637, -1.04377745, -1.01646283, ..., -1.52243529,\n        -1.499578  , -1.47672575],\n       [-0.93711752, -0.96425598, -0.93907914, ..., -1.43801379,\n        -1.41765795, -1.39730858],\n       [-0.90531322, -0.92889468, -0.90556949, ..., -1.3511966 ,\n        -1.33168028, -1.31216973],\n       ...,\n       [-1.65410146, -1.65686971, -1.6546221 , ..., -1.72694263,\n        -1.72567729, -1.72439987],\n       [-1.53859159, -1.55313887, -1.53149112, ..., -1.53966408,\n        -1.51730774, -1.49491786],\n       [-1.13726117, -1.15412638, -1.12712551, ..., -1.0979303 ,\n        -1.07108455, -1.04420548]])</pre></div></li><li class='xr-var-item'><div class='xr-var-name'><span>capacity_factor</span></div><div class='xr-var-dims'>(time, location)</div><div class='xr-var-dtype'>float64</div><div class='xr-var-preview xr-preview'>0.07082 0.05595 ... 0.2158 0.1538</div><input id='attrs-e0ada6dd-bb66-40f7-9ec6-a1e9e9590230' class='xr-var-attrs-in' type='checkbox' disabled><label for='attrs-e0ada6dd-bb66-40f7-9ec6-a1e9e9590230' title='Show/Hide attributes'><svg class='icon xr-icon-file-text2'><use xlink:href='#icon-file-text2'></use></svg></label><input id='data-d4b75de1-c187-42fd-badc-633180efb339' class='xr-var-data-in' type='checkbox'><label for='data-d4b75de1-c187-42fd-badc-633180efb339' title='Show/Hide data repr'><svg class='icon xr-icon-database'><use xlink:href='#icon-database'></use></svg></label><div class='xr-var-attrs'><dl class='xr-attrs'></dl></div><div class='xr-var-data'><pre>array([[0.07081904, 0.05594731, 0.09920235, ..., 0.03737832, 0.08215168,\n        0.05429316],\n       [0.0736652 , 0.05806051, 0.10280409, ..., 0.03611533, 0.07987275,\n        0.05279549],\n       [0.0716721 , 0.05625911, 0.10005704, ..., 0.03300928, 0.07394515,\n        0.04870245],\n       ...,\n       [0.0245561 , 0.01926982, 0.03694155, ..., 0.01817204, 0.04254227,\n        0.02603058],\n       [0.04056087, 0.0319191 , 0.05966824, ..., 0.04011546, 0.08684046,\n        0.05722029],\n       [0.13567683, 0.11095435, 0.18399011, ..., 0.11358355, 0.21584595,\n        0.15383052]])</pre></div></li></ul></div></li><li class='xr-section-item'><input id='section-1375b961-5492-4415-aac7-a62a000655be' class='xr-section-summary-in' type='checkbox' disabled ><label for='section-1375b961-5492-4415-aac7-a62a000655be' class='xr-section-summary'  title='Expand/collapse section'>Attributes: <span>(0)</span></label><div class='xr-section-inline-details'></div><div class='xr-section-details'><dl class='xr-attrs'></dl></div></li></ul></div></div>"
     },
     "metadata": {},
     "execution_count": 16
    }
   ],
   "source": [
    "# xarray dataset #http://xarray.pydata.org/en/stable/#\n",
    "xds"
   ]
  },
  {
   "cell_type": "code",
   "execution_count": 33,
   "metadata": {},
   "outputs": [
    {
     "output_type": "execute_result",
     "data": {
      "text/plain": [
       "            surface_pressure                                          \\\n",
       "time     2015-01-01 00:30:00 2015-01-01 01:30:00 2015-01-01 02:30:00   \n",
       "location                                                               \n",
       "0              101248.247289       101247.209350       101247.349975   \n",
       "1              101213.853161       101212.936692       101213.077317   \n",
       "2              101260.560382       101259.636513       101259.777138   \n",
       "3              101132.011216       101131.223580       101131.364205   \n",
       "4              101179.129916       101178.334901       101178.475526   \n",
       "\n",
       "                                                                      \\\n",
       "time     2015-01-01 03:30:00 2015-01-01 04:30:00 2015-01-01 05:30:00   \n",
       "location                                                               \n",
       "0              101231.530202       101179.567871       101155.691207   \n",
       "1              101197.349665       101145.592215       101121.501961   \n",
       "2              101244.001041       101192.002618       101167.968208   \n",
       "3              101115.773743       101064.468865       101040.112589   \n",
       "4              101162.838510       101111.288916       101086.986572   \n",
       "\n",
       "                                                                      \\\n",
       "time     2015-01-01 06:30:00 2015-01-01 07:30:00 2015-01-01 08:30:00   \n",
       "location                                                               \n",
       "0              101195.082774       101282.578646       101315.082956   \n",
       "1              101160.431663       101247.863501       101280.975858   \n",
       "2              101207.135484       101294.652163       101327.203883   \n",
       "3              101078.342934       101165.615818       101199.896819   \n",
       "4              101125.454431       101212.817790       101246.538209   \n",
       "\n",
       "                              ...                                          \\\n",
       "time     2015-01-01 09:30:00  ... 2015-01-03 13:30:00 2015-01-03 14:30:00   \n",
       "location                      ...                                           \n",
       "0              101261.929265  ...        99458.597994        99291.510890   \n",
       "1              101228.381487  ...        99425.324337        99258.178533   \n",
       "2              101274.156562  ...        99471.658594        99304.430700   \n",
       "3              101148.314663  ...        99345.009153        99177.880064   \n",
       "4              101194.503161  ...        99391.736267        99224.528828   \n",
       "\n",
       "                                                                      \\\n",
       "time     2015-01-03 15:30:00 2015-01-03 16:30:00 2015-01-03 17:30:00   \n",
       "location                                                               \n",
       "0               99213.210245        99190.141598        99262.314459   \n",
       "1               99179.401283        99155.801402        99227.410305   \n",
       "2               99226.396466        99203.285932        99274.991076   \n",
       "3               99097.889859        99073.256000        99144.201500   \n",
       "4               99145.277865        99121.140818        99192.184347   \n",
       "\n",
       "                                                                      \\\n",
       "time     2015-01-03 18:30:00 2015-01-03 19:30:00 2015-01-03 20:30:00   \n",
       "location                                                               \n",
       "0               99431.088298        99616.630179        99761.070013   \n",
       "1               99395.590837        99581.902952        99726.420863   \n",
       "2               99443.226804        99628.154424        99772.605692   \n",
       "3               99311.726987        99500.204036        99644.870019   \n",
       "4               99359.768687        99546.855616        99691.453085   \n",
       "\n",
       "                                                  \n",
       "time     2015-01-03 21:30:00 2015-01-03 22:30:00  \n",
       "location                                          \n",
       "0               99907.913806       100062.021562  \n",
       "1               99873.162564       100026.954636  \n",
       "2               99919.206060       100072.912644  \n",
       "3               99791.647674        99945.209677  \n",
       "4               99838.091254        99991.567705  \n",
       "\n",
       "[5 rows x 71 columns]"
      ],
      "text/html": "<div>\n<style scoped>\n    .dataframe tbody tr th:only-of-type {\n        vertical-align: middle;\n    }\n\n    .dataframe tbody tr th {\n        vertical-align: top;\n    }\n\n    .dataframe thead tr th {\n        text-align: left;\n    }\n\n    .dataframe thead tr:last-of-type th {\n        text-align: right;\n    }\n</style>\n<table border=\"1\" class=\"dataframe\">\n  <thead>\n    <tr>\n      <th></th>\n      <th colspan=\"21\" halign=\"left\">surface_pressure</th>\n    </tr>\n    <tr>\n      <th>time</th>\n      <th>2015-01-01 00:30:00</th>\n      <th>2015-01-01 01:30:00</th>\n      <th>2015-01-01 02:30:00</th>\n      <th>2015-01-01 03:30:00</th>\n      <th>2015-01-01 04:30:00</th>\n      <th>2015-01-01 05:30:00</th>\n      <th>2015-01-01 06:30:00</th>\n      <th>2015-01-01 07:30:00</th>\n      <th>2015-01-01 08:30:00</th>\n      <th>2015-01-01 09:30:00</th>\n      <th>...</th>\n      <th>2015-01-03 13:30:00</th>\n      <th>2015-01-03 14:30:00</th>\n      <th>2015-01-03 15:30:00</th>\n      <th>2015-01-03 16:30:00</th>\n      <th>2015-01-03 17:30:00</th>\n      <th>2015-01-03 18:30:00</th>\n      <th>2015-01-03 19:30:00</th>\n      <th>2015-01-03 20:30:00</th>\n      <th>2015-01-03 21:30:00</th>\n      <th>2015-01-03 22:30:00</th>\n    </tr>\n    <tr>\n      <th>location</th>\n      <th></th>\n      <th></th>\n      <th></th>\n      <th></th>\n      <th></th>\n      <th></th>\n      <th></th>\n      <th></th>\n      <th></th>\n      <th></th>\n      <th></th>\n      <th></th>\n      <th></th>\n      <th></th>\n      <th></th>\n      <th></th>\n      <th></th>\n      <th></th>\n      <th></th>\n      <th></th>\n      <th></th>\n    </tr>\n  </thead>\n  <tbody>\n    <tr>\n      <th>0</th>\n      <td>101248.247289</td>\n      <td>101247.209350</td>\n      <td>101247.349975</td>\n      <td>101231.530202</td>\n      <td>101179.567871</td>\n      <td>101155.691207</td>\n      <td>101195.082774</td>\n      <td>101282.578646</td>\n      <td>101315.082956</td>\n      <td>101261.929265</td>\n      <td>...</td>\n      <td>99458.597994</td>\n      <td>99291.510890</td>\n      <td>99213.210245</td>\n      <td>99190.141598</td>\n      <td>99262.314459</td>\n      <td>99431.088298</td>\n      <td>99616.630179</td>\n      <td>99761.070013</td>\n      <td>99907.913806</td>\n      <td>100062.021562</td>\n    </tr>\n    <tr>\n      <th>1</th>\n      <td>101213.853161</td>\n      <td>101212.936692</td>\n      <td>101213.077317</td>\n      <td>101197.349665</td>\n      <td>101145.592215</td>\n      <td>101121.501961</td>\n      <td>101160.431663</td>\n      <td>101247.863501</td>\n      <td>101280.975858</td>\n      <td>101228.381487</td>\n      <td>...</td>\n      <td>99425.324337</td>\n      <td>99258.178533</td>\n      <td>99179.401283</td>\n      <td>99155.801402</td>\n      <td>99227.410305</td>\n      <td>99395.590837</td>\n      <td>99581.902952</td>\n      <td>99726.420863</td>\n      <td>99873.162564</td>\n      <td>100026.954636</td>\n    </tr>\n    <tr>\n      <th>2</th>\n      <td>101260.560382</td>\n      <td>101259.636513</td>\n      <td>101259.777138</td>\n      <td>101244.001041</td>\n      <td>101192.002618</td>\n      <td>101167.968208</td>\n      <td>101207.135484</td>\n      <td>101294.652163</td>\n      <td>101327.203883</td>\n      <td>101274.156562</td>\n      <td>...</td>\n      <td>99471.658594</td>\n      <td>99304.430700</td>\n      <td>99226.396466</td>\n      <td>99203.285932</td>\n      <td>99274.991076</td>\n      <td>99443.226804</td>\n      <td>99628.154424</td>\n      <td>99772.605692</td>\n      <td>99919.206060</td>\n      <td>100072.912644</td>\n    </tr>\n    <tr>\n      <th>3</th>\n      <td>101132.011216</td>\n      <td>101131.223580</td>\n      <td>101131.364205</td>\n      <td>101115.773743</td>\n      <td>101064.468865</td>\n      <td>101040.112589</td>\n      <td>101078.342934</td>\n      <td>101165.615818</td>\n      <td>101199.896819</td>\n      <td>101148.314663</td>\n      <td>...</td>\n      <td>99345.009153</td>\n      <td>99177.880064</td>\n      <td>99097.889859</td>\n      <td>99073.256000</td>\n      <td>99144.201500</td>\n      <td>99311.726987</td>\n      <td>99500.204036</td>\n      <td>99644.870019</td>\n      <td>99791.647674</td>\n      <td>99945.209677</td>\n    </tr>\n    <tr>\n      <th>4</th>\n      <td>101179.129916</td>\n      <td>101178.334901</td>\n      <td>101178.475526</td>\n      <td>101162.838510</td>\n      <td>101111.288916</td>\n      <td>101086.986572</td>\n      <td>101125.454431</td>\n      <td>101212.817790</td>\n      <td>101246.538209</td>\n      <td>101194.503161</td>\n      <td>...</td>\n      <td>99391.736267</td>\n      <td>99224.528828</td>\n      <td>99145.277865</td>\n      <td>99121.140818</td>\n      <td>99192.184347</td>\n      <td>99359.768687</td>\n      <td>99546.855616</td>\n      <td>99691.453085</td>\n      <td>99838.091254</td>\n      <td>99991.567705</td>\n    </tr>\n  </tbody>\n</table>\n<p>5 rows × 71 columns</p>\n</div>"
     },
     "metadata": {},
     "execution_count": 33
    }
   ],
   "source": [
    "xds.surface_pressure.to_dataframe().unstack(level=0).head()"
   ]
  },
  {
   "cell_type": "code",
   "execution_count": 29,
   "metadata": {},
   "outputs": [],
   "source": [
    "df = xds.capacity_factor.to_dataframe().unstack(level=-1)"
   ]
  },
  {
   "cell_type": "code",
   "execution_count": 30,
   "metadata": {},
   "outputs": [
    {
     "output_type": "execute_result",
     "data": {
      "text/plain": [
       "                    capacity_factor                                          \\\n",
       "location                        0         1         2         3         4     \n",
       "time                                                                          \n",
       "2015-01-01 00:30:00        0.070819  0.055947  0.099202  0.027920  0.077153   \n",
       "2015-01-01 01:30:00        0.073665  0.058061  0.102804  0.028908  0.079628   \n",
       "2015-01-01 02:30:00        0.071672  0.056259  0.100057  0.027754  0.077056   \n",
       "2015-01-01 03:30:00        0.064835  0.050585  0.090846  0.024559  0.069495   \n",
       "2015-01-01 04:30:00        0.079882  0.062732  0.110189  0.031315  0.085142   \n",
       "\n",
       "                                                                       ...  \\\n",
       "location                  5         6         7         8         9    ...   \n",
       "time                                                                   ...   \n",
       "2015-01-01 00:30:00  0.060448  0.116187  0.064180  0.110102  0.062203  ...   \n",
       "2015-01-01 01:30:00  0.062612  0.119475  0.066360  0.113106  0.064235  ...   \n",
       "2015-01-01 02:30:00  0.060605  0.115754  0.064161  0.109403  0.062007  ...   \n",
       "2015-01-01 03:30:00  0.054417  0.104961  0.057516  0.098854  0.055402  ...   \n",
       "2015-01-01 04:30:00  0.067092  0.126277  0.070546  0.118832  0.067811  ...   \n",
       "\n",
       "                                                                       \\\n",
       "location                  550       551       552       553       554   \n",
       "time                                                                    \n",
       "2015-01-01 00:30:00  0.105710  0.051157  0.103243  0.068157  0.078261   \n",
       "2015-01-01 01:30:00  0.102815  0.049680  0.100797  0.066558  0.076032   \n",
       "2015-01-01 02:30:00  0.095280  0.045655  0.093686  0.061623  0.070242   \n",
       "2015-01-01 03:30:00  0.081491  0.038219  0.080001  0.051976  0.059572   \n",
       "2015-01-01 04:30:00  0.092310  0.043946  0.090393  0.059169  0.067913   \n",
       "\n",
       "                                                                       \n",
       "location                  555       556       557       558       559  \n",
       "time                                                                   \n",
       "2015-01-01 00:30:00  0.074763  0.114590  0.037378  0.082152  0.054293  \n",
       "2015-01-01 01:30:00  0.072770  0.111981  0.036115  0.079873  0.052795  \n",
       "2015-01-01 02:30:00  0.067315  0.104370  0.033009  0.073945  0.048702  \n",
       "2015-01-01 03:30:00  0.057030  0.089488  0.027433  0.062865  0.040923  \n",
       "2015-01-01 04:30:00  0.064941  0.100775  0.031840  0.071510  0.046893  \n",
       "\n",
       "[5 rows x 560 columns]"
      ],
      "text/html": "<div>\n<style scoped>\n    .dataframe tbody tr th:only-of-type {\n        vertical-align: middle;\n    }\n\n    .dataframe tbody tr th {\n        vertical-align: top;\n    }\n\n    .dataframe thead tr th {\n        text-align: left;\n    }\n\n    .dataframe thead tr:last-of-type th {\n        text-align: right;\n    }\n</style>\n<table border=\"1\" class=\"dataframe\">\n  <thead>\n    <tr>\n      <th></th>\n      <th colspan=\"21\" halign=\"left\">capacity_factor</th>\n    </tr>\n    <tr>\n      <th>location</th>\n      <th>0</th>\n      <th>1</th>\n      <th>2</th>\n      <th>3</th>\n      <th>4</th>\n      <th>5</th>\n      <th>6</th>\n      <th>7</th>\n      <th>8</th>\n      <th>9</th>\n      <th>...</th>\n      <th>550</th>\n      <th>551</th>\n      <th>552</th>\n      <th>553</th>\n      <th>554</th>\n      <th>555</th>\n      <th>556</th>\n      <th>557</th>\n      <th>558</th>\n      <th>559</th>\n    </tr>\n    <tr>\n      <th>time</th>\n      <th></th>\n      <th></th>\n      <th></th>\n      <th></th>\n      <th></th>\n      <th></th>\n      <th></th>\n      <th></th>\n      <th></th>\n      <th></th>\n      <th></th>\n      <th></th>\n      <th></th>\n      <th></th>\n      <th></th>\n      <th></th>\n      <th></th>\n      <th></th>\n      <th></th>\n      <th></th>\n      <th></th>\n    </tr>\n  </thead>\n  <tbody>\n    <tr>\n      <th>2015-01-01 00:30:00</th>\n      <td>0.070819</td>\n      <td>0.055947</td>\n      <td>0.099202</td>\n      <td>0.027920</td>\n      <td>0.077153</td>\n      <td>0.060448</td>\n      <td>0.116187</td>\n      <td>0.064180</td>\n      <td>0.110102</td>\n      <td>0.062203</td>\n      <td>...</td>\n      <td>0.105710</td>\n      <td>0.051157</td>\n      <td>0.103243</td>\n      <td>0.068157</td>\n      <td>0.078261</td>\n      <td>0.074763</td>\n      <td>0.114590</td>\n      <td>0.037378</td>\n      <td>0.082152</td>\n      <td>0.054293</td>\n    </tr>\n    <tr>\n      <th>2015-01-01 01:30:00</th>\n      <td>0.073665</td>\n      <td>0.058061</td>\n      <td>0.102804</td>\n      <td>0.028908</td>\n      <td>0.079628</td>\n      <td>0.062612</td>\n      <td>0.119475</td>\n      <td>0.066360</td>\n      <td>0.113106</td>\n      <td>0.064235</td>\n      <td>...</td>\n      <td>0.102815</td>\n      <td>0.049680</td>\n      <td>0.100797</td>\n      <td>0.066558</td>\n      <td>0.076032</td>\n      <td>0.072770</td>\n      <td>0.111981</td>\n      <td>0.036115</td>\n      <td>0.079873</td>\n      <td>0.052795</td>\n    </tr>\n    <tr>\n      <th>2015-01-01 02:30:00</th>\n      <td>0.071672</td>\n      <td>0.056259</td>\n      <td>0.100057</td>\n      <td>0.027754</td>\n      <td>0.077056</td>\n      <td>0.060605</td>\n      <td>0.115754</td>\n      <td>0.064161</td>\n      <td>0.109403</td>\n      <td>0.062007</td>\n      <td>...</td>\n      <td>0.095280</td>\n      <td>0.045655</td>\n      <td>0.093686</td>\n      <td>0.061623</td>\n      <td>0.070242</td>\n      <td>0.067315</td>\n      <td>0.104370</td>\n      <td>0.033009</td>\n      <td>0.073945</td>\n      <td>0.048702</td>\n    </tr>\n    <tr>\n      <th>2015-01-01 03:30:00</th>\n      <td>0.064835</td>\n      <td>0.050585</td>\n      <td>0.090846</td>\n      <td>0.024559</td>\n      <td>0.069495</td>\n      <td>0.054417</td>\n      <td>0.104961</td>\n      <td>0.057516</td>\n      <td>0.098854</td>\n      <td>0.055402</td>\n      <td>...</td>\n      <td>0.081491</td>\n      <td>0.038219</td>\n      <td>0.080001</td>\n      <td>0.051976</td>\n      <td>0.059572</td>\n      <td>0.057030</td>\n      <td>0.089488</td>\n      <td>0.027433</td>\n      <td>0.062865</td>\n      <td>0.040923</td>\n    </tr>\n    <tr>\n      <th>2015-01-01 04:30:00</th>\n      <td>0.079882</td>\n      <td>0.062732</td>\n      <td>0.110189</td>\n      <td>0.031315</td>\n      <td>0.085142</td>\n      <td>0.067092</td>\n      <td>0.126277</td>\n      <td>0.070546</td>\n      <td>0.118832</td>\n      <td>0.067811</td>\n      <td>...</td>\n      <td>0.092310</td>\n      <td>0.043946</td>\n      <td>0.090393</td>\n      <td>0.059169</td>\n      <td>0.067913</td>\n      <td>0.064941</td>\n      <td>0.100775</td>\n      <td>0.031840</td>\n      <td>0.071510</td>\n      <td>0.046893</td>\n    </tr>\n  </tbody>\n</table>\n<p>5 rows × 560 columns</p>\n</div>"
     },
     "metadata": {},
     "execution_count": 30
    }
   ],
   "source": [
    "df.head()"
   ]
  },
  {
   "cell_type": "code",
   "execution_count": null,
   "metadata": {},
   "outputs": [],
   "source": [
    "df.capacity_factor[5].plot()"
   ]
  },
  {
   "cell_type": "code",
   "execution_count": 17,
   "metadata": {},
   "outputs": [
    {
     "output_type": "execute_result",
     "data": {
      "text/plain": [
       "(0.4045317473150733, 0.3383322799819226)"
      ]
     },
     "metadata": {},
     "execution_count": 17
    }
   ],
   "source": [
    "xds = rk.wind.onshore_wind_merra_ryberg2019_europe(\n",
    "    placements = pd.read_csv(rk.TEST_DATA[\"turbine_placements.csv\"]),\n",
    "    merra_path=rk.TEST_DATA['merra-like'],\n",
    "    gwa_50m_path=rk.TEST_DATA['gwa50-like.tif'],\n",
    "    clc2012_path=rk.TEST_DATA['clc-aachen_clipped.tif'],\n",
    ")\n",
    "\n",
    "xds['capacity_factor'].values.mean(), xds['capacity_factor'].values.std()"
   ]
  },
  {
   "cell_type": "code",
   "execution_count": null,
   "metadata": {},
   "outputs": [],
   "source": [
    "xds = rk.wind.onshore_wind_era5_unvalidated(\n",
    "    placements = pd.read_csv(rk.TEST_DATA[\"turbine_placements.csv\"]),\n",
    "    era5_path=rk.TEST_DATA['era5-like'],\n",
    "    gwa_100m_path=rk.TEST_DATA['gwa100-like.tif'],\n",
    "    esa_cci_path=rk.TEST_DATA['ESA_CCI_2018_clip.tif'],\n",
    ")\n",
    "\n",
    "xds['capacity_factor'].values.mean(), xds['capacity_factor'].values.std()"
   ]
  },
  {
   "cell_type": "code",
   "execution_count": null,
   "metadata": {},
   "outputs": [],
   "source": [
    "xds = rk.wind.offshore_wind_merra_caglayan2019(\n",
    "    placements = pd.read_csv(rk.TEST_DATA[\"turbine_placements.csv\"]),\n",
    "    merra_path=rk.TEST_DATA['merra-like'],\n",
    ")\n",
    "\n",
    "xds['capacity_factor'].values.mean(), xds['capacity_factor'].values.std()"
   ]
  },
  {
   "cell_type": "code",
   "execution_count": null,
   "metadata": {},
   "outputs": [],
   "source": [
    "xds = rk.wind.offshore_wind_era5_unvalidated(\n",
    "    placements = pd.read_csv(rk.TEST_DATA[\"turbine_placements.csv\"]),\n",
    "    era5_path=rk.TEST_DATA['era5-like'],\n",
    ")\n",
    "\n",
    "xds['capacity_factor'].values.mean(), xds['capacity_factor'].values.std()"
   ]
  },
  {
   "cell_type": "code",
   "execution_count": null,
   "metadata": {},
   "outputs": [],
   "source": []
  }
 ],
 "metadata": {
  "kernelspec": {
   "display_name": "reskit",
   "language": "python",
   "name": "reskit"
  },
  "language_info": {
   "codemirror_mode": {
    "name": "ipython",
    "version": 3
   },
   "file_extension": ".py",
   "mimetype": "text/x-python",
   "name": "python",
   "nbconvert_exporter": "python",
   "pygments_lexer": "ipython3",
   "version": "3.8.6-final"
  }
 },
 "nbformat": 4,
 "nbformat_minor": 4
}