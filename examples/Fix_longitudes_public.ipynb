{
 "cells": [
  {
   "cell_type": "code",
   "execution_count": 2,
   "id": "f212d318-923e-4170-b44b-b9c697500b78",
   "metadata": {},
   "outputs": [],
   "source": [
    "### from: \"/storage_cluster/shared_data/weather_data/ERA5/raw/v_08.02.2024/add_data_xarray_v2.ipynb\""
   ]
  },
  {
   "cell_type": "code",
   "execution_count": 22,
   "id": "588e7925-d6ff-4dbe-9339-b4413f47c044",
   "metadata": {},
   "outputs": [],
   "source": [
    "import shutil\n",
    "import pandas as pd\n",
    "import os\n",
    "import xarray as xr\n",
    "import numpy as np\n",
    "import time\n",
    "import glob\n",
    "import math\n",
    "import yaml\n",
    "import matplotlib.pyplot as plt\n",
    "import subprocess\n",
    "import fnmatch\n",
    "import re\n",
    "import subprocess\n"
   ]
  },
  {
   "cell_type": "code",
   "execution_count": 23,
   "id": "fe7891eb-30c6-4893-a7b4-0fa7d7f682f0",
   "metadata": {},
   "outputs": [
    {
     "data": {
      "text/plain": [
       "(175.0, 179.75, -180.0, -175.0)"
      ]
     },
     "execution_count": 23,
     "metadata": {},
     "output_type": "execute_result"
    }
   ],
   "source": [
    "variables_to_process=[\"surface_pressure\",\"2m_temperature\",\"boundary_layer_height\",\"100m_wind_speed\"]"
   ]
  },
  {
   "cell_type": "code",
   "execution_count": 35,
   "id": "6a23c492-98c2-41f7-86c4-c3a372ac8fd7",
   "metadata": {},
   "outputs": [],
   "source": [
    "raw_dir=f'{os.getcwd()}/ERA5/raw/'\n"
   ]
  },
  {
   "cell_type": "code",
   "execution_count": 36,
   "id": "553cb11e-c851-4e55-b97a-f519bacb7207",
   "metadata": {},
   "outputs": [],
   "source": [
    "version='v27062024'\n",
    "version_dir=os.path.join(raw_dir,version)\n",
    "nc_files=[]\n",
    "\n",
    "for root, dirs, files in os.walk(version_dir):\n",
    "    for file in files:\n",
    "        if file.endswith('.nc'):\n",
    "            for v in variables_to_process:\n",
    "                if v in file:\n",
    "                    nc_files.append(os.path.join(root,file))"
   ]
  },
  {
   "cell_type": "code",
   "execution_count": 37,
   "id": "545137dc-098f-4a49-a019-c0b9bc3f24d0",
   "metadata": {},
   "outputs": [
    {
     "data": {
      "text/plain": [
       "'/storage_cluster/projects/2022_e-pena_PhD/Projects/RESkit/Paper2023/Jugit_files/ERA5/processed/'"
      ]
     },
     "execution_count": 37,
     "metadata": {},
     "output_type": "execute_result"
    }
   ],
   "source": [
    "#new_lons=np.arange(-180,180,0.25)\n",
    "out_dir=raw_dir.replace(\"raw\",\"processed\")\n",
    "out_dir"
   ]
  },
  {
   "cell_type": "code",
   "execution_count": 38,
   "id": "582e269e-92ce-4b95-832e-3aa33e1a0646",
   "metadata": {},
   "outputs": [],
   "source": [
    "if not os.path.isdir( out_dir ): \n",
    "    os.mkdir(out_dir)\n",
    "    print(out_dir,\"created\")"
   ]
  },
  {
   "cell_type": "code",
   "execution_count": 39,
   "id": "d9f090b1-35c9-45b1-85fb-feb6a2731b7d",
   "metadata": {},
   "outputs": [],
   "source": [
    "out_version_dir=os.path.join(out_dir,version)\n",
    "\n",
    "if not os.path.isdir( out_version_dir ): \n",
    "    os.mkdir(out_version_dir)\n",
    "    print(out_version_dir,\"created\")"
   ]
  },
  {
   "cell_type": "code",
   "execution_count": 40,
   "id": "d11e320b-2e55-4a11-9fa6-6167f0ecaedb",
   "metadata": {},
   "outputs": [
    {
     "name": "stdout",
     "output_type": "stream",
     "text": [
      "/storage_cluster/projects/2022_e-pena_PhD/Projects/RESkit/Paper2023/Jugit_files/ERA5/processed/2018 created\n",
      "Done: /storage_cluster/projects/2022_e-pena_PhD/Projects/RESkit/Paper2023/Jugit_files/ERA5/processed/2018/reanalysis-era5-single-levels.2018.surface_pressure.processed.nc\n"
     ]
    }
   ],
   "source": [
    "for nc in nc_files:\n",
    "    basename=os.path.basename(nc)\n",
    "    year=basename.split(\".\")[1]\n",
    "    output_file=basename.replace(\".nc\",\".processed.nc\")\n",
    "    year_dir=os.path.join(out_version_dir,year)\n",
    "    if not os.path.isdir(year_dir):\n",
    "        os.mkdir(year_dir)\n",
    "        print(year_dir,\"created\")\n",
    "    output=os.path.join(year_dir,output_file)\n",
    "    if not os.path.isfile(output):\n",
    "        ds=xr.open_dataset(nc)\n",
    "        old_lons=ds.longitude.values\n",
    "        new_lons = sorted([old if old <= 180 else old - 360 for old in example_ds.longitude.values])\n",
    "\n",
    "        \n",
    "        if old_lons[-1]>=180:\n",
    "        \n",
    "            ds=ds.roll(longitude=list(ds.longitude.values).index(180), roll_coords=True)\n",
    "        ds[\"longitude\"]=new_lons\n",
    "        ds.to_netcdf(output)\n",
    "        print(\"Done:\", output)\n",
    "        ds.close()\n",
    "    else:\n",
    "        print(output,\"already exists\")\n",
    "\n",
    "\n",
    "    "
   ]
  },
  {
   "cell_type": "code",
   "execution_count": null,
   "id": "c5a0f9e1-85fe-4d91-8bfe-417221a1c4b6",
   "metadata": {},
   "outputs": [],
   "source": []
  }
 ],
 "metadata": {
  "kernelspec": {
   "display_name": "Python 3 (ipykernel)",
   "language": "python",
   "name": "python3"
  },
  "language_info": {
   "codemirror_mode": {
    "name": "ipython",
    "version": 3
   },
   "file_extension": ".py",
   "mimetype": "text/x-python",
   "name": "python",
   "nbconvert_exporter": "python",
   "pygments_lexer": "ipython3",
   "version": "3.10.13"
  }
 },
 "nbformat": 4,
 "nbformat_minor": 5
}
