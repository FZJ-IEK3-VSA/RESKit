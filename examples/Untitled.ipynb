{
 "cells": [
  {
   "cell_type": "code",
   "execution_count": 1,
   "metadata": {},
   "outputs": [],
   "source": [
    "import geokit as gk\n",
    "import pandas as pd\n",
    "import numpy as np\n",
    "\n",
    "import reskit as rk\n",
    "from reskit import windpower\n",
    "from reskit.workflows.wind import WindWorkflowGenerator #onshore_wind_Ryberg2019_Europe"
   ]
  },
  {
   "cell_type": "code",
   "execution_count": 2,
   "metadata": {},
   "outputs": [],
   "source": [
    "placements = pd.read_csv(rk._TEST_DATA_['turbine_placements.csv'])\n",
    "merra_path=rk._TEST_DATA_['weather_data']\n",
    "gwa_50m_path=rk._TEST_DATA_['gwa50-like.tif']\n",
    "clc2012_path=rk._TEST_DATA_['clc-aachen_clipped.tif']"
   ]
  },
  {
   "cell_type": "code",
   "execution_count": 3,
   "metadata": {},
   "outputs": [],
   "source": [
    "wf = WindWorkflowGenerator(placements)\n",
    "\n",
    "# tests\n",
    "assert isinstance( wf.locs, gk.LocationSet)\n",
    "assert wf.locs.count == placements.shape[0]\n",
    "\n",
    "assert len(wf.powerCurveLibrary.keys())==2\n",
    "assert isinstance(wf.powerCurveLibrary['SPC:301,25'], rk.windpower.PowerCurve)\n",
    "assert isinstance(wf.powerCurveLibrary['SPC:226,25'], rk.windpower.PowerCurve)\n",
    "\n",
    "assert np.isclose(wf.powerCurveLibrary['SPC:301,25'].cf.mean(), 0.5743801652892562)"
   ]
  },
  {
   "cell_type": "code",
   "execution_count": 4,
   "metadata": {},
   "outputs": [],
   "source": [
    "wf.read(\n",
    "    variables=['elevated_wind_speed', \"surface_pressure\", \"surface_air_temperature\"],\n",
    "    source_type=\"MERRA\",\n",
    "    path=merra_path,\n",
    "    set_time_index=True,\n",
    "    verbose=False\n",
    ")\n",
    "\n",
    "# tests\n",
    "assert \"elevated_wind_speed\" in wf.sim_data\n",
    "assert \"surface_pressure\" in wf.sim_data\n",
    "assert \"surface_air_temperature\" in wf.sim_data\n",
    "\n",
    "assert wf.sim_data['elevated_wind_speed'].shape[0] == len(wf.time_index)\n",
    "assert wf.sim_data['elevated_wind_speed'].shape[1] == wf.locs.count\n",
    "\n",
    "assert wf.elevated_wind_speed_height == 50\n",
    "\n",
    "assert np.isclose( wf.sim_data['elevated_wind_speed'].values.mean(), 8.595122807949584)\n",
    "assert np.isclose( wf.sim_data['elevated_wind_speed'].values.std(), 2.8790115195804775)"
   ]
  },
  {
   "cell_type": "code",
   "execution_count": 5,
   "metadata": {},
   "outputs": [],
   "source": [
    "wf.adjust_variable_to_long_run_average(\n",
    "    variable='elevated_wind_speed',\n",
    "    source_long_run_average=rk.weather.sources.MerraSource.LONG_RUN_AVERAGE_WINDSPEED,\n",
    "    real_long_run_average=gwa_50m_path\n",
    ")\n",
    "\n",
    "# tests \n",
    "assert np.isclose( wf.sim_data['elevated_wind_speed'].values.mean(), 6.316895937544227)\n",
    "assert np.isclose( wf.sim_data['elevated_wind_speed'].values.std(), 2.165638796355242)"
   ]
  },
  {
   "cell_type": "code",
   "execution_count": 6,
   "metadata": {},
   "outputs": [],
   "source": [
    "wf.estimate_roughness_from_land_cover(\n",
    "    path=clc2012_path,\n",
    "    source_type=\"clc\")\n",
    "\n",
    "assert np.isclose( wf.placements['roughness'].mean(), 0.21235714285714286)\n",
    "assert np.isclose( wf.placements['roughness'].std(), 0.22295718871338902)"
   ]
  },
  {
   "cell_type": "code",
   "execution_count": 7,
   "metadata": {},
   "outputs": [],
   "source": [
    "wf.logarithmic_projection_of_wind_speeds_to_hub_height()\n",
    "\n",
    "assert np.isclose( wf.sim_data['elevated_wind_speed'].values.mean(), 7.247590523853572)\n",
    "assert np.isclose( wf.sim_data['elevated_wind_speed'].values.std(), 2.4773404233790046)"
   ]
  },
  {
   "cell_type": "code",
   "execution_count": 8,
   "metadata": {},
   "outputs": [],
   "source": [
    "wf.apply_air_density_correction_to_wind_speeds()\n",
    "\n",
    "assert np.isclose( wf.sim_data['elevated_wind_speed'].values.mean(), 7.308111114850857)\n",
    "assert np.isclose( wf.sim_data['elevated_wind_speed'].values.std(), 2.4932367249100644)"
   ]
  },
  {
   "cell_type": "code",
   "execution_count": 9,
   "metadata": {},
   "outputs": [],
   "source": [
    "wf.convolute_power_curves(\n",
    "    stdScaling=0.06,\n",
    "    stdBase=0.1\n",
    ")\n",
    "\n",
    "assert np.isclose(wf.powerCurveLibrary['SPC:301,25'].cf.mean(), 0.42844125885573553)"
   ]
  },
  {
   "cell_type": "code",
   "execution_count": 10,
   "metadata": {},
   "outputs": [],
   "source": [
    "wf.simulate()\n",
    "\n",
    "# tests\n",
    "assert np.isclose( wf.sim_data['capacity_factor'].values.mean(), 0.44716889827228373)\n",
    "assert np.isclose( wf.sim_data['capacity_factor'].values.std(), 0.3191091435347311)"
   ]
  },
  {
   "cell_type": "code",
   "execution_count": 11,
   "metadata": {},
   "outputs": [],
   "source": [
    "wf.apply_loss_factor(\n",
    "    loss=lambda x: windpower.lowGenCorrection(x, base=0.0, sharpness=5.0)\n",
    ")\n",
    "\n",
    "# tests\n",
    "assert np.isclose( wf.sim_data['capacity_factor'].values.mean(), 0.4045317473094216)\n",
    "assert np.isclose( wf.sim_data['capacity_factor'].values.std(), 0.3383322799886796)"
   ]
  },
  {
   "cell_type": "code",
   "execution_count": 12,
   "metadata": {},
   "outputs": [],
   "source": [
    "onshore_capacity_factor = wf.sim_data['capacity_factor']"
   ]
  },
  {
   "cell_type": "code",
   "execution_count": 13,
   "metadata": {},
   "outputs": [
    {
     "data": {
      "text/plain": [
       "<matplotlib.axes._subplots.AxesSubplot at 0x21c9c0f5190>"
      ]
     },
     "execution_count": 13,
     "metadata": {},
     "output_type": "execute_result"
    },
    {
     "data": {
      "image/png": "[encoded data removed]",
      "text/plain": [
       "<Figure size 432x288 with 1 Axes>"
      ]
     },
     "metadata": {
      "needs_background": "light"
     },
     "output_type": "display_data"
    }
   ],
   "source": [
    "onshore_capacity_factor.iloc[:,0].plot()"
   ]
  },
  {
   "cell_type": "code",
   "execution_count": 24,
   "metadata": {},
   "outputs": [],
   "source": [
    "wf.time_index"
   ]
  },
  {
   "cell_type": "code",
   "execution_count": 20,
   "metadata": {},
   "outputs": [
    {
     "data": {
      "text/html": [
       "<div>\n",
       "<style scoped>\n",
       "    .dataframe tbody tr th:only-of-type {\n",
       "        vertical-align: middle;\n",
       "    }\n",
       "\n",
       "    .dataframe tbody tr th {\n",
       "        vertical-align: top;\n",
       "    }\n",
       "\n",
       "    .dataframe thead th {\n",
       "        text-align: right;\n",
       "    }\n",
       "</style>\n",
       "<table border=\"1\" class=\"dataframe\">\n",
       "  <thead>\n",
       "    <tr style=\"text-align: right;\">\n",
       "      <th></th>\n",
       "      <th>capacity</th>\n",
       "      <th>hubHeight</th>\n",
       "      <th>rotordiam</th>\n",
       "      <th>lon</th>\n",
       "      <th>lat</th>\n",
       "      <th>powerCurve</th>\n",
       "      <th>roughness</th>\n",
       "    </tr>\n",
       "  </thead>\n",
       "  <tbody>\n",
       "    <tr>\n",
       "      <th>0</th>\n",
       "      <td>4000</td>\n",
       "      <td>120</td>\n",
       "      <td>150</td>\n",
       "      <td>5.985195</td>\n",
       "      <td>50.797254</td>\n",
       "      <td>SPC:226,25</td>\n",
       "      <td>0.05</td>\n",
       "    </tr>\n",
       "    <tr>\n",
       "      <th>1</th>\n",
       "      <td>4000</td>\n",
       "      <td>120</td>\n",
       "      <td>130</td>\n",
       "      <td>5.994685</td>\n",
       "      <td>50.794208</td>\n",
       "      <td>SPC:301,25</td>\n",
       "      <td>0.05</td>\n",
       "    </tr>\n",
       "    <tr>\n",
       "      <th>2</th>\n",
       "      <td>4000</td>\n",
       "      <td>120</td>\n",
       "      <td>150</td>\n",
       "      <td>5.994107</td>\n",
       "      <td>50.800939</td>\n",
       "      <td>SPC:226,25</td>\n",
       "      <td>0.05</td>\n",
       "    </tr>\n",
       "    <tr>\n",
       "      <th>3</th>\n",
       "      <td>4000</td>\n",
       "      <td>120</td>\n",
       "      <td>130</td>\n",
       "      <td>6.004750</td>\n",
       "      <td>50.784432</td>\n",
       "      <td>SPC:301,25</td>\n",
       "      <td>0.05</td>\n",
       "    </tr>\n",
       "    <tr>\n",
       "      <th>4</th>\n",
       "      <td>4000</td>\n",
       "      <td>120</td>\n",
       "      <td>150</td>\n",
       "      <td>6.004174</td>\n",
       "      <td>50.791162</td>\n",
       "      <td>SPC:226,25</td>\n",
       "      <td>0.03</td>\n",
       "    </tr>\n",
       "    <tr>\n",
       "      <th>...</th>\n",
       "      <td>...</td>\n",
       "      <td>...</td>\n",
       "      <td>...</td>\n",
       "      <td>...</td>\n",
       "      <td>...</td>\n",
       "      <td>...</td>\n",
       "      <td>...</td>\n",
       "    </tr>\n",
       "    <tr>\n",
       "      <th>555</th>\n",
       "      <td>4000</td>\n",
       "      <td>120</td>\n",
       "      <td>130</td>\n",
       "      <td>6.323312</td>\n",
       "      <td>50.838893</td>\n",
       "      <td>SPC:301,25</td>\n",
       "      <td>0.50</td>\n",
       "    </tr>\n",
       "    <tr>\n",
       "      <th>556</th>\n",
       "      <td>4000</td>\n",
       "      <td>120</td>\n",
       "      <td>150</td>\n",
       "      <td>6.322780</td>\n",
       "      <td>50.845625</td>\n",
       "      <td>SPC:226,25</td>\n",
       "      <td>0.05</td>\n",
       "    </tr>\n",
       "    <tr>\n",
       "      <th>557</th>\n",
       "      <td>4000</td>\n",
       "      <td>120</td>\n",
       "      <td>130</td>\n",
       "      <td>6.333317</td>\n",
       "      <td>50.829087</td>\n",
       "      <td>SPC:301,25</td>\n",
       "      <td>0.05</td>\n",
       "    </tr>\n",
       "    <tr>\n",
       "      <th>558</th>\n",
       "      <td>4000</td>\n",
       "      <td>120</td>\n",
       "      <td>150</td>\n",
       "      <td>6.332788</td>\n",
       "      <td>50.835820</td>\n",
       "      <td>SPC:226,25</td>\n",
       "      <td>0.05</td>\n",
       "    </tr>\n",
       "    <tr>\n",
       "      <th>559</th>\n",
       "      <td>4000</td>\n",
       "      <td>120</td>\n",
       "      <td>130</td>\n",
       "      <td>6.332258</td>\n",
       "      <td>50.842552</td>\n",
       "      <td>SPC:301,25</td>\n",
       "      <td>0.05</td>\n",
       "    </tr>\n",
       "  </tbody>\n",
       "</table>\n",
       "<p>560 rows × 7 columns</p>\n",
       "</div>"
      ],
      "text/plain": [
       "     capacity  hubHeight  rotordiam       lon        lat  powerCurve  \\\n",
       "0        4000        120        150  5.985195  50.797254  SPC:226,25   \n",
       "1        4000        120        130  5.994685  50.794208  SPC:301,25   \n",
       "2        4000        120        150  5.994107  50.800939  SPC:226,25   \n",
       "3        4000        120        130  6.004750  50.784432  SPC:301,25   \n",
       "4        4000        120        150  6.004174  50.791162  SPC:226,25   \n",
       "..        ...        ...        ...       ...        ...         ...   \n",
       "555      4000        120        130  6.323312  50.838893  SPC:301,25   \n",
       "556      4000        120        150  6.322780  50.845625  SPC:226,25   \n",
       "557      4000        120        130  6.333317  50.829087  SPC:301,25   \n",
       "558      4000        120        150  6.332788  50.835820  SPC:226,25   \n",
       "559      4000        120        130  6.332258  50.842552  SPC:301,25   \n",
       "\n",
       "     roughness  \n",
       "0         0.05  \n",
       "1         0.05  \n",
       "2         0.05  \n",
       "3         0.05  \n",
       "4         0.03  \n",
       "..         ...  \n",
       "555       0.50  \n",
       "556       0.05  \n",
       "557       0.05  \n",
       "558       0.05  \n",
       "559       0.05  \n",
       "\n",
       "[560 rows x 7 columns]"
      ]
     },
     "execution_count": 20,
     "metadata": {},
     "output_type": "execute_result"
    }
   ],
   "source": [
    "wf.placements"
   ]
  },
  {
   "cell_type": "code",
   "execution_count": null,
   "metadata": {},
   "outputs": [],
   "source": []
  }
 ],
 "metadata": {
  "kernelspec": {
   "display_name": "Python 3",
   "language": "python",
   "name": "python3"
  },
  "language_info": {
   "codemirror_mode": {
    "name": "ipython",
    "version": 3
   },
   "file_extension": ".py",
   "mimetype": "text/x-python",
   "name": "python",
   "nbconvert_exporter": "python",
   "pygments_lexer": "ipython3",
   "version": "3.8.1"
  }
 },
 "nbformat": 4,
 "nbformat_minor": 4
}
