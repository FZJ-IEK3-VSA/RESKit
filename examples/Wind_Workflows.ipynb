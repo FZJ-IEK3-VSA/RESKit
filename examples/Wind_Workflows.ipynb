{
 "cells": [
  {
   "cell_type": "code",
   "execution_count": 9,
   "metadata": {},
   "outputs": [],
   "source": [
    "import reskit as rk\n",
    "import pandas as pd"
   ]
  },
  {
   "cell_type": "code",
   "execution_count": null,
   "metadata": {},
   "outputs": [],
   "source": [
    "xds = rk.wind.wind_era5_PenaSanchezDunkelWinklerEtAl2025(\n",
    "    placements=pd.read_csv(rk.TEST_DATA[\"turbine_placements.csv\"]),\n",
    "    era5_path=rk.TEST_DATA[\"era5-like\"],\n",
    "    gwa_100m_path=rk.TEST_DATA[\"gwa100-like.tif\"],\n",
    "    esa_cci_path=rk.TEST_DATA[\"ESA_CCI_2018_clip.tif\"],\n",
    ")\n",
    "\n",
    "xds[\"capacity_factor\"].values.mean(), xds[\"capacity_factor\"].values.std()"
   ]
  },
  {
   "cell_type": "code",
   "execution_count": null,
   "metadata": {},
   "outputs": [
    {
     "name": "stderr",
     "output_type": "stream",
     "text": [
      "/fast/home/p-dunkel/testing/RESKit/reskit/workflow_manager.py:393: DeprecationWarning: 'nan' value for 'nodata_fallback' is deprecated and will be removed soon. Use np.nan instead.\n",
      "  warnings.warn(\n"
     ]
    },
    {
     "name": "stdout",
     "output_type": "stream",
     "text": [
      "2025-01-21 11:31:38.064629 Based on max_batch_size=560, the total of 560 placements were split into 1 sub batches. Proceeding with batch 1/1 (id=0) with 560 placements.\n",
      "2025-01-21 11:31:38.072013 Required tolerance of 0.01 reached after 0 additional iteration(s). Maximum remaining rel. deviation: 0.0.\n"
     ]
    },
    {
     "name": "stderr",
     "output_type": "stream",
     "text": [
      "/fast/home/p-dunkel/testing/RESKit/reskit/wind/workflows/wind_workflow_manager.py:503: RuntimeWarning: divide by zero encountered in divide\n",
      "  min_convergence = 1 - (tolerance / abs(_deviations_last - 1)) ** (\n"
     ]
    },
    {
     "data": {
      "text/plain": [
       "(0.40453476151581985, 0.33833291495805234)"
      ]
     },
     "execution_count": 7,
     "metadata": {},
     "output_type": "execute_result"
    }
   ],
   "source": [
    "xds = rk.wind.onshore_wind_merra_ryberg2019_europe(\n",
    "    placements=pd.read_csv(rk.TEST_DATA[\"turbine_placements.csv\"]),\n",
    "    merra_path=rk.TEST_DATA[\"merra-like\"],\n",
    "    gwa_50m_path=rk.TEST_DATA[\"gwa50-like.tif\"],\n",
    "    clc2012_path=rk.TEST_DATA[\"clc-aachen_clipped.tif\"],\n",
    ")\n",
    "\n",
    "xds[\"capacity_factor\"].values.mean(), xds[\"capacity_factor\"].values.std()"
   ]
  },
  {
   "cell_type": "code",
   "execution_count": 8,
   "metadata": {},
   "outputs": [
    {
     "name": "stdout",
     "output_type": "stream",
     "text": [
      "2025-01-21 11:31:39.449246 Based on max_batch_size=560, the total of 560 placements were split into 1 sub batches. Proceeding with batch 1/1 (id=0) with 560 placements.\n",
      "2025-01-21 11:31:39.453555 Required tolerance of 0.01 reached after 0 additional iteration(s). Maximum remaining rel. deviation: 0.0.\n"
     ]
    },
    {
     "name": "stderr",
     "output_type": "stream",
     "text": [
      "/fast/home/p-dunkel/testing/RESKit/reskit/wind/workflows/wind_workflow_manager.py:503: RuntimeWarning: divide by zero encountered in divide\n",
      "  min_convergence = 1 - (tolerance / abs(_deviations_last - 1)) ** (\n"
     ]
    },
    {
     "data": {
      "text/plain": [
       "(0.5903571299452285, 0.33158702401102186)"
      ]
     },
     "execution_count": 8,
     "metadata": {},
     "output_type": "execute_result"
    }
   ],
   "source": [
    "xds = rk.wind.offshore_wind_merra_caglayan2019(\n",
    "    placements=pd.read_csv(rk.TEST_DATA[\"turbine_placements.csv\"]),\n",
    "    merra_path=rk.TEST_DATA[\"merra-like\"],\n",
    ")\n",
    "\n",
    "xds[\"capacity_factor\"].values.mean(), xds[\"capacity_factor\"].values.std()"
   ]
  }
 ],
 "metadata": {
  "kernelspec": {
   "display_name": "reskit",
   "language": "python",
   "name": "python3"
  },
  "language_info": {
   "codemirror_mode": {
    "name": "ipython",
    "version": 3
   },
   "file_extension": ".py",
   "mimetype": "text/x-python",
   "name": "python",
   "nbconvert_exporter": "python",
   "pygments_lexer": "ipython3",
   "version": "3.10.13"
  }
 },
 "nbformat": 4,
 "nbformat_minor": 4
}
