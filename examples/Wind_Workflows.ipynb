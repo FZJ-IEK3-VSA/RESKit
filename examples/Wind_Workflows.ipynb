{
 "cells": [
  {
   "cell_type": "code",
   "execution_count": 1,
   "metadata": {},
   "outputs": [],
   "source": [
    "import reskit as rk\n",
    "import pandas as pd"
   ]
  },
  {
   "cell_type": "code",
   "execution_count": 2,
   "metadata": {},
   "outputs": [
    {
     "data": {
      "text/plain": [
       "(0.40453174731507285, 0.33833227998192256)"
      ]
     },
     "execution_count": 2,
     "metadata": {},
     "output_type": "execute_result"
    }
   ],
   "source": [
    "xds = rk.workflows.wind.onshore_wind_merra_ryberg2019_europe(\n",
    "    placements = pd.read_csv(rk.TEST_DATA[\"turbine_placements.csv\"]),\n",
    "    merra_path=rk.TEST_DATA['merra-like'],\n",
    "    gwa_50m_path=rk.TEST_DATA['gwa50-like.tif'],\n",
    "    clc2012_path=rk.TEST_DATA['clc-aachen_clipped.tif'],\n",
    ")\n",
    "\n",
    "xds['capacity_factor'].values.mean(), xds['capacity_factor'].values.std()"
   ]
  },
  {
   "cell_type": "code",
   "execution_count": 3,
   "metadata": {},
   "outputs": [
    {
     "data": {
      "text/plain": [
       "(0.34981461531337804, 0.32420360254562874)"
      ]
     },
     "execution_count": 3,
     "metadata": {},
     "output_type": "execute_result"
    }
   ],
   "source": [
    "xds = rk.workflows.wind.onshore_wind_era5_ryberg2020(\n",
    "    placements = pd.read_csv(rk.TEST_DATA[\"turbine_placements.csv\"]),\n",
    "    era5_path=rk.TEST_DATA['era5-like'],\n",
    "    gwa_100m_path=rk.TEST_DATA['gwa100-like.tif'],\n",
    "    esa_cci_path=rk.TEST_DATA['ESA_CCI_2018_clip.tif'],\n",
    ")\n",
    "\n",
    "xds['capacity_factor'].values.mean(), xds['capacity_factor'].values.std()"
   ]
  },
  {
   "cell_type": "code",
   "execution_count": 4,
   "metadata": {},
   "outputs": [
    {
     "data": {
      "text/plain": [
       "(0.6298409715488817, 0.3350665973855529)"
      ]
     },
     "execution_count": 4,
     "metadata": {},
     "output_type": "execute_result"
    }
   ],
   "source": [
    "xds = rk.workflows.wind.offshore_wind_merra_caglayan2019(\n",
    "    placements = pd.read_csv(rk.TEST_DATA[\"turbine_placements.csv\"]),\n",
    "    merra_path=rk.TEST_DATA['merra-like'],\n",
    ")\n",
    "\n",
    "xds['capacity_factor'].values.mean(), xds['capacity_factor'].values.std()"
   ]
  },
  {
   "cell_type": "code",
   "execution_count": null,
   "metadata": {},
   "outputs": [],
   "source": []
  }
 ],
 "metadata": {
  "kernelspec": {
   "display_name": "Python 3.8.1 64-bit ('sevpy': conda)",
   "language": "python",
   "name": "python38164bitsevpycondadf692df3b17b4950b5f3d38ac966c15d"
  },
  "language_info": {
   "codemirror_mode": {
    "name": "ipython",
    "version": 3
   },
   "file_extension": ".py",
   "mimetype": "text/x-python",
   "name": "python",
   "nbconvert_exporter": "python",
   "pygments_lexer": "ipython3",
   "version": "3.8.1"
  }
 },
 "nbformat": 4,
 "nbformat_minor": 4
}
