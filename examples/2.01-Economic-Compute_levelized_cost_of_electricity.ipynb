{
 "cells": [
  {
   "cell_type": "code",
   "execution_count": 1,
   "metadata": {},
   "outputs": [],
   "source": [
    "import reskit as rk"
   ]
  },
  {
   "cell_type": "markdown",
   "metadata": {},
   "source": [
    "# Simple levelized cost of electricity (LCOE) calculation \n",
    "\n",
    "Follows:\n",
    "$\\mathrm{LCOE} = C * \\frac{ (r/(1-(1+r)^{-N})) + O_c }{P_{mean}}$\n",
    "\n",
    "Where:\n",
    "* $C$ is the capital expenditure [€]\n",
    "* $O_c$ is the fixed operating costs (given as a factor of the capex)\n",
    "* $P_{mean}$ is the average production in each year [kWh]\n",
    "* $r$ is the discount rate\n",
    "* $N$ is the economic lifetime [years]"
   ]
  },
  {
   "cell_type": "code",
   "execution_count": 2,
   "metadata": {},
   "outputs": [
    {
     "name": "stdout",
     "output_type": "stream",
     "text": [
      " LCOE is 0.05298 €/kWh\n"
     ]
    }
   ],
   "source": [
    "# Compute LCOE\n",
    "\n",
    "wind_turbine_capacity = 2700  # Assume a 2.7 MW turbine\n",
    "wind_turbine_capex = wind_turbine_capacity * 1000  # assume 1000 €/kW\n",
    "wind_turbine_full_load_hours = 2300  # assume 2300 hours\n",
    "\n",
    "wind_turbine_generation = wind_turbine_capacity * wind_turbine_full_load_hours\n",
    "\n",
    "lcoe = rk.util.levelized_cost_of_electricity_simplified(\n",
    "    capex=wind_turbine_capex,\n",
    "    mean_production=wind_turbine_generation,\n",
    "    lifetime=20,  # Assume 20 years,\n",
    "    discount_rate=0.08,  # Assume 8% interest\n",
    "    opex_per_capex=0.02,  # Assume opex is 2% of capex\n",
    ")\n",
    "\n",
    "print(\" LCOE is {:.5f} €/kWh\".format(lcoe))"
   ]
  },
  {
   "cell_type": "markdown",
   "metadata": {},
   "source": [
    "---\n",
    "# Explicit levelized cost of electricity (LCOE) calculation \n",
    "\n",
    "Follows:\n",
    "$\\mathrm{LCOE} = \\sum{\\frac{exp_y}{(1+r)^y}} / \\sum{\\frac{prod_y}{(1+r)^y}}$\n",
    "\n",
    "Where:\n",
    "* $exp_y$ is the expenditures in year $y$ [€]\n",
    "* $prod_y$ is the production in year $y$ [kWh]\n",
    "* $r$ is the discount rate"
   ]
  },
  {
   "cell_type": "code",
   "execution_count": 4,
   "metadata": {},
   "outputs": [
    {
     "name": "stdout",
     "output_type": "stream",
     "text": [
      " LCOE is 0.04986 €/kWh\n"
     ]
    }
   ],
   "source": [
    "# Compute LCOE\n",
    "\n",
    "annual_expenditures = [\n",
    "    2700000,\n",
    "    54000,\n",
    "    54000,\n",
    "    54000,\n",
    "    54000,\n",
    "    54000,\n",
    "    54000,\n",
    "    54000,\n",
    "    54000,\n",
    "    54000,\n",
    "    54000,\n",
    "    54000,\n",
    "    54000,\n",
    "    54000,\n",
    "    54000,\n",
    "    54000,\n",
    "    54000,\n",
    "    54000,\n",
    "    54000,\n",
    "    54000,\n",
    "]\n",
    "annual_generations = [\n",
    "    6385324,\n",
    "    5644533,\n",
    "    5565218,\n",
    "    5664097,\n",
    "    5993882,\n",
    "    5599432,\n",
    "    6500692,\n",
    "    5643933,\n",
    "    6950887,\n",
    "    6233453,\n",
    "    6684309,\n",
    "    6241383,\n",
    "    6865367,\n",
    "    6919187,\n",
    "    6276209,\n",
    "    5547549,\n",
    "    5715262,\n",
    "    6606469,\n",
    "    5828275,\n",
    "    5847079,\n",
    "]\n",
    "\n",
    "lcoe = rk.util.levelized_cost_of_electricity(\n",
    "    expenditures=annual_expenditures,\n",
    "    productions=annual_generations,\n",
    "    discount_rate=0.08,  # Assume 8% interest\n",
    ")\n",
    "\n",
    "print(\" LCOE is {:.5f} €/kWh\".format(lcoe))"
   ]
  },
  {
   "cell_type": "code",
   "execution_count": null,
   "metadata": {},
   "outputs": [],
   "source": []
  }
 ],
 "metadata": {
  "kernelspec": {
   "display_name": "Python 3",
   "language": "python",
   "name": "python3"
  },
  "language_info": {
   "codemirror_mode": {
    "name": "ipython",
    "version": 3
   },
   "file_extension": ".py",
   "mimetype": "text/x-python",
   "name": "python",
   "nbconvert_exporter": "python",
   "pygments_lexer": "ipython3",
   "version": "3.8.2"
  }
 },
 "nbformat": 4,
 "nbformat_minor": 4
}
