{
 "cells": [
  {
   "cell_type": "code",
   "execution_count": 1,
   "metadata": {},
   "outputs": [],
   "source": [
    "import geokit as gk\n",
    "import pandas as pd\n",
    "import numpy as np\n",
    "import pvlib\n",
    "# from scipy.interpolate import RectBivariateSpline\n",
    "\n",
    "import reskit as rk\n",
    "# from reskit import solarpower\n",
    "from reskit.workflows.solar import SolarWorkflowGenerator"
   ]
  },
  {
   "cell_type": "code",
   "execution_count": 3,
   "metadata": {},
   "outputs": [],
   "source": [
    "# placements['capacity'] = 2500\n",
    "# placements['tilt'] = placements['lat']*0.76\n",
    "# placements['azimuth'] = 180\n",
    "# placements['elev'] = 300\n",
    "\n",
    "# placements.to_csv('c:\\\\users\\\\s.ryberg\\\\fzj\\\\repos\\\\res\\\\reskit\\\\test\\\\data\\\\module_placements.csv', index=False)"
   ]
  },
  {
   "cell_type": "code",
   "execution_count": 4,
   "metadata": {},
   "outputs": [],
   "source": [
    "placements = pd.read_csv(rk.TEST_DATA['module_placements.csv'])\n",
    "merra_path=rk.TEST_DATA['merra-like']"
   ]
  },
  {
   "cell_type": "code",
   "execution_count": 5,
   "metadata": {},
   "outputs": [],
   "source": [
    "wf = SolarWorkflowGenerator(placements)\n",
    "\n",
    "# tests\n",
    "assert isinstance( wf.locs, gk.LocationSet)\n",
    "assert wf.locs.count == placements.shape[0]"
   ]
  },
  {
   "cell_type": "code",
   "execution_count": 6,
   "metadata": {},
   "outputs": [],
   "source": [
    "wf.read(\n",
    "    variables=['surface_wind_speed', \"surface_pressure\", \"surface_air_temperature\", \"surface_dew_temperature\", \"global_horizontal_irradiance\"],\n",
    "    source_type=\"MERRA\",\n",
    "    path=merra_path,\n",
    "    set_time_index=True,\n",
    "    verbose=False\n",
    ")\n",
    "\n",
    "# tests\n",
    "assert \"surface_wind_speed\" in wf.sim_data\n",
    "assert \"surface_pressure\" in wf.sim_data\n",
    "assert \"surface_air_temperature\" in wf.sim_data\n",
    "assert \"global_horizontal_irradiance\" in wf.sim_data\n",
    "\n",
    "assert wf.sim_data['global_horizontal_irradiance'].shape[0] == len(wf.time_index)\n",
    "assert wf.sim_data['global_horizontal_irradiance'].shape[1] == wf.locs.count\n",
    "\n",
    "assert wf.surface_wind_speed_height == 2\n",
    "# print(wf.sim_data['global_horizontal_irradiance'].mean(), wf.sim_data['global_horizontal_irradiance'].std())\n",
    "assert np.isclose( wf.sim_data['global_horizontal_irradiance'].mean(), 29.051229857488853 )\n",
    "assert np.isclose( wf.sim_data['global_horizontal_irradiance'].std(), 57.41876854447587)"
   ]
  },
  {
   "cell_type": "code",
   "execution_count": 7,
   "metadata": {},
   "outputs": [],
   "source": [
    "wf.determine_solar_position()\n",
    "\n",
    "# tests \n",
    "assert \"solar_azimuth\" in wf.sim_data\n",
    "assert \"apparent_solar_zenith\" in wf.sim_data\n",
    "assert \"apparent_solar_elevation\" in wf.sim_data\n",
    "\n",
    "# print(wf.sim_data['solar_zenith'].mean(), wf.sim_data['solar_zenith'].std())\n",
    "assert np.isclose( wf.sim_data['apparent_solar_zenith'].mean(), 109.2598193185083 )\n",
    "assert np.isclose( wf.sim_data['apparent_solar_zenith'].std(), 26.62641165426258)\n"
   ]
  },
  {
   "cell_type": "code",
   "execution_count": 8,
   "metadata": {},
   "outputs": [],
   "source": [
    "wf.filter_positive_solar_elevation()\n",
    "\n",
    "# tests \n",
    "assert wf._time_sel_.sum() == 27\n",
    "assert wf._sim_shape_ == (27,560)\n",
    "assert wf.sim_data['global_horizontal_irradiance'].shape == wf._sim_shape_"
   ]
  },
  {
   "cell_type": "code",
   "execution_count": 9,
   "metadata": {},
   "outputs": [],
   "source": [
    "wf.determine_extra_terrestrial_irradiance(model=\"spencer\", solar_constant=1370)\n",
    "\n",
    "# print(wf.sim_data['extra_terrestrial_irradiance'].mean(), wf.sim_data['extra_terrestrial_irradiance'].std())\n",
    "assert np.isclose( wf.sim_data['extra_terrestrial_irradiance'].mean(), 1418.0397631172639   )\n",
    "assert np.isclose( wf.sim_data['extra_terrestrial_irradiance'].std(), 0.015717104724686137)"
   ]
  },
  {
   "cell_type": "code",
   "execution_count": 10,
   "metadata": {},
   "outputs": [],
   "source": [
    "wf.determine_air_mass(model='kastenyoung1989')\n",
    "    \n",
    "# print(wf.sim_data['air_mass'].mean(), wf.sim_data['air_mass'].std())\n",
    "assert np.isclose( wf.sim_data['air_mass'].mean(), 10.355618714207562 )\n",
    "assert np.isclose( wf.sim_data['air_mass'].std(), 9.517938562733685)"
   ]
  },
  {
   "cell_type": "code",
   "execution_count": 11,
   "metadata": {},
   "outputs": [],
   "source": [
    "wf.apply_DIRINT_model()\n",
    "\n",
    "# print(wf.sim_data['direct_normal_irradiance'].mean(), wf.sim_data['direct_normal_irradiance'].std())\n",
    "assert np.isclose( wf.sim_data['direct_normal_irradiance'].mean(), 115.40545782258317   )\n",
    "assert np.isclose( wf.sim_data['direct_normal_irradiance'].std(), 191.2154118864899)"
   ]
  },
  {
   "cell_type": "code",
   "execution_count": 12,
   "metadata": {},
   "outputs": [],
   "source": [
    "wf.diffuse_horizontal_irradiance_from_trigonometry()\n",
    "\n",
    "# print(wf.sim_data['diffuse_horizontal_irradiance'].mean(), wf.sim_data['diffuse_horizontal_irradiance'].std())\n",
    "assert np.isclose( wf.sim_data['diffuse_horizontal_irradiance'].mean(), 50.056181976873205    )\n",
    "assert np.isclose( wf.sim_data['diffuse_horizontal_irradiance'].std(), 39.35888797182079)"
   ]
  },
  {
   "cell_type": "code",
   "execution_count": 13,
   "metadata": {},
   "outputs": [],
   "source": [
    "wf.permit_single_axis_tracking(max_angle=90, backtrack=True, gcr=2.0/7.0)\n",
    "\n",
    "# print(wf.sim_data['system_tilt'].mean(), wf.sim_data['system_tilt'].std())\n",
    "assert np.isclose( wf.sim_data['system_tilt'].mean(), 49.672198525949106  )\n",
    "assert np.isclose( wf.sim_data['system_tilt'].std(), 10.248233044342607)"
   ]
  },
  {
   "cell_type": "code",
   "execution_count": 14,
   "metadata": {},
   "outputs": [],
   "source": [
    "wf.determine_angle_of_incidence()\n",
    "\n",
    "# print(wf.sim_data['angle_of_incidence'].mean(), wf.sim_data['angle_of_incidence'].std())\n",
    "assert np.isclose( wf.sim_data['angle_of_incidence'].mean(), 38.981053931482315 )\n",
    "assert np.isclose( wf.sim_data['angle_of_incidence'].std(), 17.920415717356125)"
   ]
  },
  {
   "cell_type": "code",
   "execution_count": 15,
   "metadata": {},
   "outputs": [],
   "source": [
    "wf.estimate_plane_of_array_irradiances(transposition_model=\"perez\")\n",
    "\n",
    "# print(wf.sim_data['poa_global'].mean(), wf.sim_data['poa_global'].std())\n",
    "assert np.isclose( wf.sim_data['poa_global'].mean(), 166.80629716820266   )\n",
    "assert np.isclose( wf.sim_data['poa_global'].std(), 197.5504286463543)"
   ]
  },
  {
   "cell_type": "code",
   "execution_count": 16,
   "metadata": {},
   "outputs": [],
   "source": [
    "wf.cell_temperature_from_sapm(mounting=\"glass_open_rack\")\n",
    "\n",
    "# print(wf.sim_data['cell_temperature'].mean(), wf.sim_data['cell_temperature'].std())\n",
    "assert np.isclose( wf.sim_data['cell_temperature'].mean(), 6.42996975079079    )\n",
    "assert np.isclose( wf.sim_data['cell_temperature'].std(), 6.0195612441499735)"
   ]
  },
  {
   "cell_type": "code",
   "execution_count": 17,
   "metadata": {},
   "outputs": [],
   "source": [
    "wf.apply_angle_of_incidence_losses_to_poa()\n",
    "\n",
    "# print(wf.sim_data['poa_global'].mean(), wf.sim_data['poa_global'].std())\n",
    "assert np.isclose( wf.sim_data['poa_global'].mean(), 163.46836520664434       )\n",
    "assert np.isclose( wf.sim_data['poa_global'].std(), 195.06998924136013)"
   ]
  },
  {
   "cell_type": "code",
   "execution_count": 22,
   "metadata": {},
   "outputs": [
    {
     "name": "stdout",
     "output_type": "stream",
     "text": [
      "551.5223750497324 653.4955348324822\n"
     ]
    }
   ],
   "source": [
    "wf.simulate_with_interpolated_single_diode_approximation()\n",
    "\n",
    "# print(wf.sim_data['capacity_factor'].mean(), wf.sim_data['capacity_factor'].std())\n",
    "assert np.isclose( wf.sim_data['capacity_factor'].mean(), 0.220608950019893   )\n",
    "assert np.isclose( wf.sim_data['capacity_factor'].std(), 0.26139821393299295)\n",
    "\n",
    "# print(wf.sim_data['total_system_generation'].mean(), wf.sim_data['total_system_generation'].std())\n",
    "assert np.isclose( wf.sim_data['total_system_generation'].mean(), 551.5223750497324       )\n",
    "assert np.isclose( wf.sim_data['total_system_generation'].std(), 653.4955348324822)"
   ]
  },
  {
   "cell_type": "code",
   "execution_count": 48,
   "metadata": {},
   "outputs": [],
   "source": [
    "if 'capacity' in wf.placements.columns:\n",
    "    del wf.placements['capacity']\n",
    "    wf.placements['modules_per_string'] = 2\n",
    "    wf.placements['strings_per_inverter'] = 1\n",
    "    wf.placements['number_of_inverters'] = 5\n",
    "\n",
    "wf.apply_inverter_losses(inverter=\"SolarBridge_Technologies__P250HV_208_240_xxx\")\n",
    "\n",
    "# print(wf.sim_data['capacity_factor'].mean(), wf.sim_data['capacity_factor'].std())\n",
    "assert np.isclose( wf.sim_data['capacity_factor'].mean(), 0.17700338984555017     )\n",
    "assert np.isclose( wf.sim_data['capacity_factor'].std(), 0.18714937315703425)\n",
    "\n",
    "# print(wf.sim_data['total_system_generation'].mean(), wf.sim_data['total_system_generation'].std())\n",
    "assert np.isclose( wf.sim_data['total_system_generation'].mean(), 425.5019889175149     )\n",
    "assert np.isclose( wf.sim_data['total_system_generation'].std(), 449.8921211196579)"
   ]
  },
  {
   "cell_type": "code",
   "execution_count": 49,
   "metadata": {},
   "outputs": [
    {
     "name": "stdout",
     "output_type": "stream",
     "text": [
      "0.14160271187644013 0.14971949852562744\n",
      "340.401591134012 359.9136968957263\n"
     ]
    }
   ],
   "source": [
    "wf.apply_loss_factor(0.20, variables=['capacity_factor','total_system_generation'])\n",
    "\n",
    "# print(wf.sim_data['capacity_factor'].mean(), wf.sim_data['capacity_factor'].std())\n",
    "assert np.isclose( wf.sim_data['capacity_factor'].mean(), 0.14160271187644013   )\n",
    "assert np.isclose( wf.sim_data['capacity_factor'].std(), 0.14971949852562744)\n",
    "\n",
    "# print(wf.sim_data['total_system_generation'].mean(), wf.sim_data['total_system_generation'].std())\n",
    "assert np.isclose( wf.sim_data['total_system_generation'].mean(), 340.401591134012  )\n",
    "assert np.isclose( wf.sim_data['total_system_generation'].std(), 359.9136968957263)"
   ]
  },
  {
   "cell_type": "code",
   "execution_count": null,
   "metadata": {},
   "outputs": [],
   "source": []
  },
  {
   "cell_type": "code",
   "execution_count": 1,
   "metadata": {},
   "outputs": [],
   "source": [
    "## TEST THESIS WORKFLOW\n",
    "import pandas as pd\n",
    "import reskit as rk\n",
    "import numpy as np\n",
    "from reskit.workflows.solar import openfield_pv_with_merra_ryberg2019\n",
    "\n",
    "xds = openfield_pv_with_merra_ryberg2019(\n",
    "    placements = pd.read_csv(rk.TEST_DATA['module_placements.csv']),\n",
    "    merra_path = rk.TEST_DATA['merra-like'],\n",
    "    global_solar_atlas_ghi_path = rk.TEST_DATA['gsa-ghi-like.tif'],\n",
    ")\n",
    "\n",
    "\n",
    "# print(xds['capacity_factor'].fillna(0).mean(), xds['capacity_factor'].fillna(0).std())\n",
    "assert np.isclose( xds['capacity_factor'].fillna(0).mean(), 0.04232331 )\n",
    "assert np.isclose( xds['capacity_factor'].fillna(0).std(), 0.09861673)"
   ]
  },
  {
   "cell_type": "code",
   "execution_count": 5,
   "metadata": {},
   "outputs": [
    {
     "name": "stderr",
     "output_type": "stream",
     "text": [
      "C:\\Users\\s.ryberg\\AppData\\Local\\Continuum\\anaconda3\\envs\\sevpy\\lib\\site-packages\\pvlib\\irradiance.py:1056: RuntimeWarning: divide by zero encountered in true_divide\n",
      "  eps = ((dhi + dni) / dhi + kappa * (z ** 3)) / (1 + kappa * (z ** 3))\n"
     ]
    }
   ],
   "source": [
    "## TEST ERA5 WORKFLOW\n",
    "import pandas as pd\n",
    "import reskit as rk\n",
    "import numpy as np\n",
    "from reskit.workflows.solar import openfield_pv_with_era5_unvalidated\n",
    "\n",
    "\n",
    "xds2 = openfield_pv_with_era5_unvalidated(\n",
    "    placements = pd.read_csv(rk.TEST_DATA['module_placements.csv']),\n",
    "    era5_path = rk.TEST_DATA['era5-like'],\n",
    "    global_solar_atlas_ghi_path = rk.TEST_DATA['gsa-ghi-like.tif'],\n",
    "    global_solar_atlas_dni_path = rk.TEST_DATA['gsa-dni-like.tif'],\n",
    ")\n",
    "\n",
    "\n",
    "# print(xds2['capacity_factor'].fillna(0).mean(), xds2['capacity_factor'].fillna(0).std())\n",
    "assert np.isclose( xds2['capacity_factor'].fillna(0).mean(), 0.10311327 )\n",
    "assert np.isclose( xds2['capacity_factor'].fillna(0).std(), 0.19797446)"
   ]
  },
  {
   "cell_type": "code",
   "execution_count": 6,
   "metadata": {},
   "outputs": [],
   "source": [
    "## TEST SARAH WORKFLOW\n",
    "import pandas as pd\n",
    "import reskit as rk\n",
    "import numpy as np\n",
    "from reskit.workflows.solar import openfield_pv_with_sarah_unvalidated\n",
    "\n",
    "xds3 = openfield_pv_with_sarah_unvalidated(\n",
    "    placements = pd.read_csv(rk.TEST_DATA['module_placements.csv']),\n",
    "    sarah_path = rk.TEST_DATA['sarah-like'],\n",
    "    era5_path = rk.TEST_DATA['era5-like']\n",
    ")\n",
    "\n",
    "\n",
    "# print(xds3['capacity_factor'].fillna(0).mean(), xds3['capacity_factor'].fillna(0).std())\n",
    "assert np.isclose( xds3['capacity_factor'].fillna(0).mean(), 0.14937886 )\n",
    "assert np.isclose( xds3['capacity_factor'].fillna(0).std(), 0.252294)"
   ]
  },
  {
   "cell_type": "code",
   "execution_count": 9,
   "metadata": {},
   "outputs": [
    {
     "data": {
      "image/png": "[encoded data removed]",
      "text/plain": [
       "<Figure size 1080x288 with 1 Axes>"
      ]
     },
     "metadata": {
      "needs_background": "light"
     },
     "output_type": "display_data"
    }
   ],
   "source": [
    "import matplotlib.pyplot as plt\n",
    "\n",
    "plt.figure(figsize=(15,4))\n",
    "\n",
    "var = \"capacity_factor\"\n",
    "xds[var][:,0].fillna(0).plot()\n",
    "xds2[var][:,0].fillna(0).plot()\n",
    "xds3[var][:,0].fillna(0).plot()\n",
    "\n",
    "plt.grid()\n",
    "\n",
    "plt.gca().set_xlim( pd.Timestamp(\"2015-01-01 00:00:00\"), pd.Timestamp(\"2015-01-04 00:00:00\" ) )\n",
    "plt.show()"
   ]
  },
  {
   "cell_type": "code",
   "execution_count": null,
   "metadata": {},
   "outputs": [],
   "source": []
  }
 ],
 "metadata": {
  "kernelspec": {
   "display_name": "Python 3",
   "language": "python",
   "name": "python3"
  },
  "language_info": {
   "codemirror_mode": {
    "name": "ipython",
    "version": 3
   },
   "file_extension": ".py",
   "mimetype": "text/x-python",
   "name": "python",
   "nbconvert_exporter": "python",
   "pygments_lexer": "ipython3",
   "version": "3.8.1"
  }
 },
 "nbformat": 4,
 "nbformat_minor": 4
}
