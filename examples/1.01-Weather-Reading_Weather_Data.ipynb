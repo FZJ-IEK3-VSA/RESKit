{
 "cells": [
  {
   "cell_type": "code",
   "execution_count": 1,
   "metadata": {},
   "outputs": [],
   "source": [
    "import reskit as rk"
   ]
  },
  {
   "cell_type": "markdown",
   "metadata": {},
   "source": [
    "# Initialize a MERRA data file\n",
    "\n",
    "* In this case, rk.\\_TEST\\_DATA_[\"weather_data\"] points to a netCDF4 file on your machine with climate model weather datasets\n",
    "* If rk.\\_TEST\\_DATA_[\"weather_data\"] points to a folder, all netCDF4 files in that folder will be scanned"
   ]
  },
  {
   "cell_type": "code",
   "execution_count": 2,
   "metadata": {},
   "outputs": [
    {
     "name": "stdout",
     "output_type": "stream",
     "text": [
      "c:\\users\\s.ryberg\\fzj\\repos\\res\\reskit\\_test\\data\\merra-like\n"
     ]
    }
   ],
   "source": [
    "print(rk.TEST_DATA[\"merra-like\"])"
   ]
  },
  {
   "cell_type": "code",
   "execution_count": 3,
   "metadata": {},
   "outputs": [
    {
     "name": "stdout",
     "output_type": "stream",
     "text": [
      "c:\\users\\s.ryberg\\fzj\\repos\\res\\reskit\\_test\\data\\merra-like\\MERRA_tavg1_2d.2015.Europe.PS.nc4\n",
      "c:\\users\\s.ryberg\\fzj\\repos\\res\\reskit\\_test\\data\\merra-like\\MERRA_tavg1_2d.2015.Europe.SWGDN.nc4\n",
      "c:\\users\\s.ryberg\\fzj\\repos\\res\\reskit\\_test\\data\\merra-like\\MERRA_tavg1_2d.2015.Europe.T10M.nc4\n",
      "c:\\users\\s.ryberg\\fzj\\repos\\res\\reskit\\_test\\data\\merra-like\\MERRA_tavg1_2d.2015.Europe.T2M.nc4\n",
      "c:\\users\\s.ryberg\\fzj\\repos\\res\\reskit\\_test\\data\\merra-like\\MERRA_tavg1_2d.2015.Europe.T2MDEW.nc4\n",
      "c:\\users\\s.ryberg\\fzj\\repos\\res\\reskit\\_test\\data\\merra-like\\MERRA_tavg1_2d.2015.Europe.U10M.nc4\n",
      "c:\\users\\s.ryberg\\fzj\\repos\\res\\reskit\\_test\\data\\merra-like\\MERRA_tavg1_2d.2015.Europe.U2M.nc4\n",
      "c:\\users\\s.ryberg\\fzj\\repos\\res\\reskit\\_test\\data\\merra-like\\MERRA_tavg1_2d.2015.Europe.U50M.nc4\n",
      "c:\\users\\s.ryberg\\fzj\\repos\\res\\reskit\\_test\\data\\merra-like\\MERRA_tavg1_2d.2015.Europe.V10M.nc4\n",
      "c:\\users\\s.ryberg\\fzj\\repos\\res\\reskit\\_test\\data\\merra-like\\MERRA_tavg1_2d.2015.Europe.V2M.nc4\n",
      "c:\\users\\s.ryberg\\fzj\\repos\\res\\reskit\\_test\\data\\merra-like\\MERRA_tavg1_2d.2015.Europe.V50M.nc4\n"
     ]
    }
   ],
   "source": [
    "# The 'bounds' input limits the spatial domain of the weath data which is loaded into memory\n",
    "#  - given as: [low-lat, low-lon, high-lat, high-lon]\n",
    "\n",
    "# The files scanned will be listed, unless verbose=False is specified\n",
    "\n",
    "src = rk.weather.MerraSource(rk.TEST_DATA[\"merra-like\"], bounds=[5,49,7,52])"
   ]
  },
  {
   "cell_type": "code",
   "execution_count": 4,
   "metadata": {},
   "outputs": [
    {
     "data": {
      "text/html": [
       "<div>\n",
       "<style scoped>\n",
       "    .dataframe tbody tr th:only-of-type {\n",
       "        vertical-align: middle;\n",
       "    }\n",
       "\n",
       "    .dataframe tbody tr th {\n",
       "        vertical-align: top;\n",
       "    }\n",
       "\n",
       "    .dataframe thead th {\n",
       "        text-align: right;\n",
       "    }\n",
       "</style>\n",
       "<table border=\"1\" class=\"dataframe\">\n",
       "  <thead>\n",
       "    <tr style=\"text-align: right;\">\n",
       "      <th></th>\n",
       "      <th>name</th>\n",
       "      <th>units</th>\n",
       "      <th>path</th>\n",
       "      <th>shape</th>\n",
       "    </tr>\n",
       "  </thead>\n",
       "  <tbody>\n",
       "    <tr>\n",
       "      <th>time</th>\n",
       "      <td>time</td>\n",
       "      <td>minutes since 2015-01-01 00:30:00</td>\n",
       "      <td>c:\\users\\s.ryberg\\fzj\\repos\\res\\reskit\\_test\\d...</td>\n",
       "      <td>(71,)</td>\n",
       "    </tr>\n",
       "    <tr>\n",
       "      <th>lon</th>\n",
       "      <td>longitude</td>\n",
       "      <td>degrees_east</td>\n",
       "      <td>c:\\users\\s.ryberg\\fzj\\repos\\res\\reskit\\_test\\d...</td>\n",
       "      <td>(5,)</td>\n",
       "    </tr>\n",
       "    <tr>\n",
       "      <th>lat</th>\n",
       "      <td>latitude</td>\n",
       "      <td>degrees_north</td>\n",
       "      <td>c:\\users\\s.ryberg\\fzj\\repos\\res\\reskit\\_test\\d...</td>\n",
       "      <td>(7,)</td>\n",
       "    </tr>\n",
       "    <tr>\n",
       "      <th>PS</th>\n",
       "      <td>surface_pressure</td>\n",
       "      <td>Pa</td>\n",
       "      <td>c:\\users\\s.ryberg\\fzj\\repos\\res\\reskit\\_test\\d...</td>\n",
       "      <td>(71, 7, 5)</td>\n",
       "    </tr>\n",
       "    <tr>\n",
       "      <th>SWGDN</th>\n",
       "      <td>surface_incoming_shortwave_flux</td>\n",
       "      <td>W m-2</td>\n",
       "      <td>c:\\users\\s.ryberg\\fzj\\repos\\res\\reskit\\_test\\d...</td>\n",
       "      <td>(71, 7, 5)</td>\n",
       "    </tr>\n",
       "    <tr>\n",
       "      <th>T10M</th>\n",
       "      <td>10-meter_air_temperature</td>\n",
       "      <td>K</td>\n",
       "      <td>c:\\users\\s.ryberg\\fzj\\repos\\res\\reskit\\_test\\d...</td>\n",
       "      <td>(71, 7, 5)</td>\n",
       "    </tr>\n",
       "    <tr>\n",
       "      <th>T2M</th>\n",
       "      <td>2-meter_air_temperature</td>\n",
       "      <td>K</td>\n",
       "      <td>c:\\users\\s.ryberg\\fzj\\repos\\res\\reskit\\_test\\d...</td>\n",
       "      <td>(71, 7, 5)</td>\n",
       "    </tr>\n",
       "    <tr>\n",
       "      <th>T2MDEW</th>\n",
       "      <td>dew_point_temperature_at_2_m</td>\n",
       "      <td>K</td>\n",
       "      <td>c:\\users\\s.ryberg\\fzj\\repos\\res\\reskit\\_test\\d...</td>\n",
       "      <td>(71, 7, 5)</td>\n",
       "    </tr>\n",
       "    <tr>\n",
       "      <th>U10M</th>\n",
       "      <td>10-meter_eastward_wind</td>\n",
       "      <td>m s-1</td>\n",
       "      <td>c:\\users\\s.ryberg\\fzj\\repos\\res\\reskit\\_test\\d...</td>\n",
       "      <td>(71, 7, 5)</td>\n",
       "    </tr>\n",
       "    <tr>\n",
       "      <th>U2M</th>\n",
       "      <td>2-meter_eastward_wind</td>\n",
       "      <td>m s-1</td>\n",
       "      <td>c:\\users\\s.ryberg\\fzj\\repos\\res\\reskit\\_test\\d...</td>\n",
       "      <td>(71, 7, 5)</td>\n",
       "    </tr>\n",
       "    <tr>\n",
       "      <th>U50M</th>\n",
       "      <td>eastward_wind_at_50_meters</td>\n",
       "      <td>m s-1</td>\n",
       "      <td>c:\\users\\s.ryberg\\fzj\\repos\\res\\reskit\\_test\\d...</td>\n",
       "      <td>(71, 7, 5)</td>\n",
       "    </tr>\n",
       "    <tr>\n",
       "      <th>V10M</th>\n",
       "      <td>10-meter_northward_wind</td>\n",
       "      <td>m s-1</td>\n",
       "      <td>c:\\users\\s.ryberg\\fzj\\repos\\res\\reskit\\_test\\d...</td>\n",
       "      <td>(71, 7, 5)</td>\n",
       "    </tr>\n",
       "    <tr>\n",
       "      <th>V2M</th>\n",
       "      <td>2-meter_northward_wind</td>\n",
       "      <td>m s-1</td>\n",
       "      <td>c:\\users\\s.ryberg\\fzj\\repos\\res\\reskit\\_test\\d...</td>\n",
       "      <td>(71, 7, 5)</td>\n",
       "    </tr>\n",
       "    <tr>\n",
       "      <th>V50M</th>\n",
       "      <td>northward_wind_at_50_meters</td>\n",
       "      <td>m s-1</td>\n",
       "      <td>c:\\users\\s.ryberg\\fzj\\repos\\res\\reskit\\_test\\d...</td>\n",
       "      <td>(71, 7, 5)</td>\n",
       "    </tr>\n",
       "  </tbody>\n",
       "</table>\n",
       "</div>"
      ],
      "text/plain": [
       "                                   name                              units  \\\n",
       "time                               time  minutes since 2015-01-01 00:30:00   \n",
       "lon                           longitude                       degrees_east   \n",
       "lat                            latitude                      degrees_north   \n",
       "PS                     surface_pressure                                 Pa   \n",
       "SWGDN   surface_incoming_shortwave_flux                              W m-2   \n",
       "T10M           10-meter_air_temperature                                  K   \n",
       "T2M             2-meter_air_temperature                                  K   \n",
       "T2MDEW     dew_point_temperature_at_2_m                                  K   \n",
       "U10M             10-meter_eastward_wind                              m s-1   \n",
       "U2M               2-meter_eastward_wind                              m s-1   \n",
       "U50M         eastward_wind_at_50_meters                              m s-1   \n",
       "V10M            10-meter_northward_wind                              m s-1   \n",
       "V2M              2-meter_northward_wind                              m s-1   \n",
       "V50M        northward_wind_at_50_meters                              m s-1   \n",
       "\n",
       "                                                     path       shape  \n",
       "time    c:\\users\\s.ryberg\\fzj\\repos\\res\\reskit\\_test\\d...       (71,)  \n",
       "lon     c:\\users\\s.ryberg\\fzj\\repos\\res\\reskit\\_test\\d...        (5,)  \n",
       "lat     c:\\users\\s.ryberg\\fzj\\repos\\res\\reskit\\_test\\d...        (7,)  \n",
       "PS      c:\\users\\s.ryberg\\fzj\\repos\\res\\reskit\\_test\\d...  (71, 7, 5)  \n",
       "SWGDN   c:\\users\\s.ryberg\\fzj\\repos\\res\\reskit\\_test\\d...  (71, 7, 5)  \n",
       "T10M    c:\\users\\s.ryberg\\fzj\\repos\\res\\reskit\\_test\\d...  (71, 7, 5)  \n",
       "T2M     c:\\users\\s.ryberg\\fzj\\repos\\res\\reskit\\_test\\d...  (71, 7, 5)  \n",
       "T2MDEW  c:\\users\\s.ryberg\\fzj\\repos\\res\\reskit\\_test\\d...  (71, 7, 5)  \n",
       "U10M    c:\\users\\s.ryberg\\fzj\\repos\\res\\reskit\\_test\\d...  (71, 7, 5)  \n",
       "U2M     c:\\users\\s.ryberg\\fzj\\repos\\res\\reskit\\_test\\d...  (71, 7, 5)  \n",
       "U50M    c:\\users\\s.ryberg\\fzj\\repos\\res\\reskit\\_test\\d...  (71, 7, 5)  \n",
       "V10M    c:\\users\\s.ryberg\\fzj\\repos\\res\\reskit\\_test\\d...  (71, 7, 5)  \n",
       "V2M     c:\\users\\s.ryberg\\fzj\\repos\\res\\reskit\\_test\\d...  (71, 7, 5)  \n",
       "V50M    c:\\users\\s.ryberg\\fzj\\repos\\res\\reskit\\_test\\d...  (71, 7, 5)  "
      ]
     },
     "execution_count": 4,
     "metadata": {},
     "output_type": "execute_result"
    }
   ],
   "source": [
    "# See all of the variables in this file...\n",
    "src.variables"
   ]
  },
  {
   "cell_type": "markdown",
   "metadata": {},
   "source": [
    "# Preload the data in this region"
   ]
  },
  {
   "cell_type": "code",
   "execution_count": 5,
   "metadata": {},
   "outputs": [],
   "source": [
    "# Load a specific variable\n",
    "src.load(\"U50M\", name=\"wind_speed\")"
   ]
  },
  {
   "cell_type": "markdown",
   "metadata": {},
   "source": [
    "# Get the time series for a specific location"
   ]
  },
  {
   "cell_type": "code",
   "execution_count": 6,
   "metadata": {},
   "outputs": [
    {
     "data": {
      "text/plain": [
       "2015-01-01 00:30:00+00:00    3.564828\n",
       "2015-01-01 01:30:00+00:00    3.401189\n",
       "2015-01-01 02:30:00+00:00    3.127785\n",
       "2015-01-01 03:30:00+00:00    2.838547\n",
       "2015-01-01 04:30:00+00:00    2.414742\n",
       "Name: (6.00000,50.00000), dtype: float32"
      ]
     },
     "execution_count": 6,
     "metadata": {},
     "output_type": "execute_result"
    }
   ],
   "source": [
    "# Get a time series for a single location\n",
    "# Locations are given as (Lon, lat)\n",
    "t = src.get( \"wind_speed\", locations = (6.,50.) )\n",
    "\n",
    "t.head()"
   ]
  },
  {
   "cell_type": "code",
   "execution_count": 7,
   "metadata": {},
   "outputs": [
    {
     "data": {
      "text/html": [
       "<div>\n",
       "<style scoped>\n",
       "    .dataframe tbody tr th:only-of-type {\n",
       "        vertical-align: middle;\n",
       "    }\n",
       "\n",
       "    .dataframe tbody tr th {\n",
       "        vertical-align: top;\n",
       "    }\n",
       "\n",
       "    .dataframe thead th {\n",
       "        text-align: right;\n",
       "    }\n",
       "</style>\n",
       "<table border=\"1\" class=\"dataframe\">\n",
       "  <thead>\n",
       "    <tr style=\"text-align: right;\">\n",
       "      <th></th>\n",
       "      <th>(5.50000,50.00000)</th>\n",
       "      <th>(6.00000,50.00000)</th>\n",
       "      <th>(6.70000,50.00000)</th>\n",
       "    </tr>\n",
       "  </thead>\n",
       "  <tbody>\n",
       "    <tr>\n",
       "      <th>2015-01-01 00:30:00+00:00</th>\n",
       "      <td>2.886117</td>\n",
       "      <td>3.564828</td>\n",
       "      <td>3.810922</td>\n",
       "    </tr>\n",
       "    <tr>\n",
       "      <th>2015-01-01 01:30:00+00:00</th>\n",
       "      <td>2.529118</td>\n",
       "      <td>3.401189</td>\n",
       "      <td>3.825017</td>\n",
       "    </tr>\n",
       "    <tr>\n",
       "      <th>2015-01-01 02:30:00+00:00</th>\n",
       "      <td>2.138527</td>\n",
       "      <td>3.127785</td>\n",
       "      <td>3.693214</td>\n",
       "    </tr>\n",
       "    <tr>\n",
       "      <th>2015-01-01 03:30:00+00:00</th>\n",
       "      <td>1.761887</td>\n",
       "      <td>2.838547</td>\n",
       "      <td>3.489914</td>\n",
       "    </tr>\n",
       "    <tr>\n",
       "      <th>2015-01-01 04:30:00+00:00</th>\n",
       "      <td>1.258858</td>\n",
       "      <td>2.414742</td>\n",
       "      <td>3.195015</td>\n",
       "    </tr>\n",
       "  </tbody>\n",
       "</table>\n",
       "</div>"
      ],
      "text/plain": [
       "                           (5.50000,50.00000)  (6.00000,50.00000)  \\\n",
       "2015-01-01 00:30:00+00:00            2.886117            3.564828   \n",
       "2015-01-01 01:30:00+00:00            2.529118            3.401189   \n",
       "2015-01-01 02:30:00+00:00            2.138527            3.127785   \n",
       "2015-01-01 03:30:00+00:00            1.761887            2.838547   \n",
       "2015-01-01 04:30:00+00:00            1.258858            2.414742   \n",
       "\n",
       "                           (6.70000,50.00000)  \n",
       "2015-01-01 00:30:00+00:00            3.810922  \n",
       "2015-01-01 01:30:00+00:00            3.825017  \n",
       "2015-01-01 02:30:00+00:00            3.693214  \n",
       "2015-01-01 03:30:00+00:00            3.489914  \n",
       "2015-01-01 04:30:00+00:00            3.195015  "
      ]
     },
     "execution_count": 7,
     "metadata": {},
     "output_type": "execute_result"
    }
   ],
   "source": [
    "# Get a time series for multiple locations\n",
    "t = src.get( \"wind_speed\", locations = [(5.5,50.), (6.0,50.), (6.7,50.)])\n",
    "\n",
    "t.head()"
   ]
  },
  {
   "cell_type": "code",
   "execution_count": 8,
   "metadata": {},
   "outputs": [
    {
     "data": {
      "text/plain": [
       "2015-01-01 00:30:00+00:00    3.293344\n",
       "2015-01-01 01:30:00+00:00    3.052360\n",
       "2015-01-01 02:30:00+00:00    2.732082\n",
       "2015-01-01 03:30:00+00:00    2.407883\n",
       "2015-01-01 04:30:00+00:00    1.952389\n",
       "Name: (6.00000,50.00000), dtype: float64"
      ]
     },
     "execution_count": 8,
     "metadata": {},
     "output_type": "execute_result"
    }
   ],
   "source": [
    "# Get a time series for a single location, but interpolate the surrounding MERRA points the specified location(s)\n",
    "# Options are:\n",
    "#  'bilinear' -> Uses linear interpolation. Requires the surrounding 4 index points\n",
    "#  'cubic' -> Uses cubic interpolation. Requires the surrounding 16 index points\n",
    "t = src.get( \"wind_speed\", (6.,50.), interpolation='bilinear' )\n",
    "\n",
    "t.head()"
   ]
  },
  {
   "cell_type": "markdown",
   "metadata": {},
   "source": [
    "# Standard Loaders\n",
    "\n",
    "Many weathre sources have similar (but nevertheless slightly different) variables which often need to be transformed into a standard unit. Therefore RESKit configures each weather source with numerous available 'standard loader' functions"
   ]
  },
  {
   "cell_type": "code",
   "execution_count": 10,
   "metadata": {},
   "outputs": [
    {
     "name": "stdout",
     "output_type": "stream",
     "text": [
      "sload_elevated_wind_direction\n",
      "sload_elevated_wind_speed\n",
      "sload_global_horizontal_irradiance\n",
      "sload_surface_air_temperature\n",
      "sload_surface_dew_temperature\n",
      "sload_surface_pressure\n",
      "sload_surface_wind_direction\n",
      "sload_surface_wind_speed\n",
      "sload_wind_direction_at_10m\n",
      "sload_wind_direction_at_2m\n",
      "sload_wind_direction_at_50m\n",
      "sload_wind_speed_at_10m\n",
      "sload_wind_speed_at_2m\n",
      "sload_wind_speed_at_50m\n"
     ]
    }
   ],
   "source": [
    "src.list_standard_variables()"
   ]
  },
  {
   "cell_type": "code",
   "execution_count": 11,
   "metadata": {},
   "outputs": [],
   "source": [
    "# Load, for example, \"surface air temperature\", which will always be output in degrees-Celcius\n",
    "src.sload_surface_air_temperature()"
   ]
  },
  {
   "cell_type": "code",
   "execution_count": 12,
   "metadata": {},
   "outputs": [
    {
     "data": {
      "text/plain": [
       "2015-01-01 00:30:00+00:00   -2.400848\n",
       "2015-01-01 01:30:00+00:00   -2.561975\n",
       "2015-01-01 02:30:00+00:00   -2.745178\n",
       "2015-01-01 03:30:00+00:00   -2.974139\n",
       "2015-01-01 04:30:00+00:00   -3.179675\n",
       "Name: (6.00000,50.00000), dtype: float64"
      ]
     },
     "execution_count": 12,
     "metadata": {},
     "output_type": "execute_result"
    }
   ],
   "source": [
    "# Access the data using the same name\n",
    "t = src.get( \"surface_air_temperature\", (6.,50.), interpolation='bilinear' )\n",
    "\n",
    "t.head()"
   ]
  },
  {
   "cell_type": "code",
   "execution_count": null,
   "metadata": {},
   "outputs": [],
   "source": []
  }
 ],
 "metadata": {
  "kernelspec": {
   "display_name": "Python 3",
   "language": "python",
   "name": "python3"
  },
  "language_info": {
   "codemirror_mode": {
    "name": "ipython",
    "version": 3
   },
   "file_extension": ".py",
   "mimetype": "text/x-python",
   "name": "python",
   "nbconvert_exporter": "python",
   "pygments_lexer": "ipython3",
   "version": "3.8.2"
  }
 },
 "nbformat": 4,
 "nbformat_minor": 4
}
