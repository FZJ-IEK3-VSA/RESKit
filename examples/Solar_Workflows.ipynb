{
 "cells": [
  {
   "cell_type": "code",
   "execution_count": 1,
   "metadata": {},
   "outputs": [],
   "source": [
    "import reskit as rk\n",
    "import pandas as pd"
   ]
  },
  {
   "cell_type": "code",
   "execution_count": 2,
   "metadata": {},
   "outputs": [
    {
     "name": "stderr",
     "output_type": "stream",
     "text": [
      "/fast/home/p-dunkel/testing/RESKit/reskit/workflow_manager.py:393: DeprecationWarning: 'nan' value for 'nodata_fallback' is deprecated and will be removed soon. Use np.nan instead.\n",
      "  warnings.warn(\n"
     ]
    },
    {
     "data": {
      "text/plain": [
       "(0.04185117246354244, 0.09839841335211258)"
      ]
     },
     "execution_count": 2,
     "metadata": {},
     "output_type": "execute_result"
    }
   ],
   "source": [
    "xds = rk.solar.openfield_pv_merra_ryberg2019(\n",
    "    placements=pd.read_csv(rk.TEST_DATA[\"module_placements.csv\"]),\n",
    "    merra_path=rk.TEST_DATA[\"merra-like\"],\n",
    "    global_solar_atlas_ghi_path=rk.TEST_DATA[\"gsa-ghi-like.tif\"],\n",
    ")\n",
    "\n",
    "xds[\"capacity_factor\"].fillna(0).values.mean(), xds[\"capacity_factor\"].fillna(\n",
    "    0\n",
    ").values.std()"
   ]
  },
  {
   "cell_type": "code",
   "execution_count": 3,
   "metadata": {},
   "outputs": [
    {
     "data": {
      "text/plain": [
       "(0.14925646752714336, 0.25206153274064974)"
      ]
     },
     "execution_count": 3,
     "metadata": {},
     "output_type": "execute_result"
    }
   ],
   "source": [
    "xds = rk.solar.openfield_pv_sarah_unvalidated(\n",
    "    placements=pd.read_csv(rk.TEST_DATA[\"module_placements.csv\"]),\n",
    "    sarah_path=rk.TEST_DATA[\"sarah-like\"],\n",
    "    era5_path=rk.TEST_DATA[\"era5-like\"],\n",
    ")\n",
    "\n",
    "xds[\"capacity_factor\"].fillna(0).values.mean(), xds[\"capacity_factor\"].fillna(\n",
    "    0\n",
    ").values.std()"
   ]
  },
  {
   "cell_type": "code",
   "execution_count": 4,
   "metadata": {},
   "outputs": [
    {
     "data": {
      "text/plain": [
       "(0.07993963807719036, 0.1624858315370006)"
      ]
     },
     "execution_count": 4,
     "metadata": {},
     "output_type": "execute_result"
    }
   ],
   "source": [
    "xds = rk.solar.openfield_pv_era5(\n",
    "    placements=pd.read_csv(rk.TEST_DATA[\"module_placements.csv\"]),\n",
    "    era5_path=rk.TEST_DATA[\"era5-like\"],\n",
    "    global_solar_atlas_ghi_path=rk.TEST_DATA[\"gsa-ghi-like.tif\"],\n",
    "    global_solar_atlas_dni_path=rk.TEST_DATA[\"gsa-dni-like.tif\"],\n",
    ")\n",
    "\n",
    "xds[\"capacity_factor\"].fillna(0).values.mean(), xds[\"capacity_factor\"].fillna(\n",
    "    0\n",
    ").values.std()"
   ]
  },
  {
   "cell_type": "code",
   "execution_count": null,
   "metadata": {},
   "outputs": [],
   "source": []
  }
 ],
 "metadata": {
  "kernelspec": {
   "display_name": "reskit",
   "language": "python",
   "name": "python3"
  },
  "language_info": {
   "codemirror_mode": {
    "name": "ipython",
    "version": 3
   },
   "file_extension": ".py",
   "mimetype": "text/x-python",
   "name": "python",
   "nbconvert_exporter": "python",
   "pygments_lexer": "ipython3",
   "version": "3.10.13"
  }
 },
 "nbformat": 4,
 "nbformat_minor": 4
}
