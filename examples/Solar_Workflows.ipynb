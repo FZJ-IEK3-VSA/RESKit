{
 "cells": [
  {
   "cell_type": "code",
   "execution_count": 1,
   "metadata": {},
   "outputs": [],
   "source": [
    "import reskit as rk\n",
    "import pandas as pd"
   ]
  },
  {
   "cell_type": "code",
   "execution_count": 2,
   "metadata": {},
   "outputs": [
    {
     "data": {
      "text/plain": [
       "(0.0423233089104177, 0.09861673228265366)"
      ]
     },
     "execution_count": 2,
     "metadata": {},
     "output_type": "execute_result"
    }
   ],
   "source": [
    "xds = rk.solar.openfield_pv_merra_ryberg2019(\n",
    "    placements = pd.read_csv(rk.TEST_DATA[\"module_placements.csv\"]),\n",
    "    merra_path=rk.TEST_DATA['merra-like'],\n",
    "    global_solar_atlas_ghi_path=rk.TEST_DATA['gsa-ghi-like.tif'],\n",
    ")\n",
    "\n",
    "xds['capacity_factor'].fillna(0).values.mean(), xds['capacity_factor'].fillna(0).values.std()"
   ]
  },
  {
   "cell_type": "code",
   "execution_count": 3,
   "metadata": {},
   "outputs": [
    {
     "data": {
      "text/plain": [
       "(0.14937885930013228, 0.2522940028432295)"
      ]
     },
     "execution_count": 3,
     "metadata": {},
     "output_type": "execute_result"
    }
   ],
   "source": [
    "xds = rk.solar.openfield_pv_sarah_unvalidated(\n",
    "    placements = pd.read_csv(rk.TEST_DATA[\"module_placements.csv\"]),\n",
    "    sarah_path=rk.TEST_DATA['sarah-like'],\n",
    "    era5_path=rk.TEST_DATA['era5-like'],\n",
    ")\n",
    "\n",
    "xds['capacity_factor'].fillna(0).values.mean(), xds['capacity_factor'].fillna(0).values.std()"
   ]
  },
  {
   "cell_type": "code",
   "execution_count": 4,
   "metadata": {},
   "outputs": [
    {
     "name": "stderr",
     "output_type": "stream",
     "text": [
      "C:\\Users\\s.ryberg\\AppData\\Local\\Continuum\\anaconda3\\envs\\sevpy\\lib\\site-packages\\pvlib\\irradiance.py:1056: RuntimeWarning: divide by zero encountered in true_divide\n",
      "  eps = ((dhi + dni) / dhi + kappa * (z ** 3)) / (1 + kappa * (z ** 3))\n"
     ]
    },
    {
     "data": {
      "text/plain": [
       "(0.10311327039856834, 0.19797445982454132)"
      ]
     },
     "execution_count": 4,
     "metadata": {},
     "output_type": "execute_result"
    }
   ],
   "source": [
    "xds = rk.solar.openfield_pv_era5_unvalidated(\n",
    "    placements = pd.read_csv(rk.TEST_DATA[\"module_placements.csv\"]),\n",
    "    era5_path=rk.TEST_DATA['era5-like'],\n",
    "    global_solar_atlas_ghi_path=rk.TEST_DATA['gsa-ghi-like.tif'],\n",
    "    global_solar_atlas_dni_path=rk.TEST_DATA['gsa-dni-like.tif'],\n",
    ")\n",
    "\n",
    "xds['capacity_factor'].fillna(0).values.mean(), xds['capacity_factor'].fillna(0).values.std()"
   ]
  },
  {
   "cell_type": "code",
   "execution_count": null,
   "metadata": {},
   "outputs": [],
   "source": []
  }
 ],
 "metadata": {
  "kernelspec": {
   "display_name": "Python 3.8.1 64-bit ('sevpy': conda)",
   "language": "python",
   "name": "python38164bitsevpycondadf692df3b17b4950b5f3d38ac966c15d"
  },
  "language_info": {
   "codemirror_mode": {
    "name": "ipython",
    "version": 3
   },
   "file_extension": ".py",
   "mimetype": "text/x-python",
   "name": "python",
   "nbconvert_exporter": "python",
   "pygments_lexer": "ipython3",
   "version": "3.8.1"
  }
 },
 "nbformat": 4,
 "nbformat_minor": 4
}
