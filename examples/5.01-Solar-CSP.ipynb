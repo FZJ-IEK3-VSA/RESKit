{
 "cells": [
  {
   "cell_type": "markdown",
   "metadata": {},
   "source": [
    "# Solar PV Simulation Workflow"
   ]
  },
  {
   "cell_type": "code",
   "execution_count": 4,
   "metadata": {},
   "outputs": [],
   "source": [
    "# import reskit as rk\n",
    "import pandas as pd\n",
    "import numpy as np"
   ]
  },
  {
   "source": [
    "## CSP"
   ],
   "cell_type": "markdown",
   "metadata": {}
  },
  {
   "cell_type": "code",
   "execution_count": 2,
   "metadata": {},
   "outputs": [
    {
     "output_type": "execute_result",
     "data": {
      "text/plain": [
       "      lon     lat  tilt  azimuth  capacity  elev  Area\n",
       "0  13.410  52.510    32      180      2000   250   100\n",
       "0   6.083  50.775    32      180      2000   250   200\n",
       "0   6.083  50.775    32      180      2000   250   200"
      ],
      "text/html": "<div>\n<style scoped>\n    .dataframe tbody tr th:only-of-type {\n        vertical-align: middle;\n    }\n\n    .dataframe tbody tr th {\n        vertical-align: top;\n    }\n\n    .dataframe thead th {\n        text-align: right;\n    }\n</style>\n<table border=\"1\" class=\"dataframe\">\n  <thead>\n    <tr style=\"text-align: right;\">\n      <th></th>\n      <th>lon</th>\n      <th>lat</th>\n      <th>tilt</th>\n      <th>azimuth</th>\n      <th>capacity</th>\n      <th>elev</th>\n      <th>Area</th>\n    </tr>\n  </thead>\n  <tbody>\n    <tr>\n      <th>0</th>\n      <td>13.410</td>\n      <td>52.510</td>\n      <td>32</td>\n      <td>180</td>\n      <td>2000</td>\n      <td>250</td>\n      <td>100</td>\n    </tr>\n    <tr>\n      <th>0</th>\n      <td>6.083</td>\n      <td>50.775</td>\n      <td>32</td>\n      <td>180</td>\n      <td>2000</td>\n      <td>250</td>\n      <td>200</td>\n    </tr>\n    <tr>\n      <th>0</th>\n      <td>6.083</td>\n      <td>50.775</td>\n      <td>32</td>\n      <td>180</td>\n      <td>2000</td>\n      <td>250</td>\n      <td>200</td>\n    </tr>\n  </tbody>\n</table>\n</div>"
     },
     "metadata": {},
     "execution_count": 2
    }
   ],
   "source": [
    "# Make a placements dataframe\n",
    "placements1 = pd.DataFrame()\n",
    "placements1[\"lon\"] = [\n",
    "    13.41,\n",
    "]  # Longitude\n",
    "placements1[\"lat\"] = [\n",
    "    52.51,\n",
    "]  # Latitude\n",
    "placements1[\"tilt\"] = [\n",
    "    32,\n",
    "]  # System tilt in degrees\n",
    "placements1[\"azimuth\"] = [\n",
    "    180,\n",
    "]  # System azimuth in degrees\n",
    "placements1[\"capacity\"] = [\n",
    "    2000,\n",
    "]  # Total system capacity in kW\n",
    "placements1[\"elev\"] = [\n",
    "    250,\n",
    "]  # Altitute in meters\n",
    "placements1[\"Area\"] = [100]  # Park size in m**2\n",
    "\n",
    "placements2 = pd.DataFrame()\n",
    "placements2[\"lon\"] = [\n",
    "    6.083,\n",
    "]  # Longitude\n",
    "placements2[\"lat\"] = [\n",
    "    50.775,\n",
    "]  # Latitude\n",
    "placements2[\"tilt\"] = [\n",
    "    32,\n",
    "]  # System tilt in degrees\n",
    "placements2[\"azimuth\"] = [\n",
    "    180,\n",
    "]  # System azimuth in degrees\n",
    "placements2[\"capacity\"] = [\n",
    "    2000,\n",
    "]  # Total system capacity in kW\n",
    "placements2[\"elev\"] = [\n",
    "    250,\n",
    "]  # Altitute in meters\n",
    "placements2[\"Area\"] = [200]  # Park size in m**2\n",
    "\n",
    "placements3 = pd.DataFrame()\n",
    "placements3[\"lon\"] = [\n",
    "    6.083,\n",
    "]  # Longitude\n",
    "placements3[\"lat\"] = [\n",
    "    50.775,\n",
    "]  # Latitude\n",
    "placements3[\"tilt\"] = [\n",
    "    32,\n",
    "]  # System tilt in degrees\n",
    "placements3[\"azimuth\"] = [\n",
    "    180,\n",
    "]  # System azimuth in degrees\n",
    "placements3[\"capacity\"] = [\n",
    "    2000,\n",
    "]  # Total system capacity in kW\n",
    "placements3[\"elev\"] = [\n",
    "    250,\n",
    "]  # Altitute in meters\n",
    "placements3[\"Area\"] = [200]  # Park size in m**2\n",
    "\n",
    "placements = placements1.append(placements2).append(placements3)\n",
    "placements"
   ]
  },
  {
   "cell_type": "code",
   "execution_count": 3,
   "metadata": {},
   "outputs": [
    {
     "output_type": "stream",
     "name": "stderr",
     "text": [
      "c:\\users\\d.franzmann\\code\\reskit\\reskit\\solar\\workflows\\csp_workflow_manager.py:298: RuntimeWarning: divide by zero encountered in true_divide\n  _IAM = 1 + a1 * np.power(_theta, 1) / self.sim_data['costheta'] \\\nc:\\users\\d.franzmann\\code\\reskit\\reskit\\solar\\workflows\\csp_workflow_manager.py:299: RuntimeWarning: divide by zero encountered in true_divide\n  + a2 * np.power(_theta, 2) / self.sim_data['costheta'] \\\nc:\\users\\d.franzmann\\code\\reskit\\reskit\\solar\\workflows\\csp_workflow_manager.py:300: RuntimeWarning: invalid value encountered in true_divide\n  + a3 * np.power(_theta, 3) / self.sim_data['costheta']\n"
     ]
    }
   ],
   "source": [
    "out = rk.solar.workflows.workflows.csp_test_franzmann(\n",
    "    placements=placements, era5_path=r\"C:\\Users\\d.franzmann\\Desktop\\Temp\\Tiles\"\n",
    ")"
   ]
  },
  {
   "cell_type": "code",
   "execution_count": 4,
   "metadata": {},
   "outputs": [
    {
     "output_type": "execute_result",
     "data": {
      "text/plain": [
       "odict_keys(['direct_horizontal_irradiance', 'hour_angle_degree', 'declination_angle_degree', 'solar_zenith', 'solar_altitude_angle_degree', 'costheta', 'IAM', 'eta_shdw', 'HeattoHFT_W', 'HeattoPlant_W'])"
      ]
     },
     "metadata": {},
     "execution_count": 4
    }
   ],
   "source": [
    "out.sim_data.keys()"
   ]
  },
  {
   "cell_type": "code",
   "execution_count": 76,
   "metadata": {},
   "outputs": [
    {
     "output_type": "execute_result",
     "data": {
      "text/plain": [
       "            0           1           2                time\n",
       "96   0.000000    0.000000    0.000000 2015-01-05 00:30:00\n",
       "97   0.000000    0.000000    0.000000 2015-01-05 01:30:00\n",
       "98   0.000000    0.000000    0.000000 2015-01-05 02:30:00\n",
       "99   0.000000    0.000000    0.000000 2015-01-05 03:30:00\n",
       "100  0.000000    0.000000    0.000000 2015-01-05 04:30:00\n",
       "101  0.000000    0.000000    0.000000 2015-01-05 05:30:00\n",
       "102  0.000000    0.000000    0.000000 2015-01-05 06:30:00\n",
       "103  0.000000    0.000000    0.000000 2015-01-05 07:30:00\n",
       "104  0.055544    0.254134    0.254134 2015-01-05 08:30:00\n",
       "105  0.000000   25.246870   25.246870 2015-01-05 09:30:00\n",
       "106  0.000000   65.014296   65.014296 2015-01-05 10:30:00\n",
       "107  0.007691  138.085503  138.085503 2015-01-05 11:30:00\n",
       "108  0.000000  162.144362  162.144362 2015-01-05 12:30:00\n",
       "109  0.000000  159.617227  159.617227 2015-01-05 13:30:00\n",
       "110  0.000000  110.719709  110.719709 2015-01-05 14:30:00\n",
       "111  0.209904   46.662517   46.662517 2015-01-05 15:30:00\n",
       "112  0.000000    4.554557    4.554557 2015-01-05 16:30:00\n",
       "113  0.000000    0.000000    0.000000 2015-01-05 17:30:00\n",
       "114  0.000000    0.000000    0.000000 2015-01-05 18:30:00\n",
       "115  0.000000    0.000000    0.000000 2015-01-05 19:30:00\n",
       "116  0.000000    0.000000    0.000000 2015-01-05 20:30:00\n",
       "117  0.000000    0.000000    0.000000 2015-01-05 21:30:00\n",
       "118  0.000000    0.000000    0.000000 2015-01-05 22:30:00\n",
       "119  0.000000    0.000000    0.000000 2015-01-05 23:30:00\n",
       "120  0.000000    0.000000    0.000000 2015-01-06 00:30:00"
      ],
      "text/html": "<div>\n<style scoped>\n    .dataframe tbody tr th:only-of-type {\n        vertical-align: middle;\n    }\n\n    .dataframe tbody tr th {\n        vertical-align: top;\n    }\n\n    .dataframe thead th {\n        text-align: right;\n    }\n</style>\n<table border=\"1\" class=\"dataframe\">\n  <thead>\n    <tr style=\"text-align: right;\">\n      <th></th>\n      <th>0</th>\n      <th>1</th>\n      <th>2</th>\n      <th>time</th>\n    </tr>\n  </thead>\n  <tbody>\n    <tr>\n      <th>96</th>\n      <td>0.000000</td>\n      <td>0.000000</td>\n      <td>0.000000</td>\n      <td>2015-01-05 00:30:00</td>\n    </tr>\n    <tr>\n      <th>97</th>\n      <td>0.000000</td>\n      <td>0.000000</td>\n      <td>0.000000</td>\n      <td>2015-01-05 01:30:00</td>\n    </tr>\n    <tr>\n      <th>98</th>\n      <td>0.000000</td>\n      <td>0.000000</td>\n      <td>0.000000</td>\n      <td>2015-01-05 02:30:00</td>\n    </tr>\n    <tr>\n      <th>99</th>\n      <td>0.000000</td>\n      <td>0.000000</td>\n      <td>0.000000</td>\n      <td>2015-01-05 03:30:00</td>\n    </tr>\n    <tr>\n      <th>100</th>\n      <td>0.000000</td>\n      <td>0.000000</td>\n      <td>0.000000</td>\n      <td>2015-01-05 04:30:00</td>\n    </tr>\n    <tr>\n      <th>101</th>\n      <td>0.000000</td>\n      <td>0.000000</td>\n      <td>0.000000</td>\n      <td>2015-01-05 05:30:00</td>\n    </tr>\n    <tr>\n      <th>102</th>\n      <td>0.000000</td>\n      <td>0.000000</td>\n      <td>0.000000</td>\n      <td>2015-01-05 06:30:00</td>\n    </tr>\n    <tr>\n      <th>103</th>\n      <td>0.000000</td>\n      <td>0.000000</td>\n      <td>0.000000</td>\n      <td>2015-01-05 07:30:00</td>\n    </tr>\n    <tr>\n      <th>104</th>\n      <td>0.055544</td>\n      <td>0.254134</td>\n      <td>0.254134</td>\n      <td>2015-01-05 08:30:00</td>\n    </tr>\n    <tr>\n      <th>105</th>\n      <td>0.000000</td>\n      <td>25.246870</td>\n      <td>25.246870</td>\n      <td>2015-01-05 09:30:00</td>\n    </tr>\n    <tr>\n      <th>106</th>\n      <td>0.000000</td>\n      <td>65.014296</td>\n      <td>65.014296</td>\n      <td>2015-01-05 10:30:00</td>\n    </tr>\n    <tr>\n      <th>107</th>\n      <td>0.007691</td>\n      <td>138.085503</td>\n      <td>138.085503</td>\n      <td>2015-01-05 11:30:00</td>\n    </tr>\n    <tr>\n      <th>108</th>\n      <td>0.000000</td>\n      <td>162.144362</td>\n      <td>162.144362</td>\n      <td>2015-01-05 12:30:00</td>\n    </tr>\n    <tr>\n      <th>109</th>\n      <td>0.000000</td>\n      <td>159.617227</td>\n      <td>159.617227</td>\n      <td>2015-01-05 13:30:00</td>\n    </tr>\n    <tr>\n      <th>110</th>\n      <td>0.000000</td>\n      <td>110.719709</td>\n      <td>110.719709</td>\n      <td>2015-01-05 14:30:00</td>\n    </tr>\n    <tr>\n      <th>111</th>\n      <td>0.209904</td>\n      <td>46.662517</td>\n      <td>46.662517</td>\n      <td>2015-01-05 15:30:00</td>\n    </tr>\n    <tr>\n      <th>112</th>\n      <td>0.000000</td>\n      <td>4.554557</td>\n      <td>4.554557</td>\n      <td>2015-01-05 16:30:00</td>\n    </tr>\n    <tr>\n      <th>113</th>\n      <td>0.000000</td>\n      <td>0.000000</td>\n      <td>0.000000</td>\n      <td>2015-01-05 17:30:00</td>\n    </tr>\n    <tr>\n      <th>114</th>\n      <td>0.000000</td>\n      <td>0.000000</td>\n      <td>0.000000</td>\n      <td>2015-01-05 18:30:00</td>\n    </tr>\n    <tr>\n      <th>115</th>\n      <td>0.000000</td>\n      <td>0.000000</td>\n      <td>0.000000</td>\n      <td>2015-01-05 19:30:00</td>\n    </tr>\n    <tr>\n      <th>116</th>\n      <td>0.000000</td>\n      <td>0.000000</td>\n      <td>0.000000</td>\n      <td>2015-01-05 20:30:00</td>\n    </tr>\n    <tr>\n      <th>117</th>\n      <td>0.000000</td>\n      <td>0.000000</td>\n      <td>0.000000</td>\n      <td>2015-01-05 21:30:00</td>\n    </tr>\n    <tr>\n      <th>118</th>\n      <td>0.000000</td>\n      <td>0.000000</td>\n      <td>0.000000</td>\n      <td>2015-01-05 22:30:00</td>\n    </tr>\n    <tr>\n      <th>119</th>\n      <td>0.000000</td>\n      <td>0.000000</td>\n      <td>0.000000</td>\n      <td>2015-01-05 23:30:00</td>\n    </tr>\n    <tr>\n      <th>120</th>\n      <td>0.000000</td>\n      <td>0.000000</td>\n      <td>0.000000</td>\n      <td>2015-01-06 00:30:00</td>\n    </tr>\n  </tbody>\n</table>\n</div>"
     },
     "metadata": {},
     "execution_count": 76
    }
   ],
   "source": [
    "df = pd.DataFrame(out.sim_data[\"direct_horizontal_irradiance\"])\n",
    "df[\"time\"] = pd.DataFrame(out.time_index)\n",
    "day = 4\n",
    "df.iloc[day * 24 : (day + 1) * 24 + 1]"
   ]
  },
  {
   "cell_type": "code",
   "execution_count": 74,
   "metadata": {
    "tags": []
   },
   "outputs": [
    {
     "output_type": "stream",
     "name": "stderr",
     "text": [
      "<ipython-input-74-b73f1a05e5e6>:9: RuntimeWarning: invalid value encountered in true_divide\n  plt.plot(out.sim_data['HeattoPlant_W'][day*24:(day+1)*24,0] / out.sim_data['direct_horizontal_irradiance'][day*24:(day+1)*24,0] / 909060, '--')\n<ipython-input-74-b73f1a05e5e6>:9: RuntimeWarning: invalid value encountered in true_divide\n  plt.plot(out.sim_data['HeattoPlant_W'][day*24:(day+1)*24,0] / out.sim_data['direct_horizontal_irradiance'][day*24:(day+1)*24,0] / 909060, '--')\n"
     ]
    },
    {
     "output_type": "display_data",
     "data": {
      "text/plain": "<Figure size 432x288 with 1 Axes>",
      "image/svg+xml": "<?xml version=\"1.0\" encoding=\"utf-8\" standalone=\"no\"?>\r\n<!DOCTYPE svg PUBLIC \"-//W3C//DTD SVG 1.1//EN\"\r\n  \"http://www.w3.org/Graphics/SVG/1.1/DTD/svg11.dtd\">\r\n<!-- Created with matplotlib (https://matplotlib.org/) -->\r\n<svg height=\"248.518125pt\" version=\"1.1\" viewBox=\"0 0 372.103125 248.518125\" width=\"372.103125pt\" xmlns=\"http://www.w3.org/2000/svg\" xmlns:xlink=\"http://www.w3.org/1999/xlink\">\r\n <metadata>\r\n  <rdf:RDF xmlns:cc=\"http://creativecommons.org/ns#\" xmlns:dc=\"http://purl.org/dc/elements/1.1/\" xmlns:rdf=\"http://www.w3.org/1999/02/22-rdf-syntax-ns#\">\r\n   <cc:Work>\r\n    <dc:type rdf:resource=\"http://purl.org/dc/dcmitype/StillImage\"/>\r\n    <dc:date>2021-03-24T18:18:38.490579</dc:date>\r\n    <dc:format>image/svg+xml</dc:format>\r\n    <dc:creator>\r\n     <cc:Agent>\r\n      <dc:title>Matplotlib v3.3.4, https://matplotlib.org/</dc:title>\r\n     </cc:Agent>\r\n    </dc:creator>\r\n   </cc:Work>\r\n  </rdf:RDF>\r\n </metadata>\r\n <defs>\r\n  <style type=\"text/css\">*{stroke-linecap:butt;stroke-linejoin:round;}</style>\r\n </defs>\r\n <g id=\"figure_1\">\r\n  <g id=\"patch_1\">\r\n   <path d=\"M 0 248.518125 \r\nL 372.103125 248.518125 \r\nL 372.103125 0 \r\nL 0 0 \r\nz\r\n\" style=\"fill:none;\"/>\r\n  </g>\r\n  <g id=\"axes_1\">\r\n   <g id=\"patch_2\">\r\n    <path d=\"M 30.103125 224.64 \r\nL 364.903125 224.64 \r\nL 364.903125 7.2 \r\nL 30.103125 7.2 \r\nz\r\n\" style=\"fill:#ffffff;\"/>\r\n   </g>\r\n   <g id=\"matplotlib.axis_1\">\r\n    <g id=\"xtick_1\">\r\n     <g id=\"line2d_1\">\r\n      <defs>\r\n       <path d=\"M 0 0 \r\nL 0 3.5 \r\n\" id=\"m9a88b8f33f\" style=\"stroke:#000000;stroke-width:0.8;\"/>\r\n      </defs>\r\n      <g>\r\n       <use style=\"stroke:#000000;stroke-width:0.8;\" x=\"67.061567\" xlink:href=\"#m9a88b8f33f\" y=\"224.64\"/>\r\n      </g>\r\n     </g>\r\n     <g id=\"text_1\">\r\n      <!-- 6 -->\r\n      <g transform=\"translate(63.880317 239.238437)scale(0.1 -0.1)\">\r\n       <defs>\r\n        <path d=\"M 33.015625 40.375 \r\nQ 26.375 40.375 22.484375 35.828125 \r\nQ 18.609375 31.296875 18.609375 23.390625 \r\nQ 18.609375 15.53125 22.484375 10.953125 \r\nQ 26.375 6.390625 33.015625 6.390625 \r\nQ 39.65625 6.390625 43.53125 10.953125 \r\nQ 47.40625 15.53125 47.40625 23.390625 \r\nQ 47.40625 31.296875 43.53125 35.828125 \r\nQ 39.65625 40.375 33.015625 40.375 \r\nz\r\nM 52.59375 71.296875 \r\nL 52.59375 62.3125 \r\nQ 48.875 64.0625 45.09375 64.984375 \r\nQ 41.3125 65.921875 37.59375 65.921875 \r\nQ 27.828125 65.921875 22.671875 59.328125 \r\nQ 17.53125 52.734375 16.796875 39.40625 \r\nQ 19.671875 43.65625 24.015625 45.921875 \r\nQ 28.375 48.1875 33.59375 48.1875 \r\nQ 44.578125 48.1875 50.953125 41.515625 \r\nQ 57.328125 34.859375 57.328125 23.390625 \r\nQ 57.328125 12.15625 50.6875 5.359375 \r\nQ 44.046875 -1.421875 33.015625 -1.421875 \r\nQ 20.359375 -1.421875 13.671875 8.265625 \r\nQ 6.984375 17.96875 6.984375 36.375 \r\nQ 6.984375 53.65625 15.1875 63.9375 \r\nQ 23.390625 74.21875 37.203125 74.21875 \r\nQ 40.921875 74.21875 44.703125 73.484375 \r\nQ 48.484375 72.75 52.59375 71.296875 \r\nz\r\n\" id=\"DejaVuSans-54\"/>\r\n       </defs>\r\n       <use xlink:href=\"#DejaVuSans-54\"/>\r\n      </g>\r\n     </g>\r\n    </g>\r\n    <g id=\"xtick_2\">\r\n     <g id=\"line2d_2\">\r\n      <g>\r\n       <use style=\"stroke:#000000;stroke-width:0.8;\" x=\"110.542086\" xlink:href=\"#m9a88b8f33f\" y=\"224.64\"/>\r\n      </g>\r\n     </g>\r\n     <g id=\"text_2\">\r\n      <!-- 8 -->\r\n      <g transform=\"translate(107.360836 239.238437)scale(0.1 -0.1)\">\r\n       <defs>\r\n        <path d=\"M 31.78125 34.625 \r\nQ 24.75 34.625 20.71875 30.859375 \r\nQ 16.703125 27.09375 16.703125 20.515625 \r\nQ 16.703125 13.921875 20.71875 10.15625 \r\nQ 24.75 6.390625 31.78125 6.390625 \r\nQ 38.8125 6.390625 42.859375 10.171875 \r\nQ 46.921875 13.96875 46.921875 20.515625 \r\nQ 46.921875 27.09375 42.890625 30.859375 \r\nQ 38.875 34.625 31.78125 34.625 \r\nz\r\nM 21.921875 38.8125 \r\nQ 15.578125 40.375 12.03125 44.71875 \r\nQ 8.5 49.078125 8.5 55.328125 \r\nQ 8.5 64.0625 14.71875 69.140625 \r\nQ 20.953125 74.21875 31.78125 74.21875 \r\nQ 42.671875 74.21875 48.875 69.140625 \r\nQ 55.078125 64.0625 55.078125 55.328125 \r\nQ 55.078125 49.078125 51.53125 44.71875 \r\nQ 48 40.375 41.703125 38.8125 \r\nQ 48.828125 37.15625 52.796875 32.3125 \r\nQ 56.78125 27.484375 56.78125 20.515625 \r\nQ 56.78125 9.90625 50.3125 4.234375 \r\nQ 43.84375 -1.421875 31.78125 -1.421875 \r\nQ 19.734375 -1.421875 13.25 4.234375 \r\nQ 6.78125 9.90625 6.78125 20.515625 \r\nQ 6.78125 27.484375 10.78125 32.3125 \r\nQ 14.796875 37.15625 21.921875 38.8125 \r\nz\r\nM 18.3125 54.390625 \r\nQ 18.3125 48.734375 21.84375 45.5625 \r\nQ 25.390625 42.390625 31.78125 42.390625 \r\nQ 38.140625 42.390625 41.71875 45.5625 \r\nQ 45.3125 48.734375 45.3125 54.390625 \r\nQ 45.3125 60.0625 41.71875 63.234375 \r\nQ 38.140625 66.40625 31.78125 66.40625 \r\nQ 25.390625 66.40625 21.84375 63.234375 \r\nQ 18.3125 60.0625 18.3125 54.390625 \r\nz\r\n\" id=\"DejaVuSans-56\"/>\r\n       </defs>\r\n       <use xlink:href=\"#DejaVuSans-56\"/>\r\n      </g>\r\n     </g>\r\n    </g>\r\n    <g id=\"xtick_3\">\r\n     <g id=\"line2d_3\">\r\n      <g>\r\n       <use style=\"stroke:#000000;stroke-width:0.8;\" x=\"154.022606\" xlink:href=\"#m9a88b8f33f\" y=\"224.64\"/>\r\n      </g>\r\n     </g>\r\n     <g id=\"text_3\">\r\n      <!-- 10 -->\r\n      <g transform=\"translate(147.660106 239.238437)scale(0.1 -0.1)\">\r\n       <defs>\r\n        <path d=\"M 12.40625 8.296875 \r\nL 28.515625 8.296875 \r\nL 28.515625 63.921875 \r\nL 10.984375 60.40625 \r\nL 10.984375 69.390625 \r\nL 28.421875 72.90625 \r\nL 38.28125 72.90625 \r\nL 38.28125 8.296875 \r\nL 54.390625 8.296875 \r\nL 54.390625 0 \r\nL 12.40625 0 \r\nz\r\n\" id=\"DejaVuSans-49\"/>\r\n        <path d=\"M 31.78125 66.40625 \r\nQ 24.171875 66.40625 20.328125 58.90625 \r\nQ 16.5 51.421875 16.5 36.375 \r\nQ 16.5 21.390625 20.328125 13.890625 \r\nQ 24.171875 6.390625 31.78125 6.390625 \r\nQ 39.453125 6.390625 43.28125 13.890625 \r\nQ 47.125 21.390625 47.125 36.375 \r\nQ 47.125 51.421875 43.28125 58.90625 \r\nQ 39.453125 66.40625 31.78125 66.40625 \r\nz\r\nM 31.78125 74.21875 \r\nQ 44.046875 74.21875 50.515625 64.515625 \r\nQ 56.984375 54.828125 56.984375 36.375 \r\nQ 56.984375 17.96875 50.515625 8.265625 \r\nQ 44.046875 -1.421875 31.78125 -1.421875 \r\nQ 19.53125 -1.421875 13.0625 8.265625 \r\nQ 6.59375 17.96875 6.59375 36.375 \r\nQ 6.59375 54.828125 13.0625 64.515625 \r\nQ 19.53125 74.21875 31.78125 74.21875 \r\nz\r\n\" id=\"DejaVuSans-48\"/>\r\n       </defs>\r\n       <use xlink:href=\"#DejaVuSans-49\"/>\r\n       <use x=\"63.623047\" xlink:href=\"#DejaVuSans-48\"/>\r\n      </g>\r\n     </g>\r\n    </g>\r\n    <g id=\"xtick_4\">\r\n     <g id=\"line2d_4\">\r\n      <g>\r\n       <use style=\"stroke:#000000;stroke-width:0.8;\" x=\"197.503125\" xlink:href=\"#m9a88b8f33f\" y=\"224.64\"/>\r\n      </g>\r\n     </g>\r\n     <g id=\"text_4\">\r\n      <!-- 12 -->\r\n      <g transform=\"translate(191.140625 239.238437)scale(0.1 -0.1)\">\r\n       <defs>\r\n        <path d=\"M 19.1875 8.296875 \r\nL 53.609375 8.296875 \r\nL 53.609375 0 \r\nL 7.328125 0 \r\nL 7.328125 8.296875 \r\nQ 12.9375 14.109375 22.625 23.890625 \r\nQ 32.328125 33.6875 34.8125 36.53125 \r\nQ 39.546875 41.84375 41.421875 45.53125 \r\nQ 43.3125 49.21875 43.3125 52.78125 \r\nQ 43.3125 58.59375 39.234375 62.25 \r\nQ 35.15625 65.921875 28.609375 65.921875 \r\nQ 23.96875 65.921875 18.8125 64.3125 \r\nQ 13.671875 62.703125 7.8125 59.421875 \r\nL 7.8125 69.390625 \r\nQ 13.765625 71.78125 18.9375 73 \r\nQ 24.125 74.21875 28.421875 74.21875 \r\nQ 39.75 74.21875 46.484375 68.546875 \r\nQ 53.21875 62.890625 53.21875 53.421875 \r\nQ 53.21875 48.921875 51.53125 44.890625 \r\nQ 49.859375 40.875 45.40625 35.40625 \r\nQ 44.1875 33.984375 37.640625 27.21875 \r\nQ 31.109375 20.453125 19.1875 8.296875 \r\nz\r\n\" id=\"DejaVuSans-50\"/>\r\n       </defs>\r\n       <use xlink:href=\"#DejaVuSans-49\"/>\r\n       <use x=\"63.623047\" xlink:href=\"#DejaVuSans-50\"/>\r\n      </g>\r\n     </g>\r\n    </g>\r\n    <g id=\"xtick_5\">\r\n     <g id=\"line2d_5\">\r\n      <g>\r\n       <use style=\"stroke:#000000;stroke-width:0.8;\" x=\"240.983644\" xlink:href=\"#m9a88b8f33f\" y=\"224.64\"/>\r\n      </g>\r\n     </g>\r\n     <g id=\"text_5\">\r\n      <!-- 14 -->\r\n      <g transform=\"translate(234.621144 239.238437)scale(0.1 -0.1)\">\r\n       <defs>\r\n        <path d=\"M 37.796875 64.3125 \r\nL 12.890625 25.390625 \r\nL 37.796875 25.390625 \r\nz\r\nM 35.203125 72.90625 \r\nL 47.609375 72.90625 \r\nL 47.609375 25.390625 \r\nL 58.015625 25.390625 \r\nL 58.015625 17.1875 \r\nL 47.609375 17.1875 \r\nL 47.609375 0 \r\nL 37.796875 0 \r\nL 37.796875 17.1875 \r\nL 4.890625 17.1875 \r\nL 4.890625 26.703125 \r\nz\r\n\" id=\"DejaVuSans-52\"/>\r\n       </defs>\r\n       <use xlink:href=\"#DejaVuSans-49\"/>\r\n       <use x=\"63.623047\" xlink:href=\"#DejaVuSans-52\"/>\r\n      </g>\r\n     </g>\r\n    </g>\r\n    <g id=\"xtick_6\">\r\n     <g id=\"line2d_6\">\r\n      <g>\r\n       <use style=\"stroke:#000000;stroke-width:0.8;\" x=\"284.464164\" xlink:href=\"#m9a88b8f33f\" y=\"224.64\"/>\r\n      </g>\r\n     </g>\r\n     <g id=\"text_6\">\r\n      <!-- 16 -->\r\n      <g transform=\"translate(278.101664 239.238437)scale(0.1 -0.1)\">\r\n       <use xlink:href=\"#DejaVuSans-49\"/>\r\n       <use x=\"63.623047\" xlink:href=\"#DejaVuSans-54\"/>\r\n      </g>\r\n     </g>\r\n    </g>\r\n    <g id=\"xtick_7\">\r\n     <g id=\"line2d_7\">\r\n      <g>\r\n       <use style=\"stroke:#000000;stroke-width:0.8;\" x=\"327.944683\" xlink:href=\"#m9a88b8f33f\" y=\"224.64\"/>\r\n      </g>\r\n     </g>\r\n     <g id=\"text_7\">\r\n      <!-- 18 -->\r\n      <g transform=\"translate(321.582183 239.238437)scale(0.1 -0.1)\">\r\n       <use xlink:href=\"#DejaVuSans-49\"/>\r\n       <use x=\"63.623047\" xlink:href=\"#DejaVuSans-56\"/>\r\n      </g>\r\n     </g>\r\n    </g>\r\n   </g>\r\n   <g id=\"matplotlib.axis_2\">\r\n    <g id=\"ytick_1\">\r\n     <g id=\"line2d_8\">\r\n      <defs>\r\n       <path d=\"M 0 0 \r\nL -3.5 0 \r\n\" id=\"m4a82befc23\" style=\"stroke:#000000;stroke-width:0.8;\"/>\r\n      </defs>\r\n      <g>\r\n       <use style=\"stroke:#000000;stroke-width:0.8;\" x=\"30.103125\" xlink:href=\"#m4a82befc23\" y=\"214.756364\"/>\r\n      </g>\r\n     </g>\r\n     <g id=\"text_8\">\r\n      <!-- 0.0 -->\r\n      <g transform=\"translate(7.2 218.555582)scale(0.1 -0.1)\">\r\n       <defs>\r\n        <path d=\"M 10.6875 12.40625 \r\nL 21 12.40625 \r\nL 21 0 \r\nL 10.6875 0 \r\nz\r\n\" id=\"DejaVuSans-46\"/>\r\n       </defs>\r\n       <use xlink:href=\"#DejaVuSans-48\"/>\r\n       <use x=\"63.623047\" xlink:href=\"#DejaVuSans-46\"/>\r\n       <use x=\"95.410156\" xlink:href=\"#DejaVuSans-48\"/>\r\n      </g>\r\n     </g>\r\n    </g>\r\n    <g id=\"ytick_2\">\r\n     <g id=\"line2d_9\">\r\n      <g>\r\n       <use style=\"stroke:#000000;stroke-width:0.8;\" x=\"30.103125\" xlink:href=\"#m4a82befc23\" y=\"187.967675\"/>\r\n      </g>\r\n     </g>\r\n     <g id=\"text_9\">\r\n      <!-- 0.1 -->\r\n      <g transform=\"translate(7.2 191.766894)scale(0.1 -0.1)\">\r\n       <use xlink:href=\"#DejaVuSans-48\"/>\r\n       <use x=\"63.623047\" xlink:href=\"#DejaVuSans-46\"/>\r\n       <use x=\"95.410156\" xlink:href=\"#DejaVuSans-49\"/>\r\n      </g>\r\n     </g>\r\n    </g>\r\n    <g id=\"ytick_3\">\r\n     <g id=\"line2d_10\">\r\n      <g>\r\n       <use style=\"stroke:#000000;stroke-width:0.8;\" x=\"30.103125\" xlink:href=\"#m4a82befc23\" y=\"161.178986\"/>\r\n      </g>\r\n     </g>\r\n     <g id=\"text_10\">\r\n      <!-- 0.2 -->\r\n      <g transform=\"translate(7.2 164.978205)scale(0.1 -0.1)\">\r\n       <use xlink:href=\"#DejaVuSans-48\"/>\r\n       <use x=\"63.623047\" xlink:href=\"#DejaVuSans-46\"/>\r\n       <use x=\"95.410156\" xlink:href=\"#DejaVuSans-50\"/>\r\n      </g>\r\n     </g>\r\n    </g>\r\n    <g id=\"ytick_4\">\r\n     <g id=\"line2d_11\">\r\n      <g>\r\n       <use style=\"stroke:#000000;stroke-width:0.8;\" x=\"30.103125\" xlink:href=\"#m4a82befc23\" y=\"134.390297\"/>\r\n      </g>\r\n     </g>\r\n     <g id=\"text_11\">\r\n      <!-- 0.3 -->\r\n      <g transform=\"translate(7.2 138.189516)scale(0.1 -0.1)\">\r\n       <defs>\r\n        <path d=\"M 40.578125 39.3125 \r\nQ 47.65625 37.796875 51.625 33 \r\nQ 55.609375 28.21875 55.609375 21.1875 \r\nQ 55.609375 10.40625 48.1875 4.484375 \r\nQ 40.765625 -1.421875 27.09375 -1.421875 \r\nQ 22.515625 -1.421875 17.65625 -0.515625 \r\nQ 12.796875 0.390625 7.625 2.203125 \r\nL 7.625 11.71875 \r\nQ 11.71875 9.328125 16.59375 8.109375 \r\nQ 21.484375 6.890625 26.8125 6.890625 \r\nQ 36.078125 6.890625 40.9375 10.546875 \r\nQ 45.796875 14.203125 45.796875 21.1875 \r\nQ 45.796875 27.640625 41.28125 31.265625 \r\nQ 36.765625 34.90625 28.71875 34.90625 \r\nL 20.21875 34.90625 \r\nL 20.21875 43.015625 \r\nL 29.109375 43.015625 \r\nQ 36.375 43.015625 40.234375 45.921875 \r\nQ 44.09375 48.828125 44.09375 54.296875 \r\nQ 44.09375 59.90625 40.109375 62.90625 \r\nQ 36.140625 65.921875 28.71875 65.921875 \r\nQ 24.65625 65.921875 20.015625 65.03125 \r\nQ 15.375 64.15625 9.8125 62.3125 \r\nL 9.8125 71.09375 \r\nQ 15.4375 72.65625 20.34375 73.4375 \r\nQ 25.25 74.21875 29.59375 74.21875 \r\nQ 40.828125 74.21875 47.359375 69.109375 \r\nQ 53.90625 64.015625 53.90625 55.328125 \r\nQ 53.90625 49.265625 50.4375 45.09375 \r\nQ 46.96875 40.921875 40.578125 39.3125 \r\nz\r\n\" id=\"DejaVuSans-51\"/>\r\n       </defs>\r\n       <use xlink:href=\"#DejaVuSans-48\"/>\r\n       <use x=\"63.623047\" xlink:href=\"#DejaVuSans-46\"/>\r\n       <use x=\"95.410156\" xlink:href=\"#DejaVuSans-51\"/>\r\n      </g>\r\n     </g>\r\n    </g>\r\n    <g id=\"ytick_5\">\r\n     <g id=\"line2d_12\">\r\n      <g>\r\n       <use style=\"stroke:#000000;stroke-width:0.8;\" x=\"30.103125\" xlink:href=\"#m4a82befc23\" y=\"107.601608\"/>\r\n      </g>\r\n     </g>\r\n     <g id=\"text_12\">\r\n      <!-- 0.4 -->\r\n      <g transform=\"translate(7.2 111.400827)scale(0.1 -0.1)\">\r\n       <use xlink:href=\"#DejaVuSans-48\"/>\r\n       <use x=\"63.623047\" xlink:href=\"#DejaVuSans-46\"/>\r\n       <use x=\"95.410156\" xlink:href=\"#DejaVuSans-52\"/>\r\n      </g>\r\n     </g>\r\n    </g>\r\n    <g id=\"ytick_6\">\r\n     <g id=\"line2d_13\">\r\n      <g>\r\n       <use style=\"stroke:#000000;stroke-width:0.8;\" x=\"30.103125\" xlink:href=\"#m4a82befc23\" y=\"80.81292\"/>\r\n      </g>\r\n     </g>\r\n     <g id=\"text_13\">\r\n      <!-- 0.5 -->\r\n      <g transform=\"translate(7.2 84.612138)scale(0.1 -0.1)\">\r\n       <defs>\r\n        <path d=\"M 10.796875 72.90625 \r\nL 49.515625 72.90625 \r\nL 49.515625 64.59375 \r\nL 19.828125 64.59375 \r\nL 19.828125 46.734375 \r\nQ 21.96875 47.46875 24.109375 47.828125 \r\nQ 26.265625 48.1875 28.421875 48.1875 \r\nQ 40.625 48.1875 47.75 41.5 \r\nQ 54.890625 34.8125 54.890625 23.390625 \r\nQ 54.890625 11.625 47.5625 5.09375 \r\nQ 40.234375 -1.421875 26.90625 -1.421875 \r\nQ 22.3125 -1.421875 17.546875 -0.640625 \r\nQ 12.796875 0.140625 7.71875 1.703125 \r\nL 7.71875 11.625 \r\nQ 12.109375 9.234375 16.796875 8.0625 \r\nQ 21.484375 6.890625 26.703125 6.890625 \r\nQ 35.15625 6.890625 40.078125 11.328125 \r\nQ 45.015625 15.765625 45.015625 23.390625 \r\nQ 45.015625 31 40.078125 35.4375 \r\nQ 35.15625 39.890625 26.703125 39.890625 \r\nQ 22.75 39.890625 18.8125 39.015625 \r\nQ 14.890625 38.140625 10.796875 36.28125 \r\nz\r\n\" id=\"DejaVuSans-53\"/>\r\n       </defs>\r\n       <use xlink:href=\"#DejaVuSans-48\"/>\r\n       <use x=\"63.623047\" xlink:href=\"#DejaVuSans-46\"/>\r\n       <use x=\"95.410156\" xlink:href=\"#DejaVuSans-53\"/>\r\n      </g>\r\n     </g>\r\n    </g>\r\n    <g id=\"ytick_7\">\r\n     <g id=\"line2d_14\">\r\n      <g>\r\n       <use style=\"stroke:#000000;stroke-width:0.8;\" x=\"30.103125\" xlink:href=\"#m4a82befc23\" y=\"54.024231\"/>\r\n      </g>\r\n     </g>\r\n     <g id=\"text_14\">\r\n      <!-- 0.6 -->\r\n      <g transform=\"translate(7.2 57.82345)scale(0.1 -0.1)\">\r\n       <use xlink:href=\"#DejaVuSans-48\"/>\r\n       <use x=\"63.623047\" xlink:href=\"#DejaVuSans-46\"/>\r\n       <use x=\"95.410156\" xlink:href=\"#DejaVuSans-54\"/>\r\n      </g>\r\n     </g>\r\n    </g>\r\n    <g id=\"ytick_8\">\r\n     <g id=\"line2d_15\">\r\n      <g>\r\n       <use style=\"stroke:#000000;stroke-width:0.8;\" x=\"30.103125\" xlink:href=\"#m4a82befc23\" y=\"27.235542\"/>\r\n      </g>\r\n     </g>\r\n     <g id=\"text_15\">\r\n      <!-- 0.7 -->\r\n      <g transform=\"translate(7.2 31.034761)scale(0.1 -0.1)\">\r\n       <defs>\r\n        <path d=\"M 8.203125 72.90625 \r\nL 55.078125 72.90625 \r\nL 55.078125 68.703125 \r\nL 28.609375 0 \r\nL 18.3125 0 \r\nL 43.21875 64.59375 \r\nL 8.203125 64.59375 \r\nz\r\n\" id=\"DejaVuSans-55\"/>\r\n       </defs>\r\n       <use xlink:href=\"#DejaVuSans-48\"/>\r\n       <use x=\"63.623047\" xlink:href=\"#DejaVuSans-46\"/>\r\n       <use x=\"95.410156\" xlink:href=\"#DejaVuSans-55\"/>\r\n      </g>\r\n     </g>\r\n    </g>\r\n   </g>\r\n   <g id=\"line2d_16\">\r\n    <path clip-path=\"url(#p0d6c8dbd30)\" d=\"M 110.542086 163.776421 \r\nM 175.762865 82.823976 \r\nM 262.723904 214.756364 \r\n\" style=\"fill:none;stroke:#1f77b4;stroke-dasharray:5.55,2.4;stroke-dashoffset:0;stroke-width:1.5;\"/>\r\n   </g>\r\n   <g id=\"line2d_17\">\r\n    <path clip-path=\"url(#p0d6c8dbd30)\" d=\"M 45.321307 187.989361 \r\nL 67.061567 134.792884 \r\nL 88.801826 92.838932 \r\nL 110.542086 57.70659 \r\nL 132.282346 32.094359 \r\nL 154.022606 18.199222 \r\nL 175.762865 17.083636 \r\nL 197.503125 28.818796 \r\nL 219.243385 52.534421 \r\nL 240.983644 86.238995 \r\nL 262.723904 126.437398 \r\nL 284.464164 181.513293 \r\nL 306.204424 203.00112 \r\nL 327.944683 214.756364 \r\nL 349.684943 214.756364 \r\n\" style=\"fill:none;stroke:#ff7f0e;stroke-dasharray:5.55,2.4;stroke-dashoffset:0;stroke-width:1.5;\"/>\r\n   </g>\r\n   <g id=\"patch_3\">\r\n    <path d=\"M 30.103125 224.64 \r\nL 30.103125 7.2 \r\n\" style=\"fill:none;stroke:#000000;stroke-linecap:square;stroke-linejoin:miter;stroke-width:0.8;\"/>\r\n   </g>\r\n   <g id=\"patch_4\">\r\n    <path d=\"M 364.903125 224.64 \r\nL 364.903125 7.2 \r\n\" style=\"fill:none;stroke:#000000;stroke-linecap:square;stroke-linejoin:miter;stroke-width:0.8;\"/>\r\n   </g>\r\n   <g id=\"patch_5\">\r\n    <path d=\"M 30.103125 224.64 \r\nL 364.903125 224.64 \r\n\" style=\"fill:none;stroke:#000000;stroke-linecap:square;stroke-linejoin:miter;stroke-width:0.8;\"/>\r\n   </g>\r\n   <g id=\"patch_6\">\r\n    <path d=\"M 30.103125 7.2 \r\nL 364.903125 7.2 \r\n\" style=\"fill:none;stroke:#000000;stroke-linecap:square;stroke-linejoin:miter;stroke-width:0.8;\"/>\r\n   </g>\r\n  </g>\r\n </g>\r\n <defs>\r\n  <clipPath id=\"p0d6c8dbd30\">\r\n   <rect height=\"217.44\" width=\"334.8\" x=\"30.103125\" y=\"7.2\"/>\r\n  </clipPath>\r\n </defs>\r\n</svg>\r\n",
      "image/png": "[encoded data removed]"
     },
     "metadata": {
      "needs_background": "light"
     }
    }
   ],
   "source": [
    "import matplotlib.pyplot as plt\n",
    "\n",
    "%matplotlib inline\n",
    "\n",
    "\n",
    "figure = plt.subplots()\n",
    "\n",
    "for day in [4, 110]:\n",
    "    # plt.plot(out.sim_data['direct_horizontal_irradiance'][day*24:(day+1)*24,0] / 140)\n",
    "    plt.plot(\n",
    "        out.sim_data[\"HeattoPlant_W\"][day * 24 : (day + 1) * 24, 0]\n",
    "        / out.sim_data[\"direct_horizontal_irradiance\"][day * 24 : (day + 1) * 24, 0]\n",
    "        / 909060,\n",
    "        \"--\",\n",
    "    )\n",
    "    # plt.plot(out.sim_data['costheta'][day*24:(day+1)*24,0], '-.')"
   ]
  },
  {
   "cell_type": "code",
   "execution_count": null,
   "metadata": {},
   "outputs": [],
   "source": []
  },
  {
   "cell_type": "code",
   "execution_count": 18,
   "metadata": {},
   "outputs": [
    {
     "output_type": "execute_result",
     "data": {
      "text/plain": [
       "        lat                time\n",
       "0  0.000000 2015-01-01 00:30:00\n",
       "0  0.000000 2015-01-01 00:30:00\n",
       "0  0.000000 2015-01-01 00:30:00\n",
       "0  0.000000 2015-01-01 00:30:00\n",
       "0  0.000000 2015-01-01 00:30:00\n",
       "0  0.000000 2015-01-01 00:30:00\n",
       "0  0.000000 2015-01-01 00:30:00\n",
       "0  0.656738 2015-01-01 00:30:00\n",
       "0  0.806057 2015-01-01 00:30:00\n",
       "0  0.921142 2015-01-01 00:30:00\n",
       "0  0.987103 2015-01-01 00:30:00\n",
       "0  0.996798 2015-01-01 00:30:00\n",
       "0  0.949238 2015-01-01 00:30:00\n",
       "0  0.849418 2015-01-01 00:30:00\n",
       "0  0.709288 2015-01-01 00:30:00\n",
       "0  0.000000 2015-01-01 00:30:00\n",
       "0  0.000000 2015-01-01 00:30:00\n",
       "0  0.000000 2015-01-01 00:30:00\n",
       "0  0.000000 2015-01-01 00:30:00\n",
       "0  0.000000 2015-01-01 00:30:00\n",
       "0  0.000000 2015-01-01 00:30:00\n",
       "0  0.000000 2015-01-01 00:30:00\n",
       "0  0.000000 2015-01-01 00:30:00\n",
       "0  0.000000 2015-01-01 00:30:00\n",
       "0  0.000000 2015-01-01 00:30:00"
      ],
      "text/html": "<div>\n<style scoped>\n    .dataframe tbody tr th:only-of-type {\n        vertical-align: middle;\n    }\n\n    .dataframe tbody tr th {\n        vertical-align: top;\n    }\n\n    .dataframe thead th {\n        text-align: right;\n    }\n</style>\n<table border=\"1\" class=\"dataframe\">\n  <thead>\n    <tr style=\"text-align: right;\">\n      <th></th>\n      <th>lat</th>\n      <th>time</th>\n    </tr>\n  </thead>\n  <tbody>\n    <tr>\n      <th>0</th>\n      <td>0.000000</td>\n      <td>2015-01-01 00:30:00</td>\n    </tr>\n    <tr>\n      <th>0</th>\n      <td>0.000000</td>\n      <td>2015-01-01 00:30:00</td>\n    </tr>\n    <tr>\n      <th>0</th>\n      <td>0.000000</td>\n      <td>2015-01-01 00:30:00</td>\n    </tr>\n    <tr>\n      <th>0</th>\n      <td>0.000000</td>\n      <td>2015-01-01 00:30:00</td>\n    </tr>\n    <tr>\n      <th>0</th>\n      <td>0.000000</td>\n      <td>2015-01-01 00:30:00</td>\n    </tr>\n    <tr>\n      <th>0</th>\n      <td>0.000000</td>\n      <td>2015-01-01 00:30:00</td>\n    </tr>\n    <tr>\n      <th>0</th>\n      <td>0.000000</td>\n      <td>2015-01-01 00:30:00</td>\n    </tr>\n    <tr>\n      <th>0</th>\n      <td>0.656738</td>\n      <td>2015-01-01 00:30:00</td>\n    </tr>\n    <tr>\n      <th>0</th>\n      <td>0.806057</td>\n      <td>2015-01-01 00:30:00</td>\n    </tr>\n    <tr>\n      <th>0</th>\n      <td>0.921142</td>\n      <td>2015-01-01 00:30:00</td>\n    </tr>\n    <tr>\n      <th>0</th>\n      <td>0.987103</td>\n      <td>2015-01-01 00:30:00</td>\n    </tr>\n    <tr>\n      <th>0</th>\n      <td>0.996798</td>\n      <td>2015-01-01 00:30:00</td>\n    </tr>\n    <tr>\n      <th>0</th>\n      <td>0.949238</td>\n      <td>2015-01-01 00:30:00</td>\n    </tr>\n    <tr>\n      <th>0</th>\n      <td>0.849418</td>\n      <td>2015-01-01 00:30:00</td>\n    </tr>\n    <tr>\n      <th>0</th>\n      <td>0.709288</td>\n      <td>2015-01-01 00:30:00</td>\n    </tr>\n    <tr>\n      <th>0</th>\n      <td>0.000000</td>\n      <td>2015-01-01 00:30:00</td>\n    </tr>\n    <tr>\n      <th>0</th>\n      <td>0.000000</td>\n      <td>2015-01-01 00:30:00</td>\n    </tr>\n    <tr>\n      <th>0</th>\n      <td>0.000000</td>\n      <td>2015-01-01 00:30:00</td>\n    </tr>\n    <tr>\n      <th>0</th>\n      <td>0.000000</td>\n      <td>2015-01-01 00:30:00</td>\n    </tr>\n    <tr>\n      <th>0</th>\n      <td>0.000000</td>\n      <td>2015-01-01 00:30:00</td>\n    </tr>\n    <tr>\n      <th>0</th>\n      <td>0.000000</td>\n      <td>2015-01-01 00:30:00</td>\n    </tr>\n    <tr>\n      <th>0</th>\n      <td>0.000000</td>\n      <td>2015-01-01 00:30:00</td>\n    </tr>\n    <tr>\n      <th>0</th>\n      <td>0.000000</td>\n      <td>2015-01-01 00:30:00</td>\n    </tr>\n    <tr>\n      <th>0</th>\n      <td>0.000000</td>\n      <td>2015-01-01 00:30:00</td>\n    </tr>\n    <tr>\n      <th>0</th>\n      <td>0.000000</td>\n      <td>2015-01-01 00:30:00</td>\n    </tr>\n  </tbody>\n</table>\n</div>"
     },
     "metadata": {},
     "execution_count": 18
    }
   ],
   "source": [
    "df_cos = pd.DataFrame(arr)\n",
    "df_cos[\"time\"] = pd.DataFrame(out.time_index)\n",
    "day = 0\n",
    "df_cos.iloc[day * 24 : (day + 1) * 24 + 1]"
   ]
  },
  {
   "cell_type": "code",
   "execution_count": 20,
   "metadata": {},
   "outputs": [
    {
     "output_type": "execute_result",
     "data": {
      "text/plain": [
       "           0                time\n",
       "0   0.000000 2015-01-01 00:30:00\n",
       "1   0.000000 2015-01-01 01:30:00\n",
       "2   0.000000 2015-01-01 02:30:00\n",
       "3   0.000000 2015-01-01 03:30:00\n",
       "4   0.000000 2015-01-01 04:30:00\n",
       "5   0.000000 2015-01-01 05:30:00\n",
       "6   0.000000 2015-01-01 06:30:00\n",
       "7   0.983243 2015-01-01 07:30:00\n",
       "8   0.852551 2015-01-01 08:30:00\n",
       "9   0.785634 2015-01-01 09:30:00\n",
       "10  0.755369 2015-01-01 10:30:00\n",
       "11  0.751307 2015-01-01 11:30:00\n",
       "12  0.772149 2015-01-01 12:30:00\n",
       "13  0.824826 2015-01-01 13:30:00\n",
       "14  0.929466 2015-01-01 14:30:00\n",
       "15  0.000000 2015-01-01 15:30:00\n",
       "16  0.000000 2015-01-01 16:30:00\n",
       "17  0.000000 2015-01-01 17:30:00\n",
       "18  0.000000 2015-01-01 18:30:00\n",
       "19  0.000000 2015-01-01 19:30:00\n",
       "20  0.000000 2015-01-01 20:30:00\n",
       "21  0.000000 2015-01-01 21:30:00\n",
       "22  0.000000 2015-01-01 22:30:00\n",
       "23  0.000000 2015-01-01 23:30:00\n",
       "24  0.000000 2015-01-02 00:30:00"
      ],
      "text/html": "<div>\n<style scoped>\n    .dataframe tbody tr th:only-of-type {\n        vertical-align: middle;\n    }\n\n    .dataframe tbody tr th {\n        vertical-align: top;\n    }\n\n    .dataframe thead th {\n        text-align: right;\n    }\n</style>\n<table border=\"1\" class=\"dataframe\">\n  <thead>\n    <tr style=\"text-align: right;\">\n      <th></th>\n      <th>0</th>\n      <th>time</th>\n    </tr>\n  </thead>\n  <tbody>\n    <tr>\n      <th>0</th>\n      <td>0.000000</td>\n      <td>2015-01-01 00:30:00</td>\n    </tr>\n    <tr>\n      <th>1</th>\n      <td>0.000000</td>\n      <td>2015-01-01 01:30:00</td>\n    </tr>\n    <tr>\n      <th>2</th>\n      <td>0.000000</td>\n      <td>2015-01-01 02:30:00</td>\n    </tr>\n    <tr>\n      <th>3</th>\n      <td>0.000000</td>\n      <td>2015-01-01 03:30:00</td>\n    </tr>\n    <tr>\n      <th>4</th>\n      <td>0.000000</td>\n      <td>2015-01-01 04:30:00</td>\n    </tr>\n    <tr>\n      <th>5</th>\n      <td>0.000000</td>\n      <td>2015-01-01 05:30:00</td>\n    </tr>\n    <tr>\n      <th>6</th>\n      <td>0.000000</td>\n      <td>2015-01-01 06:30:00</td>\n    </tr>\n    <tr>\n      <th>7</th>\n      <td>0.983243</td>\n      <td>2015-01-01 07:30:00</td>\n    </tr>\n    <tr>\n      <th>8</th>\n      <td>0.852551</td>\n      <td>2015-01-01 08:30:00</td>\n    </tr>\n    <tr>\n      <th>9</th>\n      <td>0.785634</td>\n      <td>2015-01-01 09:30:00</td>\n    </tr>\n    <tr>\n      <th>10</th>\n      <td>0.755369</td>\n      <td>2015-01-01 10:30:00</td>\n    </tr>\n    <tr>\n      <th>11</th>\n      <td>0.751307</td>\n      <td>2015-01-01 11:30:00</td>\n    </tr>\n    <tr>\n      <th>12</th>\n      <td>0.772149</td>\n      <td>2015-01-01 12:30:00</td>\n    </tr>\n    <tr>\n      <th>13</th>\n      <td>0.824826</td>\n      <td>2015-01-01 13:30:00</td>\n    </tr>\n    <tr>\n      <th>14</th>\n      <td>0.929466</td>\n      <td>2015-01-01 14:30:00</td>\n    </tr>\n    <tr>\n      <th>15</th>\n      <td>0.000000</td>\n      <td>2015-01-01 15:30:00</td>\n    </tr>\n    <tr>\n      <th>16</th>\n      <td>0.000000</td>\n      <td>2015-01-01 16:30:00</td>\n    </tr>\n    <tr>\n      <th>17</th>\n      <td>0.000000</td>\n      <td>2015-01-01 17:30:00</td>\n    </tr>\n    <tr>\n      <th>18</th>\n      <td>0.000000</td>\n      <td>2015-01-01 18:30:00</td>\n    </tr>\n    <tr>\n      <th>19</th>\n      <td>0.000000</td>\n      <td>2015-01-01 19:30:00</td>\n    </tr>\n    <tr>\n      <th>20</th>\n      <td>0.000000</td>\n      <td>2015-01-01 20:30:00</td>\n    </tr>\n    <tr>\n      <th>21</th>\n      <td>0.000000</td>\n      <td>2015-01-01 21:30:00</td>\n    </tr>\n    <tr>\n      <th>22</th>\n      <td>0.000000</td>\n      <td>2015-01-01 22:30:00</td>\n    </tr>\n    <tr>\n      <th>23</th>\n      <td>0.000000</td>\n      <td>2015-01-01 23:30:00</td>\n    </tr>\n    <tr>\n      <th>24</th>\n      <td>0.000000</td>\n      <td>2015-01-02 00:30:00</td>\n    </tr>\n  </tbody>\n</table>\n</div>"
     },
     "metadata": {},
     "execution_count": 20
    }
   ],
   "source": [
    "# check cos theta calculations:\n",
    "_declination = np.deg2rad(out.sim_data[\"declination_angle_degree\"][:, 0])  # -23.011637)\n",
    "_hour_angle = np.deg2rad(out.sim_data[\"hour_angle_degree\"][:, 0])  # -160.016295)\n",
    "_solar_altitude = np.deg2rad(out.sim_data[\"solar_altitude_angle_degree\"][:, 0])\n",
    "_latitude = np.deg2rad(52.510)\n",
    "\n",
    "Sz = np.cos(_latitude) * np.cos(_declination) * np.cos(_hour_angle) + np.sin(\n",
    "    _latitude\n",
    ") * np.sin(_declination)\n",
    "Sy = np.cos(_latitude) * np.sin(_declination) - np.sin(_latitude) * np.cos(\n",
    "    _declination\n",
    ") * np.cos(_hour_angle)\n",
    "\n",
    "costheta = (1 - (Sz / np.sqrt(np.square(Sy) + np.square(Sz)))) * (_solar_altitude > 0)\n",
    "df_frac = pd.DataFrame(costheta)\n",
    "df_frac[\"time\"] = pd.DataFrame(out.time_index)\n",
    "\n",
    "day = 0\n",
    "df_frac.iloc[day * 24 : (day + 1) * 24 + 1]"
   ]
  },
  {
   "cell_type": "code",
   "execution_count": 10,
   "metadata": {},
   "outputs": [
    {
     "output_type": "execute_result",
     "data": {
      "text/plain": [
       "array([[ True, False, False],\n",
       "       [False, False, False]])"
      ]
     },
     "metadata": {},
     "execution_count": 10
    }
   ],
   "source": [
    "a = np.array([[1, 2, 3], [4, 5, 6]])\n",
    "b = 1\n",
    "a == b"
   ]
  },
  {
   "cell_type": "markdown",
   "metadata": {},
   "source": [
    "---\n",
    "## Single Location"
   ]
  },
  {
   "cell_type": "code",
   "execution_count": null,
   "metadata": {},
   "outputs": [],
   "source": [
    "placements = pd.DataFrame()\n",
    "placements[\"lon\"] = [\n",
    "    6.083,\n",
    "]  # Longitude\n",
    "placements[\"lat\"] = [\n",
    "    50.775,\n",
    "]  # Latitude\n",
    "placements[\"tilt\"] = [\n",
    "    32,\n",
    "]  # System tilt in degrees\n",
    "placements[\"azimuth\"] = [\n",
    "    180,\n",
    "]  # System azimuth in degrees\n",
    "placements[\"capacity\"] = [\n",
    "    2000,\n",
    "]  # Total system capacity in kW\n",
    "placements[\"elev\"] = [\n",
    "    250,\n",
    "]  # Altitute in meters\n",
    "placements[\"Area\"] = [100]  # Park size in m**2"
   ]
  },
  {
   "cell_type": "code",
   "execution_count": null,
   "metadata": {},
   "outputs": [],
   "source": [
    "out = rk.solar.openfield_pv_sarah_unvalidated(\n",
    "    placements=placements,\n",
    "    sarah_path=rk.TEST_DATA[\"sarah-like\"],\n",
    "    era5_path=rk.TEST_DATA[\"era5-like\"],\n",
    "    module=\"WINAICO WSx-240P6\",  # Module to use for simulation\n",
    ")\n",
    "\n",
    "print(\"Output is of type:\", type(out))\n",
    "print(\"Variables in output:\")\n",
    "for i, var in enumerate(list(out.variables)):\n",
    "    print(\n",
    "        \" {i:2d}: {name:30s} - Dimensions:{dim}\".format(\n",
    "            i=i, name=var, dim=out[var].dims\n",
    "        )\n",
    "    )"
   ]
  },
  {
   "cell_type": "code",
   "execution_count": null,
   "metadata": {},
   "outputs": [],
   "source": [
    "out"
   ]
  },
  {
   "cell_type": "code",
   "execution_count": null,
   "metadata": {},
   "outputs": [],
   "source": [
    "out.capacity_factor.plot()"
   ]
  },
  {
   "cell_type": "markdown",
   "metadata": {},
   "source": [
    "---\n",
    "# Simulate single location, but only using ERA-5"
   ]
  },
  {
   "cell_type": "code",
   "execution_count": null,
   "metadata": {},
   "outputs": [],
   "source": [
    "out = rk.solar.openfield_pv_era5_unvalidated(\n",
    "    placements=placements,\n",
    "    era5_path=rk.TEST_DATA[\"era5-like\"],\n",
    "    global_solar_atlas_ghi_path=rk.TEST_DATA[\"gsa-ghi-like.tif\"],\n",
    "    global_solar_atlas_dni_path=rk.TEST_DATA[\"gsa-dni-like.tif\"],\n",
    "    module=\"WINAICO WSx-240P6\",  # Module to use for simulation\n",
    ")\n",
    "\n",
    "print(\"Output is of type:\", type(out))\n",
    "print(\"Variables in output:\")\n",
    "for i, var in enumerate(list(out.variables)):\n",
    "    print(\n",
    "        \" {i:2d}: {name:30s} - Dimensions:{dim}\".format(\n",
    "            i=i, name=var, dim=out[var].dims\n",
    "        )\n",
    "    )"
   ]
  },
  {
   "cell_type": "code",
   "execution_count": null,
   "metadata": {},
   "outputs": [],
   "source": [
    "out.capacity_factor.fillna(0).plot()"
   ]
  },
  {
   "cell_type": "markdown",
   "metadata": {},
   "source": [
    "---\n",
    "## Single Location with Tracking"
   ]
  },
  {
   "cell_type": "code",
   "execution_count": null,
   "metadata": {},
   "outputs": [],
   "source": [
    "out = rk.solar.openfield_pv_era5_unvalidated(\n",
    "    placements=placements,\n",
    "    era5_path=rk.TEST_DATA[\"era5-like\"],\n",
    "    global_solar_atlas_ghi_path=rk.TEST_DATA[\"gsa-ghi-like.tif\"],\n",
    "    global_solar_atlas_dni_path=rk.TEST_DATA[\"gsa-dni-like.tif\"],\n",
    "    module=\"WINAICO WSx-240P6\",  # Module to use for simulation\n",
    "    tracking=\"single_axis\",\n",
    ")"
   ]
  },
  {
   "cell_type": "code",
   "execution_count": null,
   "metadata": {},
   "outputs": [],
   "source": [
    "out.capacity_factor.fillna(0).plot()"
   ]
  },
  {
   "cell_type": "markdown",
   "metadata": {},
   "source": [
    "---\n",
    "## Simulating multiple locations is the same as simulating a single location\n",
    "- It is recommended to simulate multiple locations at once!"
   ]
  },
  {
   "cell_type": "code",
   "execution_count": null,
   "metadata": {},
   "outputs": [],
   "source": [
    "# Make a placements dataframe\n",
    "placements = pd.DataFrame()\n",
    "placements[\"lon\"] = [\n",
    "    6.083,\n",
    "    6.090,\n",
    "    6.095,\n",
    "    6.100,\n",
    "    6.105,\n",
    "]  # Longitude\n",
    "placements[\"lat\"] = [\n",
    "    50.775,\n",
    "    50.780,\n",
    "    50.785,\n",
    "    50.790,\n",
    "    50.795,\n",
    "]  # Latitude\n",
    "placements[\"tilt\"] = [\n",
    "    32,\n",
    "    25,\n",
    "    20,\n",
    "    35,\n",
    "    40,\n",
    "]  # System tilt in degrees\n",
    "placements[\"azimuth\"] = [\n",
    "    180,\n",
    "    180,\n",
    "    180,\n",
    "    180,\n",
    "    180,\n",
    "]  # System azimuth in degrees\n",
    "placements[\"capacity\"] = [\n",
    "    2000,\n",
    "    2000,\n",
    "    2000,\n",
    "    2000,\n",
    "    2000,\n",
    "]  # Total system capacity in kW\n",
    "placements[\"elev\"] = [\n",
    "    250,\n",
    "    300,\n",
    "    350,\n",
    "    1000,\n",
    "    -100,\n",
    "]  # Altitute in meters\n",
    "\n",
    "placements"
   ]
  },
  {
   "cell_type": "code",
   "execution_count": null,
   "metadata": {},
   "outputs": [],
   "source": [
    "# Do simulation\n",
    "out = rk.solar.openfield_pv_era5_unvalidated(\n",
    "    placements=placements,\n",
    "    era5_path=rk.TEST_DATA[\"era5-like\"],\n",
    "    global_solar_atlas_ghi_path=rk.TEST_DATA[\"gsa-ghi-like.tif\"],\n",
    "    global_solar_atlas_dni_path=rk.TEST_DATA[\"gsa-dni-like.tif\"],\n",
    "    module=\"WINAICO WSx-240P6\",  # Module to use for simulation\n",
    ")"
   ]
  },
  {
   "cell_type": "code",
   "execution_count": null,
   "metadata": {},
   "outputs": [],
   "source": [
    "plt.figure(figsize=(6, 4))\n",
    "for i in range(placements.shape[0]):\n",
    "    out.capacity_factor[:, i].fillna(0).plot(label=i)\n",
    "\n",
    "plt.legend(ncol=3, title=\"Placement ID\")\n",
    "plt.title(\"Capacity Factor Generation\")\n",
    "plt.show()"
   ]
  },
  {
   "cell_type": "code",
   "execution_count": null,
   "metadata": {},
   "outputs": [],
   "source": []
  },
  {
   "cell_type": "code",
   "execution_count": null,
   "metadata": {},
   "outputs": [],
   "source": []
  }
 ],
 "metadata": {
  "kernelspec": {
   "display_name": "reskit",
   "language": "python",
   "name": "reskit"
  },
  "language_info": {
   "codemirror_mode": {
    "name": "ipython",
    "version": 3
   },
   "file_extension": ".py",
   "mimetype": "text/x-python",
   "name": "python",
   "nbconvert_exporter": "python",
   "pygments_lexer": "ipython3",
   "version": "3.8.6-final"
  }
 },
 "nbformat": 4,
 "nbformat_minor": 4
}