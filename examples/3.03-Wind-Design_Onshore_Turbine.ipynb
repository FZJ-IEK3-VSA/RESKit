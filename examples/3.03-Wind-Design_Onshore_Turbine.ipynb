{
 "cells": [
  {
   "cell_type": "markdown",
   "metadata": {},
   "source": [
    "# Suggest Onshore Wind Turbine \n",
    "\n",
    "* RESKit can suggest a turbine design based off site conditions (average 100m wind speed)\n",
    "* Suggestions are tailored to a far future context (~2050)\n",
    "* Since the suggestion model computes a specific capacity, a desired rotor diameter must be specified"
   ]
  },
  {
   "cell_type": "code",
   "execution_count": 1,
   "metadata": {},
   "outputs": [],
   "source": [
    "import reskit as rk"
   ]
  },
  {
   "cell_type": "code",
   "execution_count": 3,
   "metadata": {},
   "outputs": [
    {
     "name": "stdout",
     "output_type": "stream",
     "text": [
      "Suggested capacity is 4200 kW\n",
      "Suggested hub height is 120 meters\n",
      "Suggested rotor diamter is 136 meters\n",
      "Suggested specific capacity is 289 W/m2\n"
     ]
    }
   ],
   "source": [
    "# Get suggestion for one location\n",
    "design = rk.wind.onshore_turbine_from_avg_wind_speed(\n",
    "    wind_speed=6.70, base_rotor_diam=136  # Assume average 100m wind speed is 6.70 m/s\n",
    ")\n",
    "\n",
    "\n",
    "print(\"Suggested capacity is {:.0f} kW\".format(design[\"capacity\"]))\n",
    "print(\"Suggested hub height is {:.0f} meters\".format(design[\"hub_height\"]))\n",
    "print(\"Suggested rotor diamter is {:.0f} meters\".format(design[\"rotor_diam\"]))\n",
    "print(\"Suggested specific capacity is {:.0f} W/m2\".format(design[\"specific_power\"]))"
   ]
  },
  {
   "cell_type": "code",
   "execution_count": 5,
   "metadata": {},
   "outputs": [
    {
     "data": {
      "text/html": [
       "<div>\n",
       "<style scoped>\n",
       "    .dataframe tbody tr th:only-of-type {\n",
       "        vertical-align: middle;\n",
       "    }\n",
       "\n",
       "    .dataframe tbody tr th {\n",
       "        vertical-align: top;\n",
       "    }\n",
       "\n",
       "    .dataframe thead th {\n",
       "        text-align: right;\n",
       "    }\n",
       "</style>\n",
       "<table border=\"1\" class=\"dataframe\">\n",
       "  <thead>\n",
       "    <tr style=\"text-align: right;\">\n",
       "      <th></th>\n",
       "      <th>capacity</th>\n",
       "      <th>hub_height</th>\n",
       "      <th>rotor_diam</th>\n",
       "      <th>specific_power</th>\n",
       "    </tr>\n",
       "  </thead>\n",
       "  <tbody>\n",
       "    <tr>\n",
       "      <th>0</th>\n",
       "      <td>4200.0</td>\n",
       "      <td>120.0</td>\n",
       "      <td>136</td>\n",
       "      <td>289.0</td>\n",
       "    </tr>\n",
       "    <tr>\n",
       "      <th>1</th>\n",
       "      <td>3325.0</td>\n",
       "      <td>174.0</td>\n",
       "      <td>136</td>\n",
       "      <td>229.0</td>\n",
       "    </tr>\n",
       "    <tr>\n",
       "      <th>2</th>\n",
       "      <td>3836.0</td>\n",
       "      <td>138.0</td>\n",
       "      <td>136</td>\n",
       "      <td>264.0</td>\n",
       "    </tr>\n",
       "    <tr>\n",
       "      <th>3</th>\n",
       "      <td>3451.0</td>\n",
       "      <td>164.0</td>\n",
       "      <td>136</td>\n",
       "      <td>238.0</td>\n",
       "    </tr>\n",
       "    <tr>\n",
       "      <th>4</th>\n",
       "      <td>3604.0</td>\n",
       "      <td>153.0</td>\n",
       "      <td>136</td>\n",
       "      <td>248.0</td>\n",
       "    </tr>\n",
       "    <tr>\n",
       "      <th>5</th>\n",
       "      <td>3439.0</td>\n",
       "      <td>165.0</td>\n",
       "      <td>136</td>\n",
       "      <td>237.0</td>\n",
       "    </tr>\n",
       "    <tr>\n",
       "      <th>6</th>\n",
       "      <td>3447.0</td>\n",
       "      <td>164.0</td>\n",
       "      <td>136</td>\n",
       "      <td>237.0</td>\n",
       "    </tr>\n",
       "    <tr>\n",
       "      <th>7</th>\n",
       "      <td>3631.0</td>\n",
       "      <td>151.0</td>\n",
       "      <td>136</td>\n",
       "      <td>250.0</td>\n",
       "    </tr>\n",
       "    <tr>\n",
       "      <th>8</th>\n",
       "      <td>4039.0</td>\n",
       "      <td>128.0</td>\n",
       "      <td>136</td>\n",
       "      <td>278.0</td>\n",
       "    </tr>\n",
       "    <tr>\n",
       "      <th>9</th>\n",
       "      <td>3684.0</td>\n",
       "      <td>148.0</td>\n",
       "      <td>136</td>\n",
       "      <td>254.0</td>\n",
       "    </tr>\n",
       "  </tbody>\n",
       "</table>\n",
       "</div>"
      ],
      "text/plain": [
       "   capacity  hub_height  rotor_diam  specific_power\n",
       "0    4200.0       120.0         136           289.0\n",
       "1    3325.0       174.0         136           229.0\n",
       "2    3836.0       138.0         136           264.0\n",
       "3    3451.0       164.0         136           238.0\n",
       "4    3604.0       153.0         136           248.0\n",
       "5    3439.0       165.0         136           237.0\n",
       "6    3447.0       164.0         136           237.0\n",
       "7    3631.0       151.0         136           250.0\n",
       "8    4039.0       128.0         136           278.0\n",
       "9    3684.0       148.0         136           254.0"
      ]
     },
     "execution_count": 5,
     "metadata": {},
     "output_type": "execute_result"
    }
   ],
   "source": [
    "# Get suggestion for many locations\n",
    "designs = rk.wind.onshore_turbine_from_avg_wind_speed(\n",
    "    wind_speed=[\n",
    "        6.70,\n",
    "        4.34,\n",
    "        5.66,\n",
    "        4.65,\n",
    "        5.04,\n",
    "        4.62,\n",
    "        4.64,\n",
    "        5.11,\n",
    "        6.23,\n",
    "        5.25,\n",
    "    ],\n",
    "    base_rotor_diam=136,\n",
    ")\n",
    "\n",
    "designs.round()"
   ]
  },
  {
   "cell_type": "code",
   "execution_count": null,
   "metadata": {},
   "outputs": [],
   "source": []
  }
 ],
 "metadata": {
  "kernelspec": {
   "display_name": "Python 3",
   "language": "python",
   "name": "python3"
  },
  "language_info": {
   "codemirror_mode": {
    "name": "ipython",
    "version": 3
   },
   "file_extension": ".py",
   "mimetype": "text/x-python",
   "name": "python",
   "nbconvert_exporter": "python",
   "pygments_lexer": "ipython3",
   "version": "3.8.6"
  }
 },
 "nbformat": 4,
 "nbformat_minor": 4
}
