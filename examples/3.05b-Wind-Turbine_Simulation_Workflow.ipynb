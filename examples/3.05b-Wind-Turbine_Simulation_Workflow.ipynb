{
 "cells": [
  {
   "cell_type": "markdown",
   "metadata": {},
   "source": [
    "# Advanced Wind Turbine Simulation Workflow\n",
    "\n",
    "* A more advanced turbine workflow will include many steps (Which have been showcased in previous examples)\n",
    "* The process exemplified here includes:\n",
    "  1. Weather data extraction from a MERRA dataset (windspeed, pressure, temperature)\n",
    "  2. Spatial adjustment of the windspeeds\n",
    "  3. Vertical projection of the wind speeds\n",
    "  4. Wind speed density correction\n",
    "  5. Power curve convolution\n",
    "  6. Capacity Factor Estimation"
   ]
  },
  {
   "cell_type": "code",
   "execution_count": 1,
   "metadata": {},
   "outputs": [],
   "source": [
    "import reskit as rk\n",
    "\n",
    "import numpy as np\n",
    "import matplotlib.pyplot as plt\n",
    "%matplotlib inline"
   ]
  },
  {
   "cell_type": "markdown",
   "metadata": {},
   "source": [
    "# Simulate a Single Location"
   ]
  },
  {
   "cell_type": "code",
   "execution_count": 2,
   "metadata": {},
   "outputs": [],
   "source": [
    "# Set some constants for later\n",
    "\n",
    "TURBINE_CAPACITY = 4200 # kW\n",
    "TURBINE_HUB_HEIGHT = 120 # meters\n",
    "TURBINE_ROTOR_DIAMETER = 136 # meters\n",
    "TURBINE_LOCATION = (6.0,50.5) # (lon, lat)"
   ]
  },
  {
   "cell_type": "code",
   "execution_count": 3,
   "metadata": {},
   "outputs": [
    {
     "name": "stdout",
     "output_type": "stream",
     "text": [
      "2015-01-01 00:30:00+00:00    5.383743\n",
      "2015-01-01 01:30:00+00:00    5.323299\n",
      "2015-01-01 02:30:00+00:00    5.232418\n",
      "2015-01-01 03:30:00+00:00    5.160997\n",
      "2015-01-01 04:30:00+00:00    5.439261\n",
      "Name: (6.00000,50.50000), dtype: float64\n"
     ]
    }
   ],
   "source": [
    "# 1. Create a weather source, load, and extract weather variables\n",
    "src = rk.weather.MerraSource(rk.TEST_DATA[\"merra-like\"], bounds=[5,49,7,52], verbose=False)\n",
    "\n",
    "src.sload_elevated_wind_speed()\n",
    "src.sload_surface_pressure()\n",
    "src.sload_surface_air_temperature()\n",
    "\n",
    "raw_windspeeds = src.get(\"elevated_wind_speed\", locations=TURBINE_LOCATION, interpolation='bilinear')\n",
    "raw_pressure = src.get(\"surface_pressure\", locations=TURBINE_LOCATION, interpolation='bilinear')\n",
    "raw_temperature = src.get(\"surface_air_temperature\", locations=TURBINE_LOCATION, interpolation='bilinear')\n",
    "\n",
    "print(raw_windspeeds.head())"
   ]
  },
  {
   "cell_type": "code",
   "execution_count": 4,
   "metadata": {},
   "outputs": [
    {
     "name": "stdout",
     "output_type": "stream",
     "text": [
      "2015-01-01 00:30:00+00:00    6.506035\n",
      "2015-01-01 01:30:00+00:00    6.432992\n",
      "2015-01-01 02:30:00+00:00    6.323166\n",
      "2015-01-01 03:30:00+00:00    6.236856\n",
      "2015-01-01 04:30:00+00:00    6.573127\n",
      "Name: (6.00000,50.50000), dtype: float64\n"
     ]
    }
   ],
   "source": [
    "# 2. Vertically project wind speeds to hub height\n",
    "\n",
    "roughness = rk.wind.roughness_from_clc(\n",
    "    clc_path=rk.TEST_DATA['clc-aachen_clipped.tif'],\n",
    "    loc=TURBINE_LOCATION)\n",
    "\n",
    "\n",
    "projected_windspeed = rk.wind.apply_logarithmic_profile_projection(\n",
    "    measured_wind_speed=raw_windspeeds,\n",
    "    measured_height=50, # The MERRA dataset offers windspeeds at 50m\n",
    "    target_height=TURBINE_HUB_HEIGHT,\n",
    "    roughness=roughness)\n",
    "\n",
    "print(projected_windspeed.head())"
   ]
  },
  {
   "cell_type": "code",
   "execution_count": 5,
   "metadata": {},
   "outputs": [
    {
     "data": {
      "text/plain": [
       "2015-01-01 00:30:00+00:00    6.560702\n",
       "2015-01-01 01:30:00+00:00    6.485689\n",
       "2015-01-01 02:30:00+00:00    6.374120\n",
       "2015-01-01 03:30:00+00:00    6.287352\n",
       "2015-01-01 04:30:00+00:00    6.626462\n",
       "Name: (6.00000,50.50000), dtype: float64"
      ]
     },
     "execution_count": 5,
     "metadata": {},
     "output_type": "execute_result"
    }
   ],
   "source": [
    "# 3. Apply density correction\n",
    "\n",
    "pressure_corrected_windspeeds = rk.wind.apply_air_density_adjustment(\n",
    "    wind_speed=projected_windspeed,\n",
    "    pressure=raw_pressure,\n",
    "    temperature=raw_temperature,\n",
    "    height=TURBINE_HUB_HEIGHT)\n",
    "\n",
    "pressure_corrected_windspeeds.head()"
   ]
  },
  {
   "cell_type": "code",
   "execution_count": 6,
   "metadata": {},
   "outputs": [],
   "source": [
    "# 4. Power curve estimation and convolution\n",
    "\n",
    "power_curve = rk.wind.PowerCurve.from_capacity_and_rotor_diam(\n",
    "    capacity=TURBINE_CAPACITY, \n",
    "    rotor_diam=TURBINE_ROTOR_DIAMETER)\n",
    "\n",
    "convoluted_power_curve = power_curve.convolute_by_gaussian(scaling=0.06, base=0.1)"
   ]
  },
  {
   "cell_type": "code",
   "execution_count": 7,
   "metadata": {},
   "outputs": [
    {
     "data": {
      "text/plain": [
       "array([0.27274368, 0.263165  , 0.24927993, 0.23877819, 0.28130338,\n",
       "       0.38840787, 0.46432296, 0.50710632, 0.55521966, 0.49867967,\n",
       "       0.57162601, 0.71241609, 0.70553725, 0.61188673, 0.70550303,\n",
       "       0.91619617, 0.98435169, 0.9890905 , 0.99523578, 0.99879707,\n",
       "       0.9995636 , 0.9998783 , 0.99996854, 0.99999167, 0.99999645,\n",
       "       0.99999847, 0.99999942, 0.99999979, 0.99999986, 0.99999955,\n",
       "       0.99999584, 0.99996655, 0.99986612, 0.9983592 , 0.99781337,\n",
       "       0.98068508, 0.94692514, 0.97451119, 0.97225159, 0.97975114,\n",
       "       0.97173012, 0.93896518, 0.87912222, 0.82910516, 0.78503793,\n",
       "       0.73948156, 0.63274194, 0.60786955, 0.56240585, 0.49214385,\n",
       "       0.48403557, 0.55132721, 0.66612623, 0.71490129, 0.71632635,\n",
       "       0.77203224, 0.83448196, 0.76762935, 0.5640216 , 0.42807353,\n",
       "       0.41320701, 0.41236897, 0.3295354 , 0.23965176, 0.13568902,\n",
       "       0.12705538, 0.32104052, 0.49466017, 0.2651354 , 0.20026743,\n",
       "       0.37168761])"
      ]
     },
     "execution_count": 7,
     "metadata": {},
     "output_type": "execute_result"
    }
   ],
   "source": [
    "# 5. Capacity factor estimation\n",
    "capacity_factors = convoluted_power_curve.simulate(wind_speed=pressure_corrected_windspeeds)\n",
    "\n",
    "capacity_factors"
   ]
  },
  {
   "cell_type": "code",
   "execution_count": 8,
   "metadata": {},
   "outputs": [
    {
     "data": {
      "image/png": "[encoded data removed]",
      "text/plain": [
       "<Figure size 432x288 with 1 Axes>"
      ]
     },
     "metadata": {
      "needs_background": "light"
     },
     "output_type": "display_data"
    }
   ],
   "source": [
    "plt.plot(capacity_factors)\n",
    "plt.show()"
   ]
  },
  {
   "cell_type": "markdown",
   "metadata": {},
   "source": [
    "# Simulate multiple locations at once (recommended)"
   ]
  },
  {
   "cell_type": "code",
   "execution_count": 9,
   "metadata": {},
   "outputs": [
    {
     "data": {
      "text/html": [
       "<div>\n",
       "<style scoped>\n",
       "    .dataframe tbody tr th:only-of-type {\n",
       "        vertical-align: middle;\n",
       "    }\n",
       "\n",
       "    .dataframe tbody tr th {\n",
       "        vertical-align: top;\n",
       "    }\n",
       "\n",
       "    .dataframe thead th {\n",
       "        text-align: right;\n",
       "    }\n",
       "</style>\n",
       "<table border=\"1\" class=\"dataframe\">\n",
       "  <thead>\n",
       "    <tr style=\"text-align: right;\">\n",
       "      <th></th>\n",
       "      <th>(6.25000,51.00000)</th>\n",
       "      <th>(6.50000,51.00000)</th>\n",
       "      <th>(6.25000,50.75000)</th>\n",
       "    </tr>\n",
       "  </thead>\n",
       "  <tbody>\n",
       "    <tr>\n",
       "      <th>2015-01-01 00:30:00+00:00</th>\n",
       "      <td>0.395640</td>\n",
       "      <td>0.265962</td>\n",
       "      <td>0.271250</td>\n",
       "    </tr>\n",
       "    <tr>\n",
       "      <th>2015-01-01 01:30:00+00:00</th>\n",
       "      <td>0.401436</td>\n",
       "      <td>0.266026</td>\n",
       "      <td>0.263652</td>\n",
       "    </tr>\n",
       "    <tr>\n",
       "      <th>2015-01-01 02:30:00+00:00</th>\n",
       "      <td>0.392426</td>\n",
       "      <td>0.262146</td>\n",
       "      <td>0.248813</td>\n",
       "    </tr>\n",
       "    <tr>\n",
       "      <th>2015-01-01 03:30:00+00:00</th>\n",
       "      <td>0.355555</td>\n",
       "      <td>0.242029</td>\n",
       "      <td>0.227116</td>\n",
       "    </tr>\n",
       "    <tr>\n",
       "      <th>2015-01-01 04:30:00+00:00</th>\n",
       "      <td>0.371413</td>\n",
       "      <td>0.259005</td>\n",
       "      <td>0.247643</td>\n",
       "    </tr>\n",
       "    <tr>\n",
       "      <th>...</th>\n",
       "      <td>...</td>\n",
       "      <td>...</td>\n",
       "      <td>...</td>\n",
       "    </tr>\n",
       "    <tr>\n",
       "      <th>2015-01-03 18:30:00+00:00</th>\n",
       "      <td>0.050942</td>\n",
       "      <td>0.006590</td>\n",
       "      <td>0.116420</td>\n",
       "    </tr>\n",
       "    <tr>\n",
       "      <th>2015-01-03 19:30:00+00:00</th>\n",
       "      <td>0.068628</td>\n",
       "      <td>0.054896</td>\n",
       "      <td>0.204335</td>\n",
       "    </tr>\n",
       "    <tr>\n",
       "      <th>2015-01-03 20:30:00+00:00</th>\n",
       "      <td>0.174991</td>\n",
       "      <td>0.163077</td>\n",
       "      <td>0.207437</td>\n",
       "    </tr>\n",
       "    <tr>\n",
       "      <th>2015-01-03 21:30:00+00:00</th>\n",
       "      <td>0.335069</td>\n",
       "      <td>0.337246</td>\n",
       "      <td>0.250523</td>\n",
       "    </tr>\n",
       "    <tr>\n",
       "      <th>2015-01-03 22:30:00+00:00</th>\n",
       "      <td>0.616462</td>\n",
       "      <td>0.552954</td>\n",
       "      <td>0.451104</td>\n",
       "    </tr>\n",
       "  </tbody>\n",
       "</table>\n",
       "<p>71 rows × 3 columns</p>\n",
       "</div>"
      ],
      "text/plain": [
       "                           (6.25000,51.00000)  (6.50000,51.00000)  \\\n",
       "2015-01-01 00:30:00+00:00            0.395640            0.265962   \n",
       "2015-01-01 01:30:00+00:00            0.401436            0.266026   \n",
       "2015-01-01 02:30:00+00:00            0.392426            0.262146   \n",
       "2015-01-01 03:30:00+00:00            0.355555            0.242029   \n",
       "2015-01-01 04:30:00+00:00            0.371413            0.259005   \n",
       "...                                       ...                 ...   \n",
       "2015-01-03 18:30:00+00:00            0.050942            0.006590   \n",
       "2015-01-03 19:30:00+00:00            0.068628            0.054896   \n",
       "2015-01-03 20:30:00+00:00            0.174991            0.163077   \n",
       "2015-01-03 21:30:00+00:00            0.335069            0.337246   \n",
       "2015-01-03 22:30:00+00:00            0.616462            0.552954   \n",
       "\n",
       "                           (6.25000,50.75000)  \n",
       "2015-01-01 00:30:00+00:00            0.271250  \n",
       "2015-01-01 01:30:00+00:00            0.263652  \n",
       "2015-01-01 02:30:00+00:00            0.248813  \n",
       "2015-01-01 03:30:00+00:00            0.227116  \n",
       "2015-01-01 04:30:00+00:00            0.247643  \n",
       "...                                       ...  \n",
       "2015-01-03 18:30:00+00:00            0.116420  \n",
       "2015-01-03 19:30:00+00:00            0.204335  \n",
       "2015-01-03 20:30:00+00:00            0.207437  \n",
       "2015-01-03 21:30:00+00:00            0.250523  \n",
       "2015-01-03 22:30:00+00:00            0.451104  \n",
       "\n",
       "[71 rows x 3 columns]"
      ]
     },
     "execution_count": 9,
     "metadata": {},
     "output_type": "execute_result"
    }
   ],
   "source": [
    "TURBINE_CAPACITY = 4200 # kW\n",
    "TURBINE_HUB_HEIGHT = 120 # meters\n",
    "TURBINE_ROTOR_DIAMETER = 136 # meters\n",
    "TURBINE_LOCATION = np.array([(6.25,51.), (6.50,51.), (6.25,50.75)]) # (lon,lat)\n",
    "\n",
    "\n",
    "# 1\n",
    "raw_windspeeds = src.get(\"elevated_wind_speed\", locations=TURBINE_LOCATION, interpolation='bilinear')\n",
    "raw_pressure = src.get(\"surface_pressure\", locations=TURBINE_LOCATION, interpolation='bilinear')\n",
    "raw_temperature = src.get(\"surface_air_temperature\", locations=TURBINE_LOCATION, interpolation='bilinear')\n",
    "\n",
    "# 2\n",
    "roughness = rk.wind.roughness_from_clc(\n",
    "    clc_path=rk.TEST_DATA['clc-aachen_clipped.tif'],\n",
    "    loc=TURBINE_LOCATION)\n",
    "\n",
    "\n",
    "projected_windspeed = rk.wind.apply_logarithmic_profile_projection(\n",
    "    measured_wind_speed=raw_windspeeds,\n",
    "    measured_height=50, # The MERRA dataset offers windspeeds at 50m\n",
    "    target_height=TURBINE_HUB_HEIGHT,\n",
    "    roughness=roughness)\n",
    "\n",
    "# 3\n",
    "pressure_corrected_windspeeds = rk.wind.apply_air_density_adjustment(\n",
    "    wind_speed=projected_windspeed,\n",
    "    pressure=raw_pressure,\n",
    "    temperature=raw_temperature,\n",
    "    height=TURBINE_HUB_HEIGHT)\n",
    "\n",
    "convoluted_power_curve = power_curve.convolute_by_gaussian(scaling=0.06, base=0.1)\n",
    "\n",
    "# 4\n",
    "power_curve = rk.wind.PowerCurve.from_capacity_and_rotor_diam(\n",
    "    capacity=TURBINE_CAPACITY, \n",
    "    rotor_diam=TURBINE_ROTOR_DIAMETER)\n",
    "\n",
    "# 5\n",
    "capacity_factors = convoluted_power_curve.simulate(wind_speed=pressure_corrected_windspeeds)\n",
    "\n",
    "\n",
    "# Print result\n",
    "capacity_factors"
   ]
  },
  {
   "cell_type": "code",
   "execution_count": 10,
   "metadata": {},
   "outputs": [
    {
     "data": {
      "image/png": "[encoded data removed]",
      "text/plain": [
       "<Figure size 432x288 with 1 Axes>"
      ]
     },
     "metadata": {
      "needs_background": "light"
     },
     "output_type": "display_data"
    }
   ],
   "source": [
    "capacity_factors.plot()\n",
    "plt.show()"
   ]
  },
  {
   "cell_type": "code",
   "execution_count": null,
   "metadata": {},
   "outputs": [],
   "source": []
  }
 ],
 "metadata": {
  "kernelspec": {
   "display_name": "Python 3",
   "language": "python",
   "name": "python3"
  },
  "language_info": {
   "codemirror_mode": {
    "name": "ipython",
    "version": 3
   },
   "file_extension": ".py",
   "mimetype": "text/x-python",
   "name": "python",
   "nbconvert_exporter": "python",
   "pygments_lexer": "ipython3",
   "version": "3.8.2"
  }
 },
 "nbformat": 4,
 "nbformat_minor": 4
}
