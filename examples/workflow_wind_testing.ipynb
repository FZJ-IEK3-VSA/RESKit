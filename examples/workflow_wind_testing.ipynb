{
 "cells": [
  {
   "cell_type": "code",
   "execution_count": 1,
   "metadata": {},
   "outputs": [],
   "source": [
    "import geokit as gk\n",
    "import pandas as pd\n",
    "import numpy as np\n",
    "\n",
    "import reskit as rk\n",
    "from reskit import windpower\n",
    "from reskit.workflows.wind import WindWorkflowGenerator #onshore_wind_Ryberg2019_Europe"
   ]
  },
  {
   "cell_type": "code",
   "execution_count": 2,
   "metadata": {},
   "outputs": [],
   "source": [
    "placements = pd.read_csv(rk._TEST_DATA_['turbine_placements.csv'])\n",
    "merra_path=rk._TEST_DATA_['weather_data']\n",
    "gwa_50m_path=rk._TEST_DATA_['gwa50-like.tif']\n",
    "clc2012_path=rk._TEST_DATA_['clc-aachen_clipped.tif']"
   ]
  },
  {
   "cell_type": "code",
   "execution_count": 3,
   "metadata": {},
   "outputs": [],
   "source": [
    "wf = WindWorkflowGenerator(placements)\n",
    "\n",
    "# tests\n",
    "assert isinstance( wf.locs, gk.LocationSet)\n",
    "assert wf.locs.count == placements.shape[0]\n",
    "\n",
    "assert len(wf.powerCurveLibrary.keys())==2\n",
    "assert isinstance(wf.powerCurveLibrary['SPC:301,25'], rk.windpower.PowerCurve)\n",
    "assert isinstance(wf.powerCurveLibrary['SPC:226,25'], rk.windpower.PowerCurve)\n",
    "\n",
    "assert np.isclose(wf.powerCurveLibrary['SPC:301,25'].cf.mean(), 0.5743801652892562)"
   ]
  },
  {
   "cell_type": "code",
   "execution_count": 4,
   "metadata": {},
   "outputs": [],
   "source": [
    "wf.read(\n",
    "    variables=['elevated_wind_speed', \"surface_pressure\", \"surface_air_temperature\"],\n",
    "    source_type=\"MERRA\",\n",
    "    path=merra_path,\n",
    "    set_time_index=True,\n",
    "    verbose=False\n",
    ")\n",
    "\n",
    "# tests\n",
    "assert \"elevated_wind_speed\" in wf.sim_data\n",
    "assert \"surface_pressure\" in wf.sim_data\n",
    "assert \"surface_air_temperature\" in wf.sim_data\n",
    "\n",
    "assert wf.sim_data['elevated_wind_speed'].shape[0] == len(wf.time_index)\n",
    "assert wf.sim_data['elevated_wind_speed'].shape[1] == wf.locs.count\n",
    "\n",
    "assert wf.elevated_wind_speed_height == 50\n",
    "\n",
    "assert np.isclose( wf.sim_data['elevated_wind_speed'].mean(), 8.595122807949584)\n",
    "assert np.isclose( wf.sim_data['elevated_wind_speed'].std(), 2.8790115195804775)"
   ]
  },
  {
   "cell_type": "code",
   "execution_count": 5,
   "metadata": {},
   "outputs": [],
   "source": [
    "wf.adjust_variable_to_long_run_average(\n",
    "    variable='elevated_wind_speed',\n",
    "    source_long_run_average=rk.weather.sources.MerraSource.LONG_RUN_AVERAGE_WINDSPEED,\n",
    "    real_long_run_average=gwa_50m_path\n",
    ")\n",
    "\n",
    "# tests \n",
    "assert np.isclose( wf.sim_data['elevated_wind_speed'].mean(), 6.316895937544227)\n",
    "assert np.isclose( wf.sim_data['elevated_wind_speed'].std(), 2.165638796355242)"
   ]
  },
  {
   "cell_type": "code",
   "execution_count": 6,
   "metadata": {},
   "outputs": [],
   "source": [
    "wf.estimate_roughness_from_land_cover(\n",
    "    path=clc2012_path,\n",
    "    source_type=\"clc\")\n",
    "\n",
    "assert np.isclose( wf.placements['roughness'].mean(), 0.21235714285714286)\n",
    "assert np.isclose( wf.placements['roughness'].std(), 0.22295718871338902)"
   ]
  },
  {
   "cell_type": "code",
   "execution_count": 7,
   "metadata": {},
   "outputs": [],
   "source": [
    "wf.logarithmic_projection_of_wind_speeds_to_hub_height()\n",
    "\n",
    "assert np.isclose( wf.sim_data['elevated_wind_speed'].mean(), 7.247590523853572)\n",
    "assert np.isclose( wf.sim_data['elevated_wind_speed'].std(), 2.4773404233790046)"
   ]
  },
  {
   "cell_type": "code",
   "execution_count": 8,
   "metadata": {},
   "outputs": [],
   "source": [
    "wf.apply_air_density_correction_to_wind_speeds()\n",
    "\n",
    "assert np.isclose( wf.sim_data['elevated_wind_speed'].mean(), 7.308111114850857)\n",
    "assert np.isclose( wf.sim_data['elevated_wind_speed'].std(), 2.4932367249100644)"
   ]
  },
  {
   "cell_type": "code",
   "execution_count": 9,
   "metadata": {},
   "outputs": [],
   "source": [
    "wf.convolute_power_curves(\n",
    "    stdScaling=0.06,\n",
    "    stdBase=0.1\n",
    ")\n",
    "\n",
    "assert np.isclose(wf.powerCurveLibrary['SPC:301,25'].cf.mean(), 0.42844125885573553)"
   ]
  },
  {
   "cell_type": "code",
   "execution_count": 10,
   "metadata": {},
   "outputs": [],
   "source": [
    "wf.simulate()\n",
    "\n",
    "# tests\n",
    "assert np.isclose( wf.sim_data['capacity_factor'].mean(), 0.44716889827228373)\n",
    "assert np.isclose( wf.sim_data['capacity_factor'].std(), 0.3191091435347311)"
   ]
  },
  {
   "cell_type": "code",
   "execution_count": 11,
   "metadata": {},
   "outputs": [],
   "source": [
    "wf.apply_loss_factor(\n",
    "    loss=lambda x: windpower.lowGenLoss(x, base=0.0, sharpness=5.0)\n",
    ")\n",
    "\n",
    "# tests\n",
    "assert np.isclose( wf.sim_data['capacity_factor'].mean(), 0.4045317473094216)\n",
    "assert np.isclose( wf.sim_data['capacity_factor'].std(), 0.3383322799886796)"
   ]
  },
  {
   "cell_type": "code",
   "execution_count": null,
   "metadata": {},
   "outputs": [],
   "source": []
  },
  {
   "cell_type": "code",
   "execution_count": null,
   "metadata": {},
   "outputs": [],
   "source": []
  },
  {
   "cell_type": "code",
   "execution_count": null,
   "metadata": {},
   "outputs": [],
   "source": []
  },
  {
   "cell_type": "code",
   "execution_count": null,
   "metadata": {},
   "outputs": [],
   "source": []
  }
 ],
 "metadata": {
  "kernelspec": {
   "display_name": "Python 3",
   "language": "python",
   "name": "python3"
  },
  "language_info": {
   "codemirror_mode": {
    "name": "ipython",
    "version": 3
   },
   "file_extension": ".py",
   "mimetype": "text/x-python",
   "name": "python",
   "nbconvert_exporter": "python",
   "pygments_lexer": "ipython3",
   "version": "3.8.1"
  }
 },
 "nbformat": 4,
 "nbformat_minor": 4
}
