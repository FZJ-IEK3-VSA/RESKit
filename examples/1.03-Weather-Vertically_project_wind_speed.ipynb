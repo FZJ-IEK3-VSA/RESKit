{
 "cells": [
  {
   "cell_type": "markdown",
   "metadata": {},
   "source": [
    "# Wind shear estimation\n",
    "\n",
    "* RESKit will vertically adjust wind speeds to accoutn for wind shear\n",
    "* Uses a logarithmic wind profile approach\n",
    "* Requires estimating roughness length, and having a \"known\" wind speed"
   ]
  },
  {
   "cell_type": "code",
   "execution_count": 1,
   "metadata": {},
   "outputs": [],
   "source": [
    "import reskit as rk\n",
    "\n",
    "import numpy as np\n",
    "import matplotlib.pyplot as plt\n",
    "%matplotlib inline"
   ]
  },
  {
   "cell_type": "code",
   "execution_count": 2,
   "metadata": {},
   "outputs": [],
   "source": [
    "# Create a weather source, and load data\n",
    "src = rk.weather.MerraSource(rk.TEST_DATA[\"merra-like\"], bounds=[5,49,7,52], verbose=False)\n",
    "src.sload_elevated_wind_speed()"
   ]
  },
  {
   "cell_type": "markdown",
   "metadata": {},
   "source": [
    "# Get an adjusted time series for a specific location"
   ]
  },
  {
   "cell_type": "code",
   "execution_count": 3,
   "metadata": {},
   "outputs": [
    {
     "name": "stdout",
     "output_type": "stream",
     "text": [
      "2015-01-01 00:30:00+00:00    5.457981\n",
      "2015-01-01 01:30:00+00:00    5.324582\n",
      "2015-01-01 02:30:00+00:00    5.161159\n",
      "2015-01-01 03:30:00+00:00    5.035860\n",
      "2015-01-01 04:30:00+00:00    5.254663\n",
      "Name: (6.00000,50.50000), dtype: float32\n"
     ]
    }
   ],
   "source": [
    "# Extract raw wind speed and GHI data\n",
    "location = (6.0,50.5)\n",
    "\n",
    "windspeeds = src.get(\"elevated_wind_speed\", locations=location)\n",
    "print(windspeeds.head())"
   ]
  },
  {
   "cell_type": "code",
   "execution_count": 4,
   "metadata": {},
   "outputs": [
    {
     "name": "stdout",
     "output_type": "stream",
     "text": [
      "Estimated roughness is 0.75m\n"
     ]
    }
   ],
   "source": [
    "# Estimate roughness length at the location from a land-cover dataset\n",
    "#  - In this example, Corine Land Cover will be used\n",
    "#  - in this case, roughness lengths are taken from the suggestions by Silva et al.\n",
    "#    \"Roughness Length Classification Of Corine Land Cover Classes\". 2007\n",
    "\n",
    "roughness = rk.wind.roughness_from_clc(\n",
    "    clc_path=rk.TEST_DATA['clc-aachen_clipped.tif'],\n",
    "    loc=location)\n",
    "\n",
    "print(\"Estimated roughness is {}m\".format(roughness) )"
   ]
  },
  {
   "cell_type": "code",
   "execution_count": 5,
   "metadata": {},
   "outputs": [
    {
     "name": "stdout",
     "output_type": "stream",
     "text": [
      "2015-01-01 00:30:00+00:00    6.595749\n",
      "2015-01-01 01:30:00+00:00    6.434542\n",
      "2015-01-01 02:30:00+00:00    6.237052\n",
      "2015-01-01 03:30:00+00:00    6.085633\n",
      "2015-01-01 04:30:00+00:00    6.350049\n",
      "Name: (6.00000,50.50000), dtype: float32\n"
     ]
    }
   ],
   "source": [
    "# Apply log-law projection\n",
    "projected_windspeed = rk.wind.apply_logarithmic_profile_projection(\n",
    "    measured_wind_speed=windspeeds,\n",
    "    measured_height=50, # The MERRA dataset offers windspeeds at 50m\n",
    "    target_height=120,  # Assuming we want to project up to 120m\n",
    "    roughness=roughness)\n",
    "\n",
    "print(projected_windspeed.head())"
   ]
  },
  {
   "cell_type": "markdown",
   "metadata": {},
   "source": [
    "# Get adjusted time series for multiple locations at once"
   ]
  },
  {
   "cell_type": "code",
   "execution_count": 6,
   "metadata": {},
   "outputs": [
    {
     "data": {
      "text/html": [
       "<div>\n",
       "<style scoped>\n",
       "    .dataframe tbody tr th:only-of-type {\n",
       "        vertical-align: middle;\n",
       "    }\n",
       "\n",
       "    .dataframe tbody tr th {\n",
       "        vertical-align: top;\n",
       "    }\n",
       "\n",
       "    .dataframe thead th {\n",
       "        text-align: right;\n",
       "    }\n",
       "</style>\n",
       "<table border=\"1\" class=\"dataframe\">\n",
       "  <thead>\n",
       "    <tr style=\"text-align: right;\">\n",
       "      <th></th>\n",
       "      <th>(6.25000,51.00000)</th>\n",
       "      <th>(6.50000,51.00000)</th>\n",
       "      <th>(6.25000,50.75000)</th>\n",
       "    </tr>\n",
       "  </thead>\n",
       "  <tbody>\n",
       "    <tr>\n",
       "      <th>2015-01-01 00:30:00+00:00</th>\n",
       "      <td>6.117667</td>\n",
       "      <td>6.117667</td>\n",
       "      <td>6.117667</td>\n",
       "    </tr>\n",
       "    <tr>\n",
       "      <th>2015-01-01 01:30:00+00:00</th>\n",
       "      <td>6.147689</td>\n",
       "      <td>6.147689</td>\n",
       "      <td>6.147689</td>\n",
       "    </tr>\n",
       "    <tr>\n",
       "      <th>2015-01-01 02:30:00+00:00</th>\n",
       "      <td>6.101908</td>\n",
       "      <td>6.101908</td>\n",
       "      <td>6.101908</td>\n",
       "    </tr>\n",
       "    <tr>\n",
       "      <th>2015-01-01 03:30:00+00:00</th>\n",
       "      <td>5.905268</td>\n",
       "      <td>5.905268</td>\n",
       "      <td>5.905268</td>\n",
       "    </tr>\n",
       "    <tr>\n",
       "      <th>2015-01-01 04:30:00+00:00</th>\n",
       "      <td>5.990820</td>\n",
       "      <td>5.990820</td>\n",
       "      <td>5.990820</td>\n",
       "    </tr>\n",
       "  </tbody>\n",
       "</table>\n",
       "</div>"
      ],
      "text/plain": [
       "                           (6.25000,51.00000)  (6.50000,51.00000)  \\\n",
       "2015-01-01 00:30:00+00:00            6.117667            6.117667   \n",
       "2015-01-01 01:30:00+00:00            6.147689            6.147689   \n",
       "2015-01-01 02:30:00+00:00            6.101908            6.101908   \n",
       "2015-01-01 03:30:00+00:00            5.905268            5.905268   \n",
       "2015-01-01 04:30:00+00:00            5.990820            5.990820   \n",
       "\n",
       "                           (6.25000,50.75000)  \n",
       "2015-01-01 00:30:00+00:00            6.117667  \n",
       "2015-01-01 01:30:00+00:00            6.147689  \n",
       "2015-01-01 02:30:00+00:00            6.101908  \n",
       "2015-01-01 03:30:00+00:00            5.905268  \n",
       "2015-01-01 04:30:00+00:00            5.990820  "
      ]
     },
     "execution_count": 6,
     "metadata": {},
     "output_type": "execute_result"
    }
   ],
   "source": [
    "# Extract raw wind speed and GHI data\n",
    "locations = [(6.25,51.), (6.50,51.), (6.25,50.75)]\n",
    "\n",
    "windspeeds = src.get(\"elevated_wind_speed\", locations=locations)\n",
    "windspeeds.head()"
   ]
  },
  {
   "cell_type": "code",
   "execution_count": 7,
   "metadata": {},
   "outputs": [
    {
     "name": "stdout",
     "output_type": "stream",
     "text": [
      "Estimated roughnesses are:\n",
      "  At (6.25, 51.0): 0.5m\n",
      "  At (6.5, 51.0): 0.05m\n",
      "  At (6.25, 50.75): 0.03m\n"
     ]
    }
   ],
   "source": [
    "roughness = rk.wind.roughness_from_clc(\n",
    "    clc_path=rk.TEST_DATA['clc-aachen_clipped.tif'],\n",
    "    loc=locations, )\n",
    "\n",
    "print(\"Estimated roughnesses are:\")\n",
    "print(\"  At {}: {}m\".format(str(locations[0]), roughness[0]) )\n",
    "print(\"  At {}: {}m\".format(str(locations[1]), roughness[1]) )\n",
    "print(\"  At {}: {}m\".format(str(locations[2]), roughness[2]) )\n"
   ]
  },
  {
   "cell_type": "code",
   "execution_count": 8,
   "metadata": {},
   "outputs": [
    {
     "data": {
      "text/html": [
       "<div>\n",
       "<style scoped>\n",
       "    .dataframe tbody tr th:only-of-type {\n",
       "        vertical-align: middle;\n",
       "    }\n",
       "\n",
       "    .dataframe tbody tr th {\n",
       "        vertical-align: top;\n",
       "    }\n",
       "\n",
       "    .dataframe thead th {\n",
       "        text-align: right;\n",
       "    }\n",
       "</style>\n",
       "<table border=\"1\" class=\"dataframe\">\n",
       "  <thead>\n",
       "    <tr style=\"text-align: right;\">\n",
       "      <th></th>\n",
       "      <th>(6.25000,51.00000)</th>\n",
       "      <th>(6.50000,51.00000)</th>\n",
       "      <th>(6.25000,50.75000)</th>\n",
       "    </tr>\n",
       "  </thead>\n",
       "  <tbody>\n",
       "    <tr>\n",
       "      <th>2015-01-01 00:30:00+00:00</th>\n",
       "      <td>7.280669</td>\n",
       "      <td>6.893002</td>\n",
       "      <td>6.839614</td>\n",
       "    </tr>\n",
       "    <tr>\n",
       "      <th>2015-01-01 01:30:00+00:00</th>\n",
       "      <td>7.316399</td>\n",
       "      <td>6.926829</td>\n",
       "      <td>6.873179</td>\n",
       "    </tr>\n",
       "    <tr>\n",
       "      <th>2015-01-01 02:30:00+00:00</th>\n",
       "      <td>7.261914</td>\n",
       "      <td>6.875246</td>\n",
       "      <td>6.821995</td>\n",
       "    </tr>\n",
       "    <tr>\n",
       "      <th>2015-01-01 03:30:00+00:00</th>\n",
       "      <td>7.027892</td>\n",
       "      <td>6.653684</td>\n",
       "      <td>6.602149</td>\n",
       "    </tr>\n",
       "    <tr>\n",
       "      <th>2015-01-01 04:30:00+00:00</th>\n",
       "      <td>7.129709</td>\n",
       "      <td>6.750080</td>\n",
       "      <td>6.697798</td>\n",
       "    </tr>\n",
       "  </tbody>\n",
       "</table>\n",
       "</div>"
      ],
      "text/plain": [
       "                           (6.25000,51.00000)  (6.50000,51.00000)  \\\n",
       "2015-01-01 00:30:00+00:00            7.280669            6.893002   \n",
       "2015-01-01 01:30:00+00:00            7.316399            6.926829   \n",
       "2015-01-01 02:30:00+00:00            7.261914            6.875246   \n",
       "2015-01-01 03:30:00+00:00            7.027892            6.653684   \n",
       "2015-01-01 04:30:00+00:00            7.129709            6.750080   \n",
       "\n",
       "                           (6.25000,50.75000)  \n",
       "2015-01-01 00:30:00+00:00            6.839614  \n",
       "2015-01-01 01:30:00+00:00            6.873179  \n",
       "2015-01-01 02:30:00+00:00            6.821995  \n",
       "2015-01-01 03:30:00+00:00            6.602149  \n",
       "2015-01-01 04:30:00+00:00            6.697798  "
      ]
     },
     "execution_count": 8,
     "metadata": {},
     "output_type": "execute_result"
    }
   ],
   "source": [
    "projected_windspeed = rk.wind.apply_logarithmic_profile_projection(\n",
    "    measured_wind_speed=windspeeds,\n",
    "    measured_height=50, # The MERRA dataset offers windspeeds at 50m\n",
    "    target_height=120,  # Assuming we want to project up to 120m\n",
    "    roughness=np.array(roughness))\n",
    "\n",
    "projected_windspeed.head()"
   ]
  },
  {
   "cell_type": "code",
   "execution_count": null,
   "metadata": {},
   "outputs": [],
   "source": []
  }
 ],
 "metadata": {
  "kernelspec": {
   "display_name": "Python 3",
   "language": "python",
   "name": "python3"
  },
  "language_info": {
   "codemirror_mode": {
    "name": "ipython",
    "version": 3
   },
   "file_extension": ".py",
   "mimetype": "text/x-python",
   "name": "python",
   "nbconvert_exporter": "python",
   "pygments_lexer": "ipython3",
   "version": "3.8.2"
  }
 },
 "nbformat": 4,
 "nbformat_minor": 4
}
