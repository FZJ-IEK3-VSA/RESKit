{
 "cells": [
  {
   "cell_type": "markdown",
   "metadata": {},
   "source": [
    "# Solar PV Module Access"
   ]
  },
  {
   "cell_type": "code",
   "execution_count": 1,
   "metadata": {},
   "outputs": [],
   "source": [
    "import reskit as rk\n",
    "import pvlib"
   ]
  },
  {
   "cell_type": "code",
   "execution_count": 18,
   "metadata": {},
   "outputs": [
    {
     "output_type": "execute_result",
     "data": {
      "text/plain": [
       "                                 Technology Bifacial       STC    PTC  A_c  \\\n",
       "A10Green_Technology_A10J_S72_175  Mono-c-Si        0  175.0914  151.2  1.3   \n",
       "\n",
       "                                 Length  Width N_s I_sc_ref V_oc_ref  ...  \\\n",
       "A10Green_Technology_A10J_S72_175  1.576  0.825  72     5.17    43.99  ...   \n",
       "\n",
       "                                     a_ref   I_L_ref I_o_ref       R_s  \\\n",
       "A10Green_Technology_A10J_S72_175  1.981696  5.175703     0.0  0.316688   \n",
       "\n",
       "                                    R_sh_ref     Adjust gamma_r BIPV  \\\n",
       "A10Green_Technology_A10J_S72_175  287.102203  16.057121 -0.5072    N   \n",
       "\n",
       "                                            Version      Date  \n",
       "A10Green_Technology_A10J_S72_175  SAM 2018.11.11 r2  1/3/2019  \n",
       "\n",
       "[1 rows x 25 columns]"
      ],
      "text/html": "<div>\n<style scoped>\n    .dataframe tbody tr th:only-of-type {\n        vertical-align: middle;\n    }\n\n    .dataframe tbody tr th {\n        vertical-align: top;\n    }\n\n    .dataframe thead th {\n        text-align: right;\n    }\n</style>\n<table border=\"1\" class=\"dataframe\">\n  <thead>\n    <tr style=\"text-align: right;\">\n      <th></th>\n      <th>Technology</th>\n      <th>Bifacial</th>\n      <th>STC</th>\n      <th>PTC</th>\n      <th>A_c</th>\n      <th>Length</th>\n      <th>Width</th>\n      <th>N_s</th>\n      <th>I_sc_ref</th>\n      <th>V_oc_ref</th>\n      <th>...</th>\n      <th>a_ref</th>\n      <th>I_L_ref</th>\n      <th>I_o_ref</th>\n      <th>R_s</th>\n      <th>R_sh_ref</th>\n      <th>Adjust</th>\n      <th>gamma_r</th>\n      <th>BIPV</th>\n      <th>Version</th>\n      <th>Date</th>\n    </tr>\n  </thead>\n  <tbody>\n    <tr>\n      <th>A10Green_Technology_A10J_S72_175</th>\n      <td>Mono-c-Si</td>\n      <td>0</td>\n      <td>175.0914</td>\n      <td>151.2</td>\n      <td>1.3</td>\n      <td>1.576</td>\n      <td>0.825</td>\n      <td>72</td>\n      <td>5.17</td>\n      <td>43.99</td>\n      <td>...</td>\n      <td>1.981696</td>\n      <td>5.175703</td>\n      <td>0.0</td>\n      <td>0.316688</td>\n      <td>287.102203</td>\n      <td>16.057121</td>\n      <td>-0.5072</td>\n      <td>N</td>\n      <td>SAM 2018.11.11 r2</td>\n      <td>1/3/2019</td>\n    </tr>\n  </tbody>\n</table>\n<p>1 rows × 25 columns</p>\n</div>"
     },
     "metadata": {},
     "execution_count": 18
    }
   ],
   "source": [
    "# Access Modules from PVLib\n",
    "n = 0\n",
    "pvlib.pvsystem.retrieve_sam(\"CECMod\").T.iloc[n : n + 1]"
   ]
  },
  {
   "cell_type": "code",
   "execution_count": 19,
   "metadata": {},
   "outputs": [],
   "source": [
    "# Access Single Modules\n",
    "df_modules = pvlib.pvsystem.retrieve_sam(\"CECMod\")"
   ]
  },
  {
   "cell_type": "code",
   "execution_count": 21,
   "metadata": {},
   "outputs": [],
   "source": [
    "df_modules.T.to_csv(\n",
    "    r\"C:\\Users\\d.franzmann\\Code\\daily_tasks\\202101_04_pv_lib\\data\\raw\\CEC Modules.csv\"\n",
    ")"
   ]
  },
  {
   "cell_type": "code",
   "execution_count": null,
   "metadata": {},
   "outputs": [],
   "source": []
  }
 ],
 "metadata": {
  "kernelspec": {
   "name": "python386jvsc74a57bd0b6a2327aa1b7baf4c66c24d4e3e3c3b1547a5b9bb0f845238e0ed3a108596e65",
   "display_name": "Python 3.8.6 64-bit ('reskit': conda)"
  },
  "language_info": {
   "codemirror_mode": {
    "name": "ipython",
    "version": 3
   },
   "file_extension": ".py",
   "mimetype": "text/x-python",
   "name": "python",
   "nbconvert_exporter": "python",
   "pygments_lexer": "ipython3",
   "version": "3.8.6"
  }
 },
 "nbformat": 4,
 "nbformat_minor": 4
}