{
 "cells": [
  {
   "cell_type": "code",
   "execution_count": 2,
   "id": "d0573cd7-560e-4ba7-8116-8e4f4cc64ac5",
   "metadata": {},
   "outputs": [],
   "source": [
    "### import usefull packages\n",
    "\n",
    "import sys\n",
    "import os\n",
    "from collections import OrderedDict\n",
    "import numpy as np\n",
    "import pandas as pd\n",
    "import xarray as xr\n",
    "import sys\n",
    "import cdsapi"
   ]
  },
  {
   "cell_type": "code",
   "execution_count": 3,
   "id": "9c24496e-d8ea-43ef-8e1f-47aef9363eda",
   "metadata": {},
   "outputs": [
    {
     "name": "stdout",
     "output_type": "stream",
     "text": [
      "Directory for specified version: /fast/home/e-pena/data/weather_data/corpenicus/ERA5/raw/v01062024\n"
     ]
    }
   ],
   "source": [
    "version = \"v27062024\"\n",
    "raw_dir = os.path.expanduser(f\"~/data/weather_data/corpenicus/ERA5/raw\")\n",
    "\n",
    "version_dir = f\"{raw_dir}/{version}\"  # append with version label\n",
    "print(\"Directory for specified version:\", version_dir)"
   ]
  },
  {
   "cell_type": "markdown",
   "id": "0d9b2c63-7285-49a9-be68-9412775f7dd4",
   "metadata": {},
   "source": [
    "### Step 1: find and organize the u and v .nc vector files resulting from the ERA5 downloading script"
   ]
  },
  {
   "cell_type": "code",
   "execution_count": 23,
   "id": "a219a2f2-72d6-41ce-bbf8-d8163e4d2324",
   "metadata": {},
   "outputs": [
    {
     "name": "stdout",
     "output_type": "stream",
     "text": [
      "2  u component files found\n",
      "2018 1\n",
      "2019 1\n",
      "2  wind speed files to process\n"
     ]
    }
   ],
   "source": [
    "height = 100\n",
    "standard_name = f\"ws{height}\"\n",
    "units = \"m s-1\"\n",
    "\n",
    "assert os.path.isdir(version_dir)  # check if dir exists. if not, adapt the paths avobe\n",
    "\n",
    "nc_files = []\n",
    "\n",
    "for root, dirs, files in os.walk(version_dir):\n",
    "    for file in files:\n",
    "        if file.endswith(\".nc\"):\n",
    "            if \"100m_u_component_of_wind.nc\" in file:\n",
    "                nc_files.append(os.path.join(root, file))\n",
    "\n",
    "nc_files = sorted(nc_files)\n",
    "print(len(nc_files), \" u component files found\")\n",
    "\n",
    "year_dict = {}\n",
    "\n",
    "for u_path in nc_files:\n",
    "    year = u_path.split(\"/\")[-2]  # Extract the year from the file path\n",
    "    assert len(year) == 4\n",
    "\n",
    "    v_path = u_path.replace(\n",
    "        \"100m_u_component_of_wind.nc\", \"100m_v_component_of_wind.nc\"\n",
    "    )\n",
    "    assert os.path.isfile(v_path)\n",
    "    uv_files = (u_path, v_path)\n",
    "    if year not in year_dict:\n",
    "        year_dict[year] = [uv_files]\n",
    "    else:\n",
    "        year_dict[year].append(uv_files)\n",
    "\n",
    "\n",
    "print(len(year_dict.keys()), \" wind speed files to process: \", year_dict.keys())"
   ]
  },
  {
   "cell_type": "markdown",
   "id": "367d11d6-5d54-4de6-86d9-ce797b48285b",
   "metadata": {},
   "source": [
    "### Step 2: process the wind speed files for every year"
   ]
  },
  {
   "cell_type": "code",
   "execution_count": 25,
   "id": "56a93fcf-b6e0-4ed9-816e-eb0eb56a31cf",
   "metadata": {},
   "outputs": [
    {
     "name": "stdout",
     "output_type": "stream",
     "text": [
      "0\n",
      "processing : 2018\n",
      "reanalysis-era5-single-levels.2018.100m_u_component_of_wind.nc reanalysis-era5-single-levels.2018.100m_v_component_of_wind.nc\n",
      "saving\n",
      "Done: /storage_cluster/projects/2022_e-pena_PhD/Projects/RESkit/Paper2023/Jugit_files/ERA5/raw/v01062024/2018/reanalysis-era5-single-levels.2018.100m_wind_speed.nc\n",
      "1\n",
      "processing : 2019\n",
      "reanalysis-era5-single-levels.2019.100m_u_component_of_wind.nc reanalysis-era5-single-levels.2019.100m_v_component_of_wind.nc\n",
      "saving\n",
      "Done: /storage_cluster/projects/2022_e-pena_PhD/Projects/RESkit/Paper2023/Jugit_files/ERA5/raw/v01062024/2019/reanalysis-era5-single-levels.2019.100m_wind_speed.nc\n"
     ]
    }
   ],
   "source": [
    "for taskID in range(0, len(year_dict.keys())):\n",
    "    print(taskID)\n",
    "    sel_year = list(year_dict.keys())[taskID]\n",
    "    sel_tuples = year_dict[sel_year]\n",
    "    sel_tuples\n",
    "    output_file_name = f\"reanalysis-era5-single-levels.{sel_year}.100m_wind_speed.nc\"\n",
    "    year_output = os.path.join(\n",
    "        version_dir, sel_year, output_file_name\n",
    "    )  # addapt if necessary\n",
    "    assert os.path.isdir(\n",
    "        os.path.dirname(year_output)\n",
    "    )  # check that the output directory exists\n",
    "\n",
    "    if os.path.isfile(year_output):\n",
    "        print(\"already processed: checking it..\", end=\" \")\n",
    "        try:\n",
    "            print(\"opening it\")\n",
    "            year_ds = xr.open_dataset(year_output)\n",
    "            print(\"correct\")\n",
    "        except:\n",
    "            print(year_output, \"is incorrect.\", end=\" \")\n",
    "            os.remove(year_output)\n",
    "            print(\"Deleted\")\n",
    "\n",
    "    if not os.path.isfile(year_output):\n",
    "        print(\"processing :\", sel_year)\n",
    "\n",
    "        for tuple in sel_tuples:\n",
    "            u_file, v_file = tuple\n",
    "            print(os.path.basename(u_file), os.path.basename(v_file))\n",
    "            long_name = f\"Total wind speed at {height} m. Processed from ERA5: {u_file}, {v_file}\"\n",
    "\n",
    "            # Open the datasets\n",
    "            ds_u = xr.open_dataset(u_file)\n",
    "            ds_v = xr.open_dataset(v_file)\n",
    "\n",
    "            # Extract u and v component data\n",
    "            data_u = ds_u[f\"u{height}\"][:]\n",
    "            data_v = ds_v[f\"v{height}\"][:]\n",
    "\n",
    "            # Calculate total wind speed\n",
    "            data_uv = np.sqrt(np.power(data_u, 2) + np.power(data_v, 2))\n",
    "\n",
    "            ds_u.close()\n",
    "            ds_v.close()\n",
    "            data_u.close()\n",
    "            data_v.close()\n",
    "\n",
    "            atts_dict = {\n",
    "                \"standard_name\": standard_name,\n",
    "                \"long_name\": long_name,\n",
    "                \"units\": units,\n",
    "            }\n",
    "            ds_uv = xr.Dataset({standard_name: data_uv})\n",
    "            ds_uv = ds_uv.assign_attrs(atts_dict)\n",
    "\n",
    "            print(\"saving\")\n",
    "\n",
    "            ds_uv.to_netcdf(year_output)\n",
    "            print(\"Done:\", year_output)\n",
    "            ds_uv.close()"
   ]
  },
  {
   "cell_type": "code",
   "execution_count": 22,
   "id": "3d81b397-cfae-4d24-a068-44d4e7ae23a8",
   "metadata": {},
   "outputs": [
    {
     "data": {
      "text/plain": [
       "'/storage_cluster/projects/2022_e-pena_PhD/Projects/RESkit/Paper2023/Jugit_files/ERA5/raw/v01062024/reanalysis-era5-single-levels.2018.100m_u_component_of_wind.nc'"
      ]
     },
     "execution_count": 22,
     "metadata": {},
     "output_type": "execute_result"
    }
   ],
   "source": [
    "os.path.dirname(year_output)"
   ]
  },
  {
   "cell_type": "code",
   "execution_count": null,
   "id": "1929dcf0-e210-41d8-812a-22350f275c1c",
   "metadata": {},
   "outputs": [],
   "source": []
  }
 ],
 "metadata": {
  "kernelspec": {
   "display_name": "Python 3 (ipykernel)",
   "language": "python",
   "name": "python3"
  },
  "language_info": {
   "codemirror_mode": {
    "name": "ipython",
    "version": 3
   },
   "file_extension": ".py",
   "mimetype": "text/x-python",
   "name": "python",
   "nbconvert_exporter": "python",
   "pygments_lexer": "ipython3",
   "version": "3.10.13"
  }
 },
 "nbformat": 4,
 "nbformat_minor": 5
}
